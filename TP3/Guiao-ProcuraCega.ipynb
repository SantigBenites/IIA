{
 "cells": [
  {
   "cell_type": "markdown",
   "metadata": {},
   "source": [
    "# Introdução à Inteligência Artificial (2021/2022)\n",
    "## Procura Cega (não informada)\n",
    "\n",
    "Nesta aula vamos ver mais alguns aspetos relacionados com a resolução de problemas de acordo com o Paradigma do Espaço de Estados, usando a implementação disponibilizada pelo módulo searchPlus.py, introduzido na aula anterior.\n",
    "\n",
    "Lembremos que para resolver um problema segundo o paradigma do espaço de estados, teremos que:\n",
    "\n",
    "\n",
    "1.   Definir o problema em termos de estados e operadores (com os custos), definir o estado inicial e a condição para ser final.\n",
    "2.   Utilizar um algoritmo de procura para o resolver.\n",
    "\n",
    "Na aula anteiror tratámos da modelização de um problema em termos de estados e de operadores. Nesta aula, vamos ver como estão implementados e como poderemos utilizar os diferentes algoritmos de procura, os \"cegos\" ou \"não informados\", alguns deles garantem soluções de menor custo, outros nem por isso.\n",
    "\n",
    "## Conteúdo\n",
    "    A classe Node (essencial na procura)\n",
    "    Algoritmos de Procura tipo Árvore\n",
    "        Profundidade Primeiro\n",
    "        Largura Primeiro\n",
    "        Aprofundamento Progressivo\n",
    "    Algoritmos de Procura tipo Grafo\n",
    "        Produndidade Primeiro\n",
    "        Largura Primeiro\n",
    "        Custo Uniforme\n",
    "\n",
    "Vamos então experimentar os vários algoritmos de procura, começando por usar um espaço de estados correspondente a um grafo abstracto."
   ]
  },
  {
   "cell_type": "markdown",
   "metadata": {},
   "source": [
    "## Grafo com custos heterogéneos\n",
    "Considere o grafo na figura em baixo, com custos heterogéneos. Optimizar não significa uma solução no menor número de acções, porque há diferentes custos para as acções, optimizar é encontrar uma das soluções de menor custo acumulado, entre o estado inicial I e o final F. No grafo em baixo, a solução óptima corresponde a ir de A para D e depois para F ou ir de A para B, depois para D e finalmente para F. Há duas soluções óptimas."
   ]
  },
  {
   "cell_type": "markdown",
   "metadata": {},
   "source": [
    "<img src=\"Figuras\\figura-ee-T-2.png\" alt=\"Drawing\" style=\"width: 300px;\"/>"
   ]
  },
  {
   "cell_type": "markdown",
   "metadata": {},
   "source": [
    "### Modelização\n",
    "Neste caso uma letra serve para representar os estados. Num dicionário teremos explicitamente representados todos os estados e operadores do espaço de estados.\n",
    "Vamos para a definição da classe que modeliza o problema, introduzida na aula anterior:"
   ]
  },
  {
   "cell_type": "code",
   "execution_count": 2,
   "metadata": {},
   "outputs": [],
   "source": [
    "from searchPlus import *\n",
    "\n",
    "class ProblemaGrafoCustos(Problem) :\n",
    "    \n",
    "\n",
    "    def __init__(self,initial = 'I', final = 'F',grafo = {'I':{'A':2,'B':5},\n",
    "             'A':{'C':2,'D':4,'I':2},\n",
    "             'B':{'D':1,'F':5,'I':5},\n",
    "             'C':{},\n",
    "             'D':{'C':3,'F':2},\n",
    "             'F':{}}) :\n",
    "        super().__init__(initial,final)\n",
    "        self.grafo = grafo\n",
    "        \n",
    "    def actions(self,estado) :\n",
    "        sucessores = self.grafo[estado].keys()  # métodos keys() devolve a lista das chaves do dicionário\n",
    "        accoes = list(map(lambda x : \"ir de {} para {}\".format(estado,x),sucessores))\n",
    "        return accoes\n",
    "\n",
    "    def result(self, estado, accao) :\n",
    "        \"\"\"Assume-se que uma acção é da forma 'ir de X para Y'\n",
    "        \"\"\"\n",
    "        return accao.split()[-1]\n",
    "    \n",
    "    def path_cost(self, c, state1, action, state2):\n",
    "        return c + self.grafo[state1][state2]"
   ]
  },
  {
   "cell_type": "markdown",
   "metadata": {
    "colab_type": "text",
    "id": "FjkymD_czL2l"
   },
   "source": [
    "Comecemos por criar uma instância da classe do problema e mostrar o grafo e o estado inicial."
   ]
  },
  {
   "cell_type": "code",
   "execution_count": 3,
   "metadata": {
    "colab": {
     "base_uri": "https://localhost:8080/",
     "height": 34
    },
    "colab_type": "code",
    "executionInfo": {
     "elapsed": 623,
     "status": "ok",
     "timestamp": 1538853312991,
     "user": {
      "displayName": "Paulo Urbano",
      "photoUrl": "",
      "userId": "11091263212854737306"
     },
     "user_tz": -60
    },
    "id": "DjZ5zsTuzXXX",
    "outputId": "4539549d-9e76-43c1-8421-d5affc97d9e6"
   },
   "outputs": [
    {
     "name": "stdout",
     "output_type": "stream",
     "text": [
      "I\n",
      "{'I': {'A': 2, 'B': 5}, 'A': {'C': 2, 'D': 4, 'I': 2}, 'B': {'D': 1, 'F': 5, 'I': 5}, 'C': {}, 'D': {'C': 3, 'F': 2}, 'F': {}}\n"
     ]
    }
   ],
   "source": [
    "p = ProblemaGrafoCustos()\n",
    "print(p.initial)\n",
    "print(p.grafo)  # adiciconado por PU (mostrar grafo)"
   ]
  },
  {
   "cell_type": "markdown",
   "metadata": {},
   "source": [
    "## Procura tipo árvore (*tree-like*)"
   ]
  },
  {
   "cell_type": "markdown",
   "metadata": {},
   "source": [
    "### Largura-Primeiro\n",
    "Vamos executar uma procura em largura primeiro que dá preferência aos nós da fronteira que estejam mais à superfície (menor número de acções) e que nos dará uma solução óptima em termos do número de acções, e não em termos do custo. Só garante a optimalidade quando os custos são homogéneos, o que não é o caso.\n",
    "A procura em largura primeiro, na versão tipo árvore, não entra em ciclo porque precisamente varre os estados em largura: primeiro explora todos os estados à distância de uma acção do estado inicial, depois todos os estados à distância de duas acções do estado inicial, etc. etc., escapando a um ciclo infinito desde que haja uma solução.\n",
    "<br>Notem que neste grafo, há arcos bidireccionais o que faz com que possamos encontrar dois estados iguais no mesmo ramo: será o caso de I - A - I - A .... por exemplo"
   ]
  },
  {
   "cell_type": "code",
   "execution_count": 4,
   "metadata": {},
   "outputs": [],
   "source": [
    "resultado = breadth_first_tree_search(p)"
   ]
  },
  {
   "cell_type": "markdown",
   "metadata": {},
   "source": [
    "Os algoritmos de procura devolvem sempre um objecto da classe **Node** que satisfaz o **goal_test**. É a partir desse ***Node*** que se obtém a solução: a lista de acções que nos leva do estado inicial ao final.\n",
    "Para obtermos a solução, teremos de aplicar o método **solution**. Mais abaixo, olharemos com mais cuidado para essa classe e para os seus atributos e métodos."
   ]
  },
  {
   "cell_type": "code",
   "execution_count": 5,
   "metadata": {},
   "outputs": [
    {
     "name": "stdout",
     "output_type": "stream",
     "text": [
      "['ir de I para B', 'ir de B para F']\n"
     ]
    }
   ],
   "source": [
    "print(resultado.solution())"
   ]
  },
  {
   "cell_type": "markdown",
   "metadata": {},
   "source": [
    "### Casos em que não há solução\n",
    "\n",
    "Neste grafo, não há solução a partir do estado C.\n",
    "\n",
    "Vejamos o que acontece se invocarmos um dos algoritmos de procura a partir de C:"
   ]
  },
  {
   "cell_type": "code",
   "execution_count": 6,
   "metadata": {},
   "outputs": [
    {
     "ename": "AttributeError",
     "evalue": "'NoneType' object has no attribute 'solution'",
     "output_type": "error",
     "traceback": [
      "\u001b[1;31m---------------------------------------------------------------------------\u001b[0m",
      "\u001b[1;31mAttributeError\u001b[0m                            Traceback (most recent call last)",
      "\u001b[1;32m<ipython-input-6-6b7437396512>\u001b[0m in \u001b[0;36m<module>\u001b[1;34m\u001b[0m\n\u001b[0;32m      1\u001b[0m \u001b[0mp\u001b[0m \u001b[1;33m=\u001b[0m \u001b[0mProblemaGrafoCustos\u001b[0m\u001b[1;33m(\u001b[0m\u001b[1;34m'C'\u001b[0m\u001b[1;33m)\u001b[0m\u001b[1;33m\u001b[0m\u001b[1;33m\u001b[0m\u001b[0m\n\u001b[0;32m      2\u001b[0m \u001b[0mresultado\u001b[0m \u001b[1;33m=\u001b[0m \u001b[0mbreadth_first_tree_search\u001b[0m\u001b[1;33m(\u001b[0m\u001b[0mp\u001b[0m\u001b[1;33m)\u001b[0m\u001b[1;33m\u001b[0m\u001b[1;33m\u001b[0m\u001b[0m\n\u001b[1;32m----> 3\u001b[1;33m \u001b[0mprint\u001b[0m\u001b[1;33m(\u001b[0m\u001b[0mresultado\u001b[0m\u001b[1;33m.\u001b[0m\u001b[0msolution\u001b[0m\u001b[1;33m(\u001b[0m\u001b[1;33m)\u001b[0m\u001b[1;33m)\u001b[0m\u001b[1;33m\u001b[0m\u001b[1;33m\u001b[0m\u001b[0m\n\u001b[0m",
      "\u001b[1;31mAttributeError\u001b[0m: 'NoneType' object has no attribute 'solution'"
     ]
    }
   ],
   "source": [
    "p = ProblemaGrafoCustos('C')\n",
    "resultado = breadth_first_tree_search(p)\n",
    "print(resultado.solution())"
   ]
  },
  {
   "cell_type": "markdown",
   "metadata": {},
   "source": [
    "Quando não há solução o resultado é do tipo ***None***.\n",
    "Convém invocar o método **solution** apenas quando se encontrar uma solução:"
   ]
  },
  {
   "cell_type": "code",
   "execution_count": 7,
   "metadata": {},
   "outputs": [
    {
     "name": "stdout",
     "output_type": "stream",
     "text": [
      "Sem solução!!!!\n"
     ]
    }
   ],
   "source": [
    "if resultado:\n",
    "    print(\"Solução, com custo \",resultado.path_cost)\n",
    "    for x in resultado.solution():\n",
    "        print(\"  \" + x)\n",
    "else:\n",
    "    print(\"Sem solução!!!!\")"
   ]
  },
  {
   "cell_type": "markdown",
   "metadata": {},
   "source": [
    "### Profundidade-Primeiro\n",
    "O algoritmo de profundidade primeiro, dá preferência aos nós da fronteira que estejam mais afastados da raíz (maior número de acções). Se executarmos a procura em profundidade para o grafo em cima, entraremos em ciclo, porque este método de procura não faz controlo de ciclos. O último sucessor de I é B e o último sucessor de B é I, gerando um ciclo. (No caso da implementação da profundidade primeiro, a ordem dos sucessores é invertida na fronteira, como verão mais abaixo).\n",
    "\n",
    "Notem que a procura em profundidade primeiro quando devolve uma solução não garante que ela seja a de menor custo, não sendo optimal. Só garante a solução óptima se todas as soluções estiverem à mesma profundidade.\n",
    "\n",
    "Recomecemos de novo criando uma nova instância do problema e apliquemos a profundidade. Descomentem o código e corram, mas cuidado que vai entrar em ciclo.\n",
    "\n",
    "Depois de confirmarem que está em ciclo, seleccionem **Kernel** e **Interrupt**."
   ]
  },
  {
   "cell_type": "code",
   "execution_count": 8,
   "metadata": {},
   "outputs": [],
   "source": [
    "# p = ProblemaGrafoCustos()\n",
    "# resultado = depth_first_tree_search(p)\n",
    "# print(resultado.solution())"
   ]
  },
  {
   "cell_type": "markdown",
   "metadata": {},
   "source": [
    "Vamos eliminar os ciclos do grafo, tornando os arcos bidireccionais {I <-> A e I <-> B} em unidireccionais: {I -> A e I -> B}. Vamos, assim criar um novo problema e invocar de novo a procura em profundidade-primeiro tipo árvore, que, por acaso, dá a mesma solução que a largura."
   ]
  },
  {
   "cell_type": "code",
   "execution_count": 9,
   "metadata": {},
   "outputs": [],
   "source": [
    "safe={'I':{'A':2,'B':5},'A':{'C':2,'D':4},'B':{'D':1,'F':5},'C':{},'D':{'C':3,'F':2},'F':{}}"
   ]
  },
  {
   "cell_type": "code",
   "execution_count": 10,
   "metadata": {},
   "outputs": [
    {
     "name": "stdout",
     "output_type": "stream",
     "text": [
      "['ir de I para B', 'ir de B para F']\n"
     ]
    }
   ],
   "source": [
    "ui=ProblemaGrafoCustos(grafo=safe)\n",
    "resultado = depth_first_tree_search(ui)\n",
    "print(resultado.solution())"
   ]
  },
  {
   "cell_type": "markdown",
   "metadata": {},
   "source": [
    "Mais abaixo iremos perceber melhor porque é que o método **depth_first_tree_search** não respeita a ordem das acções definida no dicionário, invertendo-a."
   ]
  },
  {
   "cell_type": "markdown",
   "metadata": {},
   "source": [
    "### A árvore de procura e a classe Node\n",
    "A procura desenvolve-se numa árvore de procura formada por nós (objectos da classe ***Node***). Uma coisa são os estados do espaço de estados, os nós de um grafo, outra coisa, completamente diferente, são os nós da árvore de procura. A cada nó corresponde um estado, mas nós diferentes podem corresponder ao mesmo estado, porque pode haver vários caminhos entre o estado inicial e um determinado estado.\n",
    "\n",
    "#### Atributos\n",
    "Vejemos os atributos da classe Node e o seu construtor:\n",
    "\n",
    "    parent:o objecto node pai (o objecto node de quem é sucessor);\n",
    "    state: o estado;\n",
    "    Notem que se chegámos ao mesmo estado através de dois ramos diferentes, então existem dois Nodes com o mesmo estado.\n",
    "    action: a acção que nos trouxe até este estado\n",
    "    path_cost: o custo total do ramo (caminho desde a origem até este estado).\n",
    "    \n",
    "Vejemos o construtor\n",
    "\n",
    "```python\n",
    "def __init__(self, state, parent=None, action=None, path_cost=0):\n",
    "        \"\"\"Create a search tree Node, derived from a parent by an action.\"\"\"\n",
    "        self.state = state\n",
    "        self.parent = parent\n",
    "        self.action = action\n",
    "        self.path_cost = path_cost\n",
    "        self.depth = 0\n",
    "        if parent:\n",
    "            self.depth = parent.depth + 1\n",
    "```"
   ]
  },
  {
   "cell_type": "markdown",
   "metadata": {},
   "source": [
    "Qualquer árvore de procura vai iniciar-se com a fronteira constituída apenas pela sua raíz, um objecto da classe **Node** com o estado inicial, sem **parent**, sem **action** e com o **path_cost** a 0. Esse nó só recebe um parâmetro, que é o estado e os restantes atributos ficarão com os valores por omissão.\n",
    "\n",
    "Vamos construir um **Node** correspondente à raíz da árvore de procura, com o estado inicial:"
   ]
  },
  {
   "cell_type": "code",
   "execution_count": 11,
   "metadata": {},
   "outputs": [
    {
     "name": "stdout",
     "output_type": "stream",
     "text": [
      "<Node I>\n"
     ]
    }
   ],
   "source": [
    "raiz=Node(ui.initial)\n",
    "print(raiz)"
   ]
  },
  {
   "cell_type": "markdown",
   "metadata": {},
   "source": [
    "Vamos mostrar o conteúdo desse nó:"
   ]
  },
  {
   "cell_type": "code",
   "execution_count": 12,
   "metadata": {},
   "outputs": [
    {
     "name": "stdout",
     "output_type": "stream",
     "text": [
      "Estado: I\n",
      "Acção: None\n",
      "Nó pai: None\n",
      "Custo do caminho: 0\n"
     ]
    }
   ],
   "source": [
    "print(\"Estado:\",raiz.state)\n",
    "print(\"Acção:\",raiz.action)\n",
    "print(\"Nó pai:\",raiz.parent)\n",
    "print(\"Custo do caminho:\",raiz.path_cost)"
   ]
  },
  {
   "cell_type": "markdown",
   "metadata": {},
   "source": [
    "Notem mais uma vez que qualquer objecto da classe **Node** corresponde a um ramo da árvore de procura. O seu atributo **state** corresponde ao estado folha desse caminho, mais longe da raíz. Para ir trepando pelo ramo, (de ***parent*** em ***parent***) e poder obtermos todos os estados do ramo ou a sequência de acções, até à raíz, existem os métodos **path** e **solution**."
   ]
  },
  {
   "cell_type": "markdown",
   "metadata": {},
   "source": [
    "Se os aplicarmos ao nó raíz, obtemos, um caminho só com o nó raíz e uma lista vazia de acções:"
   ]
  },
  {
   "cell_type": "code",
   "execution_count": 13,
   "metadata": {},
   "outputs": [
    {
     "name": "stdout",
     "output_type": "stream",
     "text": [
      "[<Node I>]\n",
      "[]\n"
     ]
    }
   ],
   "source": [
    "print(raiz.path())\n",
    "print(raiz.solution())"
   ]
  },
  {
   "cell_type": "markdown",
   "metadata": {},
   "source": [
    "Mas se os aplicarmos ao nó devolvido pelos algoritmos de procura, que guarámos na variável **resultado**, em que o estado corresponde a um estado final, obteremos a solução do problema."
   ]
  },
  {
   "cell_type": "code",
   "execution_count": 14,
   "metadata": {},
   "outputs": [
    {
     "name": "stdout",
     "output_type": "stream",
     "text": [
      "Solução: ['ir de I para B', 'ir de B para F']\n",
      "Ramo: [<Node I>, <Node B>, <Node F>]\n"
     ]
    }
   ],
   "source": [
    "print(\"Solução:\",resultado.solution())\n",
    "print(\"Ramo:\",resultado.path())"
   ]
  },
  {
   "cell_type": "markdown",
   "metadata": {},
   "source": [
    "Vamos inspeccionar os métodos **solution** e **path**."
   ]
  },
  {
   "cell_type": "markdown",
   "metadata": {},
   "source": [
    "``` python\n",
    "    def solution(self):\n",
    "        \"\"\"Return the sequence of actions to go from the root to this node.\"\"\"\n",
    "        return [node.action for node in self.path()[1:]]\n",
    "\n",
    "    def path(self):\n",
    "        \"\"\"Return a list of nodes forming the path from the root to this node.\"\"\"\n",
    "        node, path_back = self, []\n",
    "        while node:\n",
    "            path_back.append(node)\n",
    "            node = node.parent\n",
    "        return list(reversed(path_back))\n",
    "```\n",
    "Notem que o método **path** vai recolhendo numa lista os nós desde a folha, subindo pelo atributo **parent**, e depois essa lista é invertida.\n",
    "\n",
    "O método **solution** devolve numa lista a acção para cada nó que faz parte da lista devolvida por **path**, ignorando a primeira acção que é **None**."
   ]
  },
  {
   "cell_type": "markdown",
   "metadata": {},
   "source": [
    "Continuemos. \n",
    "Vamos devolver uma solução mais **pretty**, que nos devolve também o custo total além das acções, fazendo uso do atributo **path_cost** da classe **Node**."
   ]
  },
  {
   "cell_type": "code",
   "execution_count": 15,
   "metadata": {},
   "outputs": [
    {
     "name": "stdout",
     "output_type": "stream",
     "text": [
      "Solução, com custo  10\n",
      "  ir de I para B\n",
      "  ir de B para F\n"
     ]
    }
   ],
   "source": [
    "print(\"Solução, com custo \",resultado.path_cost)\n",
    "for x in resultado.solution():\n",
    "    print(\"  \" + x)"
   ]
  },
  {
   "cell_type": "markdown",
   "metadata": {},
   "source": [
    "#### Exercício 1\n",
    "Desenvolvam o código para devolver não só a sequência das acções, mas indiquem o estado inicial e final e também os custos de cada acção e o custo final:\n",
    "\n",
    "Solução, com custo  10\n",
    "  \n",
    "  Começamos em I\n",
    "  \n",
    "  ir de I para B (5)\n",
    "  \n",
    "  ir de B para F (5)\n",
    "  \n",
    "  F satisfaz o objectivo"
   ]
  },
  {
   "cell_type": "code",
   "execution_count": 30,
   "metadata": {},
   "outputs": [
    {
     "name": "stdout",
     "output_type": "stream",
     "text": [
      "[<Node I>, <Node B>, <Node F>]\n",
      "10\n",
      "I\n",
      "None\n",
      "ir de I para B\n",
      "ir de B para F\n",
      "False\n",
      "True\n",
      "False\n"
     ]
    }
   ],
   "source": [
    "# Resolução do exercício 1\n",
    "def PathCreate(p):\n",
    "    \n",
    "    queue = []\n",
    "    queue.append(Node(p.initial))\n",
    "    visited = []\n",
    "    \n",
    "    while queue:\n",
    "        node = queue.pop()\n",
    "        if p.goal_test(node.state):\n",
    "            visited.append(node)\n",
    "            return visited\n",
    "        elif node not in visited:\n",
    "            queue.extend(node.expand(p))\n",
    "            visited.append(node)\n",
    "    return None\n",
    "\n",
    "p = ProblemaGrafoCustos()\n",
    "path = PathCreate(p)\n",
    "print(path)\n",
    "print(path[-1].path_cost)\n",
    "print(p.initial)\n",
    "for node in path:\n",
    "    print(node.action)\n"
   ]
  },
  {
   "cell_type": "markdown",
   "metadata": {},
   "source": [
    "Regressemos à árvore formada apenas pela raíz, o nó com o estado inicial do problema do grafo, I."
   ]
  },
  {
   "cell_type": "code",
   "execution_count": 17,
   "metadata": {},
   "outputs": [
    {
     "data": {
      "text/plain": [
       "<Node I>"
      ]
     },
     "execution_count": 17,
     "metadata": {},
     "output_type": "execute_result"
    }
   ],
   "source": [
    "raiz"
   ]
  },
  {
   "cell_type": "markdown",
   "metadata": {},
   "source": [
    "Se quisermos expandir um nó, que vai criar uma lista de novos nós, em que os estados desses nós serão os sucessores do nó referido, pela ordem das acções, usaremos o método **expand** da classe **Node**, que recebe como argumento a instância do problema. Notem que esse método é que fará uso dos métodos implicados na formulação do problema em concreto: **actions**, **result** e **path_cost**.\n",
    "Vamos então expandir a raíz da árvore, que acabámos de criar."
   ]
  },
  {
   "cell_type": "code",
   "execution_count": 18,
   "metadata": {},
   "outputs": [
    {
     "name": "stdout",
     "output_type": "stream",
     "text": [
      "[<Node A>, <Node B>]\n"
     ]
    }
   ],
   "source": [
    "novos = raiz.expand(p)\n",
    "print(novos)"
   ]
  },
  {
   "cell_type": "markdown",
   "metadata": {},
   "source": [
    "Vamos inspeccionar os novos nós."
   ]
  },
  {
   "cell_type": "code",
   "execution_count": 19,
   "metadata": {},
   "outputs": [
    {
     "name": "stdout",
     "output_type": "stream",
     "text": [
      "Primeiro sucessor:\n",
      "estado = A\n",
      "pai= <Node I>\n",
      "accao = ir de I para A\n",
      "custo do caminho = 2\n",
      "\n",
      "Segundo sucessor:\n",
      "estado = B\n",
      "pai= <Node I>\n",
      "accao = ir de I para B\n",
      "custo do caminho = 5\n"
     ]
    }
   ],
   "source": [
    "prim=novos[0]\n",
    "print(\"Primeiro sucessor:\")\n",
    "print(\"estado =\",prim.state)\n",
    "print(\"pai=\",prim.parent)\n",
    "print(\"accao =\",prim.action)\n",
    "print(\"custo do caminho =\",prim.path_cost)\n",
    "seg=novos[1]\n",
    "print(\"\\nSegundo sucessor:\")\n",
    "print(\"estado =\",seg.state)\n",
    "print(\"pai=\",seg.parent)\n",
    "print(\"accao =\",seg.action)\n",
    "print(\"custo do caminho =\",seg.path_cost)"
   ]
  },
  {
   "cell_type": "markdown",
   "metadata": {},
   "source": [
    "Reparem que os nós sucessores ficaram ligados ao nó pai **Node I**, os custos foram actualizados e a última acção de cada um deles foi guardada."
   ]
  },
  {
   "cell_type": "markdown",
   "metadata": {},
   "source": [
    "Vejam o código do método **expand** que faz uso dos métodos da classe **Problem** ou neste caso da classe **ProblemaGrafoCustos**: **actions**, **result** e **path_cost**, que aplica ao seu estado a lista de acções, gerando para cada acção , o novo nó sucessor aplicando o método **child_node**, e devolve a lista desses nós sucessores."
   ]
  },
  {
   "cell_type": "markdown",
   "metadata": {},
   "source": [
    "``` python\n",
    "    def expand(self, problem):\n",
    "        \"\"\"List the nodes reachable in one step from this node.\"\"\"\n",
    "        return [self.child_node(problem, action)\n",
    "                for action in problem.actions(self.state)]\n",
    "```"
   ]
  },
  {
   "cell_type": "markdown",
   "metadata": {},
   "source": [
    "Vejam o método ***child_node()*** que gera o estado que resulta da acção e cria o novo **Node**, preenchendo os atributos."
   ]
  },
  {
   "cell_type": "markdown",
   "metadata": {},
   "source": [
    "``` python\n",
    "    def child_node(self, problem, action):\n",
    "        next = problem.result(self.state, action)\n",
    "        return Node(next, self, action,\n",
    "                    problem.path_cost(self.path_cost, self.state,\n",
    "                                      action, next))\n",
    "```"
   ]
  },
  {
   "cell_type": "markdown",
   "metadata": {},
   "source": [
    "#### Exercício 2 \n",
    "Expandam o nó B, o segundo dos sucessores do nó I, e mostrem os atributos dos seus sucessores, através de um ciclo for, testando também se qualquer deles é final através do uso do método **goal_test**, herdado da classe **Problem**."
   ]
  },
  {
   "cell_type": "code",
   "execution_count": 31,
   "metadata": {},
   "outputs": [
    {
     "name": "stdout",
     "output_type": "stream",
     "text": [
      "False\n",
      "True\n",
      "False\n"
     ]
    }
   ],
   "source": [
    "## resolução do exercício 2\n",
    "for nodes in path[1].expand(p) :\n",
    "    print(p.goal_test(nodes.state))\n"
   ]
  },
  {
   "cell_type": "markdown",
   "metadata": {},
   "source": [
    "### Algoritmo genérico para a largura-primeiro e para a profundidade-primeiro\n",
    "Os algoritmos de procura em profundidade e largura, que recebem como argumento a instância do problema, invocam ambos o método **tree_search**, passando-lhe o problema e a fronteira da árvore de procura, inicialmente vazia. No caso da profundidade usa-se uma pilha, no caso da largura usa-se uma fila para a fronteira, passadas ambas vazias. No fundo os algoritmos são iguais excepto a estrutura de dados onde se guarda a fronteira da procura (estados visitados mas não expandidos).\n",
    "\n",
    "```python\n",
    "def breadth_first_tree_search(problem):\n",
    "    \"\"\"Search the shallowest nodes in the search tree first.\"\"\"\n",
    "    return tree_search(problem, FIFOQueue())\n",
    "\n",
    "\n",
    "def depth_first_tree_search(problem):\n",
    "    \"\"\"Search the deepest nodes in the search tree first.\"\"\"\n",
    "    return tree_search(problem, Stack())\n",
    "```"
   ]
  },
  {
   "cell_type": "markdown",
   "metadata": {},
   "source": [
    "Olhemos com algum detalhe para o método **tree_search**."
   ]
  },
  {
   "cell_type": "markdown",
   "metadata": {},
   "source": [
    "``` python\n",
    "def tree_search(problem, frontier):\n",
    "    frontier.append(Node(problem.initial))\n",
    "    while frontier:\n",
    "        node = frontier.pop()\n",
    "        if problem.goal_test(node.state):\n",
    "            return node\n",
    "        frontier.extend(node.expand(problem))\n",
    "    return None\n",
    "```"
   ]
  },
  {
   "cell_type": "markdown",
   "metadata": {},
   "source": [
    "O **tree_search** recebe dois parâmetros: o problema e a fronteira inicial que está vazia.\n",
    "    1. Inicialmente é adicionada à fronteira vazia um objecto da classe **Node** formado a partir do estado inicial obtido do problema.\n",
    "    2. Enquanto a fronteira não for vazia:\n",
    "        2a. Retira o primeiro da fronteira (no caso da pilha ou da fila, o primeiro varia)\n",
    "        2b. se satisfaz o objectivo devolve, senão expande o nó retirado e estende a fronteira com os novos nós (sucessores)\n",
    "    3. Se não saiu antes é porque não há solução, (a fronteira está vazia) devolve None -  o espaço de estados foi esgotado\n",
    "    \n",
    "Expande-se a fronteira com os novos **Nodes** que resultam da aplicação das acções ao estado do **Node** que foi retirado da fronteira. Reparem que tanto a classe **Stack** como **FIFOQueue** possuem os métodos **pop**, **append** e **extend**. "
   ]
  },
  {
   "cell_type": "markdown",
   "metadata": {},
   "source": [
    "A classe **Stack** corresponde a uma lista e os elementos são retirados do fim da lista com **pop**, inseridos no fim com o **append** e duas pilhas são concatenadas com **extend**."
   ]
  },
  {
   "cell_type": "markdown",
   "metadata": {},
   "source": [
    "Vamos brincar com a **Stack**"
   ]
  },
  {
   "cell_type": "code",
   "execution_count": 21,
   "metadata": {},
   "outputs": [
    {
     "name": "stdout",
     "output_type": "stream",
     "text": [
      "Tipo= <class 'list'>\n",
      "[1]\n",
      "[1, 2]\n",
      "[1]\n"
     ]
    }
   ],
   "source": [
    "x = Stack()\n",
    "print(\"Tipo=\",type(x))\n",
    "x.append(1)\n",
    "print(x)\n",
    "x.append(2)\n",
    "print(x)\n",
    "x.pop()\n",
    "print(x)"
   ]
  },
  {
   "cell_type": "code",
   "execution_count": 22,
   "metadata": {},
   "outputs": [
    {
     "name": "stdout",
     "output_type": "stream",
     "text": [
      "[1, 10, 11, 12]\n",
      "[1, 10, 11]\n"
     ]
    }
   ],
   "source": [
    "x.extend([10,11,12])\n",
    "print(x)\n",
    "x.pop()\n",
    "print(x)"
   ]
  },
  {
   "cell_type": "markdown",
   "metadata": {},
   "source": [
    "O **FIFOQueue** é uma classe que tem um atributo **queue** que é da classe **deque**, no módulo collections que é uma fila \"double-ended\" na qual os elementos podem ser tanto inseridos como apagados de ambas as pontas da fila.\n",
    "<br><br>Brinquemos agora com a **FIFOQueue** e **deque**"
   ]
  },
  {
   "cell_type": "code",
   "execution_count": 23,
   "metadata": {},
   "outputs": [
    {
     "name": "stdout",
     "output_type": "stream",
     "text": [
      "deque([])\n",
      "<class 'utils.FIFOQueue'>\n",
      "Adicionemos 2:\n",
      "deque([2])\n",
      "Concatenemos com [5,6,7]\n",
      "deque([2, 5, 6, 7])\n",
      "Façamos pop:\n",
      "deque([5, 6, 7])\n",
      "Adicionemos 20:\n",
      "deque([5, 6, 7, 20])\n"
     ]
    }
   ],
   "source": [
    "f = FIFOQueue()\n",
    "print(f.queue)\n",
    "print(type(f))\n",
    "print('Adicionemos 2:')\n",
    "f.append(2)\n",
    "print(f.queue)\n",
    "print('Concatenemos com [5,6,7]')\n",
    "f.extend([5,6,7])\n",
    "print(f.queue)\n",
    "print('Façamos pop:')\n",
    "z=f.pop()\n",
    "print(f.queue)\n",
    "print('Adicionemos 20:')\n",
    "f.append(20)\n",
    "print(f.queue)\n"
   ]
  },
  {
   "cell_type": "markdown",
   "metadata": {},
   "source": [
    "#### Porque entrou em ciclo a procura em Profundidade-Primeiro?\n",
    "Para vermos porque é que a procura em profundidade entrou em ciclo, vamos simular o funcionamento do **depth_first_tree_search** a partir do **Node** I, que está na variável raiz."
   ]
  },
  {
   "cell_type": "code",
   "execution_count": 24,
   "metadata": {},
   "outputs": [
    {
     "name": "stdout",
     "output_type": "stream",
     "text": [
      "Fronteira: [<Node I>]\n"
     ]
    }
   ],
   "source": [
    "fronteira = Stack()\n",
    "fronteira.append(raiz)\n",
    "print(\"Fronteira:\",fronteira)\n"
   ]
  },
  {
   "cell_type": "markdown",
   "metadata": {},
   "source": [
    "A ordem dos sucessores corresponde à ordem dos estados sucessores na representação do grafo no dicionário, mas como é uma pilha, o nó que fazemos pop() é:"
   ]
  },
  {
   "cell_type": "code",
   "execution_count": 25,
   "metadata": {},
   "outputs": [
    {
     "name": "stdout",
     "output_type": "stream",
     "text": [
      "Fazemos POP de <Node I>\n",
      "que expandimos e fazemos push dos seus sucessores para a fronteira\n",
      "Fronteira: [<Node A>, <Node B>]\n"
     ]
    }
   ],
   "source": [
    "expandir = fronteira.pop()\n",
    "print(\"Fazemos POP de\",expandir)\n",
    "print(\"que expandimos e fazemos push dos seus sucessores para a fronteira\")\n",
    "fronteira.extend(expandir.expand(p))\n",
    "print(\"Fronteira:\",fronteira)"
   ]
  },
  {
   "cell_type": "markdown",
   "metadata": {},
   "source": [
    "Continuemos a simular a profundidade primeiro. Podemos ver que o primeiro da pilha é o último da lista (fronteira), o Nó B, e que B é o estado que resulta da segunda acção. A ordem dos sucessores é invertida quando se empilha, sendo o último dos sucessores o elemento que resulta do **pop**, neste caso o nó B."
   ]
  },
  {
   "cell_type": "markdown",
   "metadata": {},
   "source": [
    "Agora, vamos fazer **pop** e gerar os novos sucessores que irão para a fronteira empilhadinhos."
   ]
  },
  {
   "cell_type": "code",
   "execution_count": 26,
   "metadata": {},
   "outputs": [
    {
     "name": "stdout",
     "output_type": "stream",
     "text": [
      "Fazemos POP de <Node B>\n",
      "que expandimos e fazemos push para a fronteira de [<Node D>, <Node F>, <Node I>]\n",
      "Fronteira: [<Node A>, <Node D>, <Node F>, <Node I>]\n"
     ]
    }
   ],
   "source": [
    "expandir = fronteira.pop()\n",
    "print(\"Fazemos POP de\",expandir)\n",
    "print(\"que expandimos e fazemos push para a fronteira de\",expandir.expand(p))\n",
    "fronteira.extend(expandir.expand(p))\n",
    "print(\"Fronteira:\",fronteira)"
   ]
  },
  {
   "cell_type": "markdown",
   "metadata": {},
   "source": [
    "Ao empilharmos os sucessores, a sua ordem inverte-se e o ***Node I*** vai ser o primeiro a ser expandido, dando origem ao ciclo... porque há dois I's no ramo, na raíz e na ponta."
   ]
  },
  {
   "cell_type": "code",
   "execution_count": null,
   "metadata": {},
   "outputs": [],
   "source": [
    "prim = fronteira.pop()\n",
    "prim.solution()"
   ]
  },
  {
   "cell_type": "markdown",
   "metadata": {},
   "source": [
    "#### Exercício 3\n",
    "Crie uma nova versão do método **tree_search**, o **tree_echo_search** que imprime os estados à medida que vão sendo expandidos. Adapte os dois algoritmos (prof. e larg. prim), criando respectivamente as funções **depth_first_tree_echo_search** e **breadth_first_tree_echo_search** de modo a usarem essa nova versão. Teste-as com o grafo abstracto na versão sem ciclos."
   ]
  },
  {
   "cell_type": "code",
   "execution_count": 32,
   "metadata": {},
   "outputs": [],
   "source": [
    "# Resolução do exercício 3\n",
    "\n",
    "def breadth_first_tree_echo_search(problem):\n",
    "    \"\"\"Search the shallowest nodes in the search tree first.\"\"\"\n",
    "    return tree_echo_search(problem, FIFOQueue())\n",
    "\n",
    "\n",
    "def depth_first_tree_echo_search(problem):\n",
    "    \"\"\"Search the deepest nodes in the search tree first.\"\"\"\n",
    "    return tree_echo_search(problem, Stack())\n",
    "\n",
    "\n",
    "def tree_echo_search(problem, frontier):\n",
    "    frontier.append(Node(problem.initial))\n",
    "    while frontier:\n",
    "        node = frontier.pop()\n",
    "        if problem.goal_test(node.state):\n",
    "            return node\n",
    "        frontier.extend(node.expand(problem))\n",
    "        print(node.expand(problem))\n",
    "    return None"
   ]
  },
  {
   "cell_type": "markdown",
   "metadata": {},
   "source": [
    "#### Exercício 4\n",
    "Como vimos atrás, do modo como está feito o **tree_search**, ao usarmos uma Stack, a ordem das acções e da adição à fronteira dos novos estados, não vai ser respeitada, sendo invertida. Altere o **tree_search** para o **tree_ord_search** de modo a que ordem de geração dos sucessores dos estados corresponda à ordem dos sucessores no dicionário, e mostrando a ordem de expansão dos nós apenas para confirmar que a ordem da expansão dos nós corresponde à ordem das acções na procura em profundidade-primeiro."
   ]
  },
  {
   "cell_type": "code",
   "execution_count": 34,
   "metadata": {},
   "outputs": [
    {
     "name": "stdout",
     "output_type": "stream",
     "text": [
      "[<Node A>, <Node B>]\n",
      "[<Node D>, <Node F>]\n",
      "<Node F>\n"
     ]
    }
   ],
   "source": [
    "# Resolução do exercício 4\n",
    "def depth_first_tree_ord_search(problem):\n",
    "    \"\"\"Search the deepest nodes in the search tree first.\"\"\"\n",
    "    return tree_ord_search(problem, Stack())\n",
    "\n",
    "def tree_ord_search(problem, frontier):\n",
    "    frontier.append(Node(problem.initial))\n",
    "    while frontier:\n",
    "        node = frontier.pop()\n",
    "        if problem.goal_test(node.state):\n",
    "            return node\n",
    "        frontier.reverse()\n",
    "        frontier.extend(node.expand(problem))\n",
    "        print(node.expand(problem))\n",
    "    return None\n",
    "\n",
    "ui=ProblemaGrafoCustos(grafo=safe)\n",
    "print(depth_first_tree_ord_search(ui))\n"
   ]
  },
  {
   "cell_type": "markdown",
   "metadata": {},
   "source": [
    "#### Exercício 5\n",
    "A pesquisa em profundidade é muito sensível à ordem das acções. É habitual baralhar a lista de acções de modo aleatório ao expandir os nós. \n",
    "Crie uma nova versão do método **tree_search**, o **tree_shuffle_search** que resolva esse problema e crie também o **depth_first_shuffle_tree_search**.\n",
    "Teste a profundidade primeiro várias vezes, por exemplo 10, com o grafo abstracto. Teste também com a largura várias vezes.\n",
    "Notem que só há 3 soluções para este problema!"
   ]
  },
  {
   "cell_type": "code",
   "execution_count": null,
   "metadata": {},
   "outputs": [],
   "source": [
    "# Resolução do exercício 5    \n",
    "def depth_first_shuffle_tree_search(problem):\n",
    "    \"\"\"Search the deepest nodes in the search tree first.\"\"\"\n",
    "    return tree_shuffle_search(problem, Stack())\n",
    "\n",
    "def tree_shuffle_search(problem, frontier):\n",
    "    frontier.append(Node(problem.initial))\n",
    "    while frontier:\n",
    "        node = frontier.pop()\n",
    "        if problem.goal_test(node.state):\n",
    "            return node\n",
    "        frontier.extend(node.expand(problem))\n",
    "        random.shuffle(frontier)\n",
    "        print(frontier)\n",
    "    return None\n",
    "\n",
    "ui = ProblemaGrafoCustos(grafo = safe)\n",
    "print(depth_first_shuffle_tree_search(ui))\n"
   ]
  },
  {
   "cell_type": "markdown",
   "metadata": {},
   "source": [
    "##### Exercício 6\n",
    "Construa um método que invoca a variante da profundidade-primeiro, feita no exercício 5, um número de vezes, passado por parâmetro, juntamente com o problema, e que devolve a média dos tamanhos das diversas soluções encontradas, bem como os comprimentos da menor e da maior solução. Teste esse método com o problema do troco, por exemplo, que está formulado a seguir e em que não há risco de ciclos. Faça o teste para 1000 resoluções por exemplo, confirmando que a profundidade-primeiro é muito sensível à ordem das acções.Compare com a largura-primeiro que garante o troco no menor número de moedas, dando a solução mais curta.\n",
    "\n",
    "Relembrando o problema dos trocos:\n",
    "\n",
    "Suponha que tens um número arbitrário de moedas de 50, 20, 10, 5, 2 e 1 cêntimos, e que pretende gerar o troco no valor de N cêntimos, utilizando o menor número de moedas.\n",
    "<img src=\"Figuras\\centimos.PNG\" alt=\"Drawing\" style=\"width: 150px;\"/>\n",
    "\n",
    "A seguir, fornecemos a classe **ProblemaTroco** correspondente à formulação, em que os estados são inteiros (troco acumulado) e as acções são os inteiros correspondentes às moedas (por exemplo, 50 significa adicionar uma moeda de 50). As acções que resultem em estados que ultrapassam o valor objectivo são ignoradas, i.e. se tivermos 101 centimos e o objectivo for de 119, as acções de adicionar uma moeda de 50 ou de 20 são ignoradas. No construtor, para além do initial e goal passamos a lista de moedas a usar no puzzle. Isso quer dizer que quando construímos uma instância de **ProblemaTroco** passamos como argumento a lista de moedas com que poderemos formar o troco."
   ]
  },
  {
   "cell_type": "code",
   "execution_count": null,
   "metadata": {},
   "outputs": [],
   "source": [
    "class ProblemaTroco(Problem):\n",
    "    \"\"\" Vamos ter como estado com um inteiro.\n",
    "    \"\"\"\n",
    "      \n",
    "    def __init__(self, initial=0, goal=87, moedas = [50,20,10,5,2,1] ):\n",
    "        self.initial, self.goal, self.moedas = initial, goal, moedas\n",
    "            \n",
    "    def actions(self, state):\n",
    "        \"\"\"Indicação das peças que vão deslizar...\"\"\"\n",
    "        return [m for m in self.moedas if state+m <= self.goal]\n",
    "    \n",
    "    def result(self, state, action):\n",
    "        \"\"\"adicionar mais uma moeda  `.\"\"\"\n",
    "        return state + action\n"
   ]
  },
  {
   "cell_type": "code",
   "execution_count": null,
   "metadata": {},
   "outputs": [],
   "source": [
    "# Resolução do exercício 6\n"
   ]
  },
  {
   "cell_type": "markdown",
   "metadata": {},
   "source": [
    "#### Exercício 7\n",
    "Crie uma versão dos métodos de procura em profundidade primeiro e largura-primeiro que calculam e imprimam o maior tamanho da fronteira durante o processo de procura.\n",
    "Compare o consumo de memória para a largura-primeiro e a profundidade-primeiro para o problema do puzzle da formação do troco."
   ]
  },
  {
   "cell_type": "code",
   "execution_count": null,
   "metadata": {},
   "outputs": [],
   "source": [
    "# Resolução do exercício 7\n"
   ]
  },
  {
   "cell_type": "markdown",
   "metadata": {},
   "source": [
    "#### Exercício 8\n",
    "Inverta a ordem das moedas (acções ou construtor) na formulação do problema do troco e compare os resultados da profundidade-primeiro com os do exercício anterior. Verique se a ordem das acções pode afectar também a largura."
   ]
  },
  {
   "cell_type": "code",
   "execution_count": null,
   "metadata": {},
   "outputs": [],
   "source": [
    "# Resolução do exercício 8\n"
   ]
  },
  {
   "cell_type": "markdown",
   "metadata": {},
   "source": [
    "#### Exercício 9\n",
    "Compare os algoritmos de procura em profundidade-primeiro e de largura-primeiro em termos de tempo para o problema das moedas."
   ]
  },
  {
   "cell_type": "code",
   "execution_count": null,
   "metadata": {},
   "outputs": [],
   "source": [
    "# resolução do exercício 9\n",
    "\n"
   ]
  },
  {
   "cell_type": "markdown",
   "metadata": {},
   "source": [
    "### Aprofundamento Progressivo\n",
    "Se aplicarmos o aprofundamento progressivo não teremos também a garantia de encontrar a solução óptima porque os custos não são homogéneos. Este algoritmo garante a solução mais próxima do estado inicial, em termos de número de acções, como a procura em largura, mas com um preço menor do que a largura em termos de memória utilizada.\n",
    "Começa por fazer uma procura limitada ao estado inicial e à profundidade 0, depois limitada à profundidade 1, a seguir limitada à profundidade 2, etc. etc., evitando os ciclos até encontrar uma solução que esteja mais próxima da raíz da árvore em termos do número de movimentos ou acções.\n",
    "Vamos aplicar o aprofundamento progressivo ao grafo abstracto."
   ]
  },
  {
   "cell_type": "code",
   "execution_count": null,
   "metadata": {},
   "outputs": [],
   "source": [
    "p = ProblemaGrafoCustos()\n",
    "resultado = iterative_deepening_search(p)\n",
    "print(\"solução aprofundamento progressivo (árvore) com custo\", str(resultado.path_cost)+\":\")\n",
    "for x in resultado.solution():\n",
    "    print(x)"
   ]
  },
  {
   "cell_type": "markdown",
   "metadata": {},
   "source": [
    "Vamos aplicar também ao problema dos trocos e calculemos o tempo que demora."
   ]
  },
  {
   "cell_type": "code",
   "execution_count": null,
   "metadata": {},
   "outputs": [],
   "source": [
    "import timeit\n",
    "t = ProblemaTroco()\n",
    "start = timeit.default_timer()\n",
    "resultado = iterative_deepening_search(t)\n",
    "print(\"solução aprofundamento progressivo (árvore) com custo\", str(resultado.path_cost)+\":\")\n",
    "print(resultado.solution())\n",
    "stop = timeit.default_timer()\n",
    "\n",
    "print('Time: ', stop - start) "
   ]
  },
  {
   "cell_type": "markdown",
   "metadata": {},
   "source": [
    "O aprofundamento progressivo, neste problema dos trocos, garante a solução óptima, porque ao optimizar o número de acções estamos a optimizar o número de moedas.\n",
    "\n",
    "<br>Vamos comparar em termos de tempo com a procura em largura."
   ]
  },
  {
   "cell_type": "code",
   "execution_count": null,
   "metadata": {},
   "outputs": [],
   "source": [
    "start = timeit.default_timer()\n",
    "\n",
    "#Your statements here\n",
    "print(\"Resultados da Largura:\")\n",
    "res= breadth_first_tree_search(t)\n",
    "print(res.solution())\n",
    "print(\"Solução óptima:\",len(res.solution()))\n",
    "\n",
    "stop = timeit.default_timer()\n",
    "\n",
    "print('Time: ', stop - start)  "
   ]
  },
  {
   "cell_type": "markdown",
   "metadata": {},
   "source": [
    "#### Exercício 10\n",
    "O aprofundamento progressivo do pacote aima-python é o seguinte:\n",
    "\n",
    "```Python\n",
    "def iterative_deepening_search(problem):\n",
    "    \"\"\"[Figure 3.18]\"\"\"\n",
    "    for depth in range(sys.maxsize):\n",
    "        result = depth_limited_search(problem, depth)\n",
    "        if result != 'cutoff':\n",
    "            return result\n",
    "```\n",
    "\n",
    "e começa sempre com a profundidade 1 e progride em incrementos de 1. Faz uso da função **depth_limited_search** que executa a procura em profundidade limitada a um número limite de acções.\n",
    "<br><br>Crie uma variante em que a profundidade inicial e o incremento sejam passados por parâmetro.\n",
    "Teste-a com algum dos problemas."
   ]
  },
  {
   "cell_type": "code",
   "execution_count": null,
   "metadata": {},
   "outputs": [],
   "source": [
    "# Resolução do exercício 10\n"
   ]
  },
  {
   "cell_type": "markdown",
   "metadata": {},
   "source": [
    "#### Exercício 11\n",
    "Faça uma variante do aprofundamento progressivo de modo a mostrar a sequência de nós expandidos.\n",
    "Aplique-o ao grafo abstracto com ciclos."
   ]
  },
  {
   "cell_type": "code",
   "execution_count": null,
   "metadata": {},
   "outputs": [],
   "source": [
    "# Resolução do exercício 11\n"
   ]
  },
  {
   "cell_type": "markdown",
   "metadata": {},
   "source": [
    "## Procura em Grafo"
   ]
  },
  {
   "cell_type": "markdown",
   "metadata": {},
   "source": [
    "### Profundidade-prim e Largura-prim tipo Grafo\n",
    "\n",
    "Na procura tipo grafo, tanto na profundidade primeiro como na largura primeiro nunca revisitamos os estados. Os visitados que ou já foram expandidos ou então ainda não o foram estando na fronteira. Para evitarmos a revisita dos estados guardamos os estados expandidos num conjunto **explored** e filtramos os estados sucessores, desde que não estejam em **explored** nem existam na fronteira nós com estados iguais.\n",
    "\n",
    "```python\n",
    "def graph_search(problem, frontier):\n",
    "    \"\"\"Search through the successors of a problem to find a goal.\n",
    "    The argument frontier should be an empty queue.\n",
    "    If two paths reach a state, only use the first one. [Figure 3.7]\"\"\"\n",
    "    frontier.append(Node(problem.initial))\n",
    "    explored = set()\n",
    "    while frontier:\n",
    "        node = frontier.pop()\n",
    "        if problem.goal_test(node.state):\n",
    "            return node\n",
    "        explored.add(node.state)\n",
    "        frontier.extend(child for child in node.expand(problem)\n",
    "                        if child.state not in explored and\n",
    "                        child not in frontier)\n",
    "    return None\n",
    "```\n",
    "\n",
    "As diferenças são que teremos um conjunto de estados explorados que começa vazio:\n",
    "```\n",
    "explored=set()\n",
    "```\n",
    "Quando se expande um nó o seu estado é colocado em **explored**\n",
    "\n",
    "```\n",
    "explored.add(node.state)\n",
    "```\n",
    "\n",
    "Não se colocam na fronteira todos os nós expandidos, mas apenas aqueles cujo estado não foi ainda visitado. Notem que os estados visitados ou foram expandidos ou são estados dos nós da fronteira.\n",
    "\n",
    "```\n",
    "frontier.extend(child for child in node.expand(problem)\n",
    "                        if child.state not in explored and\n",
    "                        child not in frontier)\n",
    "```\n"
   ]
  },
  {
   "cell_type": "markdown",
   "metadata": {},
   "source": [
    "Notem que a instrução \n",
    "```python\n",
    "child not in frontier\n",
    "```\n",
    "\n",
    "só funciona porque dois nós são iguais apenas se os seus atributos **state** o forem, mesmo que os  os outros atributos não sejam nada iguais!\n",
    "\n",
    "Na classe Node temos o método seguinte:\n",
    "\n",
    "```python\n",
    "def __eq__(self, other):\n",
    "        return isinstance(other, Node) and self.state == other.state\n",
    "```"
   ]
  },
  {
   "cell_type": "markdown",
   "metadata": {
    "collapsed": true
   },
   "source": [
    "Eis o algoritmo de procura-primeiro que utiliza o **graph_search**\n",
    "```python\n",
    "def depth_first_graph_search(problem):\n",
    "    \"\"\"Search the deepest nodes in the search tree first.\"\"\"\n",
    "    return graph_search(problem, Stack())\n",
    "```\n",
    "\n",
    "Notem que os elementos que são inseridos num conjunto têm que ser **hashable**. Temos de ter como estados elementos \"hashable\" para inserir nos conjuntos e verificar se são membros de conjuntos."
   ]
  },
  {
   "cell_type": "markdown",
   "metadata": {},
   "source": [
    "As strings são \"hashable\" e por isso tudo funciona bem com o grafo abstracto com custos da figura.\n",
    "Experimentemos:"
   ]
  },
  {
   "cell_type": "code",
   "execution_count": null,
   "metadata": {},
   "outputs": [],
   "source": [
    "hash(\"branco\")"
   ]
  },
  {
   "cell_type": "markdown",
   "metadata": {},
   "source": [
    "Como não existe no aima-pyton o algoritmo de procura em grafo largura-primeiro, ei-lo aqui."
   ]
  },
  {
   "cell_type": "code",
   "execution_count": null,
   "metadata": {},
   "outputs": [],
   "source": [
    "def breadth_first_graph_search(problem):\n",
    "    \"\"\"Search the deepest nodes in the search tree first.\"\"\"\n",
    "    return graph_search(problem, FIFOQueue())"
   ]
  },
  {
   "cell_type": "markdown",
   "metadata": {},
   "source": [
    "Voltamos a considerar o problema inicial:"
   ]
  },
  {
   "cell_type": "markdown",
   "metadata": {
    "collapsed": true
   },
   "source": [
    "<img src=\"Figuras\\figura-ee-T-2.png\" alt=\"Drawing\" style=\"width: 300px;\"/>"
   ]
  },
  {
   "cell_type": "markdown",
   "metadata": {},
   "source": [
    "Comecemos por criar uma instância da classe do problema e mostrar o grafo e o estado inicial."
   ]
  },
  {
   "cell_type": "code",
   "execution_count": null,
   "metadata": {},
   "outputs": [],
   "source": [
    "p = ProblemaGrafoCustos()\n",
    "p.initial"
   ]
  },
  {
   "cell_type": "markdown",
   "metadata": {},
   "source": [
    "Invoquemos a procura em largura em grafo."
   ]
  },
  {
   "cell_type": "code",
   "execution_count": null,
   "metadata": {},
   "outputs": [],
   "source": [
    "res=breadth_first_graph_search(p)\n",
    "res.solution()"
   ]
  },
  {
   "cell_type": "markdown",
   "metadata": {},
   "source": [
    "Notem que o problema dos ciclos com a procura em profundidade neste grafo ficou resolvido!"
   ]
  },
  {
   "cell_type": "code",
   "execution_count": null,
   "metadata": {},
   "outputs": [],
   "source": [
    "res=depth_first_graph_search(p)\n",
    "res.solution()"
   ]
  },
  {
   "cell_type": "markdown",
   "metadata": {},
   "source": [
    "#### Exercício 12\n",
    "Faça uma versão da procura tipo grafo que mostre os estados expandidos ao longo da procura e teste-os para o grafo abstracto, confirmando que os estados nunca são expandidos mais do que uma vez."
   ]
  },
  {
   "cell_type": "code",
   "execution_count": null,
   "metadata": {},
   "outputs": [],
   "source": [
    "## Resolução do exercício 12\n"
   ]
  },
  {
   "cell_type": "markdown",
   "metadata": {},
   "source": [
    "### Custo Uniforme\n",
    "Se aplicarmos a procura de custo uniforme tipo grafo teremos sempre a solução óptima. "
   ]
  },
  {
   "cell_type": "code",
   "execution_count": null,
   "metadata": {},
   "outputs": [],
   "source": [
    "resultado = uniform_cost_search(p)\n",
    "print(\"solução custo uniforme (grafo) com custo\", str(resultado.path_cost)+\":\")\n",
    "for x in resultado.solution():\n",
    "    print(x)"
   ]
  },
  {
   "cell_type": "markdown",
   "metadata": {},
   "source": [
    "#### Exercício 13.\n",
    "Calcule os melhores caminhos até F a partir de cada um dos estados do grafo. No caso de não haver solução indique-o, como em baixo.\n",
    "\n",
    "    Menor distância de  I ao objectivo F = 8\n",
    "    Menor distância de  A ao objectivo F = 6\n",
    "    Menor distância de  B ao objectivo F = 3\n",
    "    Sem solução a partir de C\n",
    "    Menor distância de  D ao objectivo F = 2\n",
    "    Menor distância de  F ao objectivo F = 0"
   ]
  },
  {
   "cell_type": "code",
   "execution_count": null,
   "metadata": {},
   "outputs": [],
   "source": [
    "# Resolução do exercício 13\n"
   ]
  },
  {
   "cell_type": "markdown",
   "metadata": {},
   "source": [
    "### Por dentro do **uniform_cost_search()**\n",
    "O algoritmo de custo uniforme implementado em searchPlus.py faz uso de um método genérico **uniform_cost_search**, que usa um estrutura de dados ***PriorityQueue*** para armazenar a fronteira. A função que é usada na fila de prioridades é passada como argumento. Neste caso, é o custo que é o critério que estrutura a fila de prioridades, passado como função no segundo argumento, sendo o primeiro a instância do problema."
   ]
  },
  {
   "cell_type": "markdown",
   "metadata": {},
   "source": [
    "```python\n",
    "def uniform_cost_search(problem):\n",
    "    \"\"\"[Figure 3.14]\"\"\"\n",
    "    return best_first_graph_search(problem, lambda node: node.path_cost)\n",
    "```"
   ]
  },
  {
   "cell_type": "markdown",
   "metadata": {},
   "source": [
    "Olhemos com algum detalhe para o método **best_first_graph_search**. Como é uma pesquisa tipo grafo é necessário guardar num conjunto os estados expandidos.\n",
    "\n",
    "A fronteira é uma **PriorityQueue** que estrutura os seus elementos com base na minimização da função f (no caso do custo uniforme, f devolve o custo do caminho).\n",
    "\n",
    "Os sucessores de um nó são filtrados de modo a que os estados já expandidos nunca voltem a ser visitados e de modo a que se há um nó na fronteira que seja igual ao do nó sucessor (estados iguais) só o que tem menor custo é que fica na fronteira. Cada nó resultante da expansão do nó corrente só é adicionado se o estado respectivo não tiver sido já expandido e não existe na fronteira ou se é melhor (menor custo acumulado) do que o que existe na fronteira, que é retirado.\n",
    "\n",
    "De modo a que não se recalcule sempre a função f, os valores de f são \"cached\".\n",
    "\n",
    "Notem que os estados têm de ser comparáveis, tem de existir o método __lt__ (less than). Por exemplo, os inteiros, as strings, os tuplos de inteiros, entre outros, são comparáveis, mas os objectos não o são."
   ]
  },
  {
   "cell_type": "markdown",
   "metadata": {},
   "source": [
    "```python\n",
    "def best_first_graph_search(problem, f):\n",
    "    \"\"\"Search the nodes with the lowest f scores first.\n",
    "    You specify the function f(node) that you want to minimize; for example,\n",
    "    if f is a heuristic estimate to the goal, then we have greedy best\n",
    "    first search; if f is node.depth then we have breadth-first search.\n",
    "    There is a subtlety: the line \"f = memoize(f, 'f')\" means that the f\n",
    "    values will be cached on the nodes as they are computed. So after doing\n",
    "    a best first search you can examine the f values of the path returned.\"\"\"\n",
    "    f = memoize(f, 'f')\n",
    "    node = Node(problem.initial)\n",
    "    if problem.goal_test(node.state):\n",
    "        return node\n",
    "    frontier = PriorityQueue(min, f)\n",
    "    frontier.append(node)\n",
    "    explored = set()\n",
    "    while frontier:\n",
    "        node = frontier.pop()\n",
    "        if problem.goal_test(node.state):\n",
    "            return node\n",
    "        explored.add(node.state)\n",
    "        for child in node.expand(problem):\n",
    "            if child.state not in explored and child not in frontier:\n",
    "                frontier.append(child)\n",
    "            elif child in frontier:\n",
    "                incumbent = frontier[child]\n",
    "                if f(child) < f(incumbent):\n",
    "                    del frontier[incumbent]\n",
    "                    frontier.append(child)\n",
    "    return None\n",
    "```"
   ]
  },
  {
   "cell_type": "markdown",
   "metadata": {},
   "source": [
    "#### Exercício 14.\n",
    "Desenvolva uma versão tipo árvore do algoritmo custo uniforme e compare em termos temporais a execução dos dois algoritmos para o mesmo problema. Note que terá de fazer uma versão em árvore do **best_first_graph_search**."
   ]
  },
  {
   "cell_type": "code",
   "execution_count": null,
   "metadata": {},
   "outputs": [],
   "source": [
    "# Solução do exercício 14\n",
    "\n"
   ]
  }
 ],
 "metadata": {
  "colab": {
   "collapsed_sections": [],
   "name": "Untitled0.ipynb",
   "provenance": [],
   "version": "0.3.2"
  },
  "kernelspec": {
   "display_name": "Python 3",
   "language": "python",
   "name": "python3"
  },
  "language_info": {
   "codemirror_mode": {
    "name": "ipython",
    "version": 3
   },
   "file_extension": ".py",
   "mimetype": "text/x-python",
   "name": "python",
   "nbconvert_exporter": "python",
   "pygments_lexer": "ipython3",
   "version": "3.8.8"
  }
 },
 "nbformat": 4,
 "nbformat_minor": 2
}
