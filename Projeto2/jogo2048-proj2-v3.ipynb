{
 "cells": [
  {
   "cell_type": "markdown",
   "metadata": {},
   "source": [
    "<a id=\"início\"></a>\n",
    "# <span style=\"color:blue\"> *Torneio Alfabeta 2048*</span>\n",
    "## Introdução à Inteligência Artificial (2021-22)\n",
    "### 2º Projecto\n",
    "\n",
    "Versão 3  ... [novidades da versão 3](#versão3)\n",
    "\n",
    "<img src=\".\\imagens_2048\\2048-logo.png\" alt=\"Drawing\" style=\"width: 150px;\"/>"
   ]
  },
  {
   "cell_type": "markdown",
   "metadata": {},
   "source": [
    "## Puzzle 2048\n",
    "\n",
    "É quase certo que a maior parte de voçês já ouviu falar ou jogou este puzzle individual criado por [Gabriele Cirulli](https://2048game.net/gabriele-cirulli). É um puzzle de tabuleiro bastante simples mas altamente viciante que exige que se combinem os números nas células (sempre múltiplos de 2), de forma a chegar a 2048. A dificuldade cresce à medida que vamos tendo células com valores mais elevados.\n",
    "\n",
    "<img src=\".\\imagens_2048\\puzzle_2048.gif\" alt=\"Drawing\" style=\"width: 200px;\"/>\n",
    "\n",
    "\n",
    "Podem experimentar o puzzle [aqui](https://2048game.com/), mas cuidado que não nos responsabilizamos se ficarem viciados."
   ]
  },
  {
   "cell_type": "markdown",
   "metadata": {},
   "source": [
    "### Como funciona o puzzle? \n",
    "Começando com apenas duas células ocupadas, escolhidas aleatóriamente e que podem ter ou um 2 ou um 4, a ideia é fazer deslizar na grelha as peças quadradas com números múltiplos de 2 na horizontal e vertical, para que quando dois números iguais se encontrem numa posição horizontal ou vertical passem para o dobro num único quadrado, esvaziando o outro. Assim, ao mesmo tempo que as peças deslizam numa das 4 orientações ortogonais, elas fundem-se no caso de chocarem duas peças com números iguais."
   ]
  },
  {
   "cell_type": "markdown",
   "metadata": {},
   "source": [
    "### Deslizar\n",
    "\n",
    "As peças só deslizam se as posições vizinhas de acordo com a orientação estiverem vazias ou então se tiverem peças de valor igual, caso que resulta numa soma. Uma peça que resulta da soma de duas pode continuar a deslizar se tiver uma peça vizinha vazia, no sentido do movimento. No entanto, uma peça que resulta de uma soma não poderá voltar a somar no mesmo movimento, mesmo que encontre uma vizinha de igual valor.\n",
    "\n",
    "<img src=\".\\imagens_2048\\deslizar_2048.PNG\" alt=\"Drawing\" style=\"width: 400px;\"/>\n",
    "<p style=\"text-align: center;\">Antes da acção  -------------------> Depois da acção \n",
    "<p style=\"text-align: center;\">Figura 1: Acção de deslizar para baixo, seguido de uma colocação de um 2 no topo esquerdo.\n",
    "\n",
    "<br>\n",
    "\n",
    "Se uma das acções provocar o deslizamento de 3 peças consecutivas com o mesmo valor, apenas as duas primeiras peças, ordenadas segundo o sentido da acção, irão combinar-se. Na Fig. 1 (esq.), é o que acontece com os três 8's consecutivos, seguidos de um 4, quando acção é deslizar para baixo. Os dois 8's mais em baixo combinam-se, passando a soma (16) para a primeira célula (no fundo), e passando a terceira peça para a segunda posição, que ficou entretanto vazia devido à soma. A 4ª peça irá também deslizar porque a terceira ficou livre. Ver a Fig. 1 (dir), em que resulta num 16 no fundo com o 8 em cima, seguido do 4.\n",
    "\n",
    "Se uma linha ou coluna estiver preenchida com números iguais, qualquer dos movimentos paralelo a essa linha (esquerda ou direita) ou à coluna (cima, baixo), respectivamente levam a combinar as primeiras duas e as últimas duas peças, ordenadas no sentido do movimento. É o que acontece com a coluna mais à direita do puzzle da figura 1 (esq), em que os dois pares de 2's (formados pelo 1º e o 2º, a partir do fundo, e pelo 3º e o 4º) se somam, resultando em dois 4's. O 4 que resulta do segundo par entretanto desliza para a célula vazia deixada pela soma do primeiro par. E como dissemos atrás, as peças que resultam de somas não podem voltar a somar durante a mesma acção, embora tenhamos dois 4's vizinhos. Ver a Fig. 1 (dir), que ilustra o puzzle após o movimento para baixo.\n",
    "\n",
    "Notem que entretanto apareceu aleatoriamente, um 2 no topo esquerdo, que se vê na Fig. 1 da direita."
   ]
  },
  {
   "cell_type": "markdown",
   "metadata": {},
   "source": [
    "### Objectivo\n",
    "O objectivo do puzzle passa por somar constantemente os números iguais, até que consigam obter num quadrado a bela soma de 2048. Mas para alcançarem este efeito terão que deslizar os quadrados com sucesso, evitando que a grelha fique repleta antes de conseguirem o número pretendido, caso em que o puzzle termina.\n",
    "Sempre que o jogador executa uma acção, é colocada numa célula livre escolhida ao acaso, ou um 2 ou um 4, para tornar mais difícil o puzzle.\n",
    "\n",
    "Notem que uma acção é inválida quando não se consegue deslizar (para célula vazia) nenhuma das peças nem se conseguem somar quaisquer células adjacentes, no sentido da acção. É o caso da acção *desliza para cima* na situação ilustrada na Figura 2:\n",
    "\n",
    "<img src=\".\\imagens_2048\\sem_norte_2048.PNG\" alt=\"Drawing\" style=\"width: 150px;\"/>\n",
    "<p style=\"text-align: center;\">Figura 2\n",
    "\n",
    "***Pontuação***: O puzzle começa com a pontuação a 0 e sempre que se juntam duas peças iguais a sua soma é adicionada à pontuação.\n",
    "\n",
    "Na maior parte dos puzzles online ou em apps, o puzzle pode continuar para além do 2048 e o objectivo é obter uma peça com o maior valor possível ou a maior pontuação."
   ]
  },
  {
   "cell_type": "markdown",
   "metadata": {},
   "source": [
    "## Jogo 2048\n",
    "Há uma variante do puzzle 2048 em que desaparece o elemento sorte e passa a ser um jogo entre dois jogadores: um que procura obter a maior pontuação e o outro que tenta impedir que isso aconteça, procurando minimizá-la. O cálculo da pontuação é exactamente igual ao do puzzle. O jogo começa sempre com duas peças com o número 2 em posições escolhidas ao acaso sendo o atacante a abrir o jogo, que pode escolher entre quaisquer das 4 orientações válidas. Após o atacante, responde o defensor que poderá colocar um 2 em qualquer das células livres, passando a vez de novo ao atacante e assim sucessivamente até ao fim do jogo.\n",
    "\n",
    "Quando o atacante não puder realizar nenhuma jogada o jogo termina, i.e. quando o tabuleiro estiver sem casas vazias e não houver nenhum par de peças adjacentes com o mesmo número. \n",
    "\n",
    "No jogo, para simplificar, ao contrário do puzzle, o defensor só pode colocar novas peças com o número 2 e a situação inicial do jogo também contém apenas peças com o 2.\n",
    "\n",
    "Notem que neste jogo não há vencedores nem vencidos. Em cada jogo há 2 jogadores que se confrontam: o atacante e o defensor. Ambos recebem a mesma pontuação que é a do final do jogo. O atacante quer maximizar a pontuação e o defensor quer minimizá-la."
   ]
  },
  {
   "cell_type": "markdown",
   "metadata": {},
   "source": [
    "## Objectivos do projecto\n",
    "Pretende-se que os grupos de alunos:\n",
    "\n",
    "1. Implementem e testem uma formulação do jogo 2048, segundo o *framework aima-python*, de acordo com o guião da TP6. Havendo dois jogadores de características diferentes, é necessário adaptar elementos da formulação e da definição dos jogadores e dos jogos que lidam habitualmente com vitórias, derrotas ou empates. \n",
    "<br><br>\n",
    "2. Criem pelo menos dois jogadores, um para o ataque (abre o jogo) e outro para a defesa, que farão uso do algoritmo minimax variante alfabeta na sua versão com profundidade limitada. Cada um dos dois tipos de jogadores corresponde a uma função de avaliação a ser usada pelo algoritmo alfa-beta para qualquer profundidade, par ou ímpar. Desenvolvam e comparem o desempenho de vários jogadores, para diferentes limites de profundidade e depois seleccionem 2 deles (aconselhamos que sejam os melhores).\n",
    "<br><br>\n",
    "3. Os dois jogadores seleccionados serão utilizados num campeonato, de todos contra todos, i.e. cada um dos jogadores atacantes de um grupo irá jogar contra todos os defensores dos outros grupos, vários jogos e para diferentes níveis de profundidade. Nós próprios entraremos no campeonato com um jogador simples, o <span style=\"color:blue\"> ***Hipólito***</span>, que quando ataca maximiza a pontuação e quando defende maximiza o simétrico da pontuação."
   ]
  },
  {
   "cell_type": "markdown",
   "metadata": {},
   "source": [
    "### Formulação: A classe que representa um Jogo\n",
    "É obrigatório criarem uma classe que implementa o jogo, subclasse de **Game**, que tenha um nome uniforme que varie apenas no número do grupo (XX). Por outro lado, é necessário que o construtor com o formato geral **Jogo2048_XX** receba as duas posições das peças iniciais de um jogo, representadas como um conjunto de 2 tuplos com as coordenadas das duas células ocupadas com o nº 2.\n",
    "\n",
    "Por exemplo, para o grupo identificado com o número 04, o tabuleiro inicial da figura 3, seria construído com:\n",
    "\n",
    "<img src=\".\\imagens_2048\\inicial_2048.PNG\" alt=\"Drawing\" style=\"width: 150px;\"/>\n",
    "<p style=\"text-align: center;\">Figura 3\n",
    "\n",
    "```python \n",
    "Jogo2048_04({(3,2),(3,3)})\n",
    "```\n",
    "\n",
    "Note que uma célula (x,y) representa a casa na linha x e coluna y, sabendo que as linhas começam em 0, de cima para baixo, e as colunas começam em 0, da esquerda para direita.\n",
    "\n",
    "É preciso também que haja um atributo chamado **initial** que após a construção do objecto **Jogo2048_XX** construa e guarde o estado inicial do jogo.\n",
    "\n",
    "Em suma, para realizarmos o torneio de todos contra todos, usando as diferentes implementações **Jogo2048_XX**, apenas precisamos de construir as instâncias dessas classes, passando-lhe as duas peças ocupadas iniciais, precisamos de aceder ao estado inicial usando o atributo da classe: **initial**, e precisamos de usar os métodos herdados de **Game**, tais como ***actions()*** e ***result()***."
   ]
  },
  {
   "cell_type": "markdown",
   "metadata": {},
   "source": [
    "### Movimentos das peças com nomes obrigatórios\n",
    "Para podermos realizar jogos levando em conta diferentes formulações e realizar o campeonato, precisamos de uniformizar as acções:\n",
    "\n",
    "Assim, todos os grupos terão que ter as seguintes acções:\n",
    "\n",
    "    Atacantes: \"cima\", \"baixo\", \"direita\" e \"esquerda\", desde que válidas;\n",
    "    \n",
    "    Defensores: uma string \"id_linha, id_coluna\" correspondente às coordenadas de cada célula vazia.\n",
    "    \n",
    "A lista resultante do método **actions()** conterá apenas as acções válidas para um determinado estado, sendo a sua ordem irrelevante."
   ]
  },
  {
   "cell_type": "markdown",
   "metadata": {},
   "source": [
    "### Display\n",
    "É necessário que implementem um método ***display*** para cada situação do jogo, em ***Jogo2048_XX***. Podem inspirar-se no \"display\" habitual do jogo online para fazer a versão em texto."
   ]
  },
  {
   "cell_type": "markdown",
   "metadata": {},
   "source": [
    "## Inspiração no jogo Rastros\n",
    "\n",
    "<img src=\".\\imagens_2048\\rastros.jpg\" alt=\"Drawing\" style=\"width: 170px;\"/>\n",
    "\n",
    "Fornecemos em ***Rastros.py***, um exemplo de formulação, de jogadores e de funções que realizam jogos entre dois e vários jogadores, para o jogo Rastros, que foi usado no projecto do ano passado, para se inspirarem para o 2048.\n",
    "\n",
    "Nesse ficheiro existe:\n",
    "\n",
    "    Uma implementação do Jogo Rastros\n",
    "    A definição de vários jogadores e funções de avaliação\n",
    "    Funções para realizar e mostrar jogos entre dois jogadores, e também que realizam campeonatos entre vários jogadores.\n",
    "    \n",
    "Têm uma descrição *jupytheriana* no ficheiro, ***rastros.ipynb***"
   ]
  },
  {
   "cell_type": "markdown",
   "metadata": {},
   "source": [
    "## Jogadores\n",
    "Terão de criar pares de funções de avaliação para os diferentes jogadores, para os jogadores atacantes e para os defensores. Podem dar-lhes os nomes que quiserem tendo em atenção que recebem dois argumentos: o estado e o jogador (atacante ou defensor).\n",
    "\n",
    "### Nomes uniformes para os jogadores:\n",
    "Para fazermos o torneio entre todos, é preciso uniformizar os nomes dos jogadores. O atacante terá precisamente o nome ```'atacante'``` e o defensor chamar-se-á ```'defensor'```.\n",
    "\n",
    "### Funções de Avaliação:\n",
    "Todas as funções de avaliação e especialmente as seleccionadas para serem utilizadas no torneio, terão que ter nomes uniformes, com a assinatura do grupo (XX substituído pelo número do grupo).\n",
    "\n",
    "***func_ataque_XX(estado,jogador)***: que devolve o valor estimado do estado para o jogador atacante do grupo XX. Neste caso, é redundante utilizar o jogador como argumento, porque será sempre o 'atacante'. No entanto, para não fazer uma variante nova do ***alphabeta_cutoff_search_new()***, mantemos a mesma assinatura. \n",
    "\n",
    "***func_defesa_XX(estado, jogador)***: que devolve o valor estimado do estado do ponto de vista do jogador defensivo do grupo XX. Já explicámos atrás que o uso do argumento jogador é redundante e porque o mantemos.\n",
    "\n"
   ]
  },
  {
   "cell_type": "markdown",
   "metadata": {},
   "source": [
    "## Jogar e ver o jogo\n",
    "Para testarem e compararem o desempenho dos vários jogadores que desenvolverem, e seleccionarem o melhor atacante e o melhor defensor, que irão participar no torneio entre todos os grupos, terão de adaptar os métodos do ficheiro rastros.py que permitem realizar jogos e campeonatos entre vários jogadores. Notem que ao contrário do Rastros, no Jogo 2048 não há vencedores nem vencidos. Convém que as vossas funções de avaliação se adaptem a diferentes níveis de profundidade para o alfabeta, que pode ser ímpar ou par, mas que não será muito elevado, porque é preciso que o torneio não demore uma eternidade.\n",
    "\n",
    "Convém também implementarem o <span style=\"color:blue\"> ***Hipólito***</span> e compararem o desempenho dos vossos jogadores com o nosso jogador."
   ]
  },
  {
   "cell_type": "markdown",
   "metadata": {},
   "source": [
    "## Campeonato\n",
    "No torneio que vamos realizar, em formato de campeonato, todos os jogadores irão jogar contra todos os outros: cada um dos atacantes jogará contra todos os outros defensores, vários jogos, para pelo menois dois limites diferentes de profundidade para o alfabeta.\n",
    "\n",
    "Notem que para realizarmos o campeonato precisaremos da classe **Jogo2048_XX**. A decisão da jogada escolhida pelos jogadores depende de uma função de avaliação adaptada à implementação do estado do jogo, para cada grupo.\n",
    "\n",
    "Não podemos esquecer que além dos jogadores dos vários grupos, teremos a participação do <span style=\"color:blue\"> ***Hipólito***</span>.\n",
    "\n",
    "\n",
    "### Pontuação de cada grupo\n",
    "Notem que o rank do campeonato é calculado com base na pontuação final de cada grupo, que corresponde ao\n",
    "\n",
    "**somatório da pontuação obtida como atacante menos o somatório da pontuação obtida como defensor**.\n",
    "\n",
    "\n",
    "**Jogadas inválidas ou timeout:** No caso de um dos jogadores ultrapassar o tempo limite para uma jogada ou devolver uma jogada inválida, o score será **zero (0)** no caso de ser atacante e será **100000** no caso de ser defensor. Usaremos de bom senso na escolha do tempo limite para seleccionar uma jogada. Uma jogada inválida é, por exemplo, escolher um deslizamento para \"cima\" quando não há deslizamento possível nesse sentido, no caso do atacante, e escolher uma célula já ocupada, por parte do defensor.\n",
    "\n",
    "Os jogadores cujo código **rebente**, em qualquer dos jogos, serão desclassificados, saindo do campeonato."
   ]
  },
  {
   "cell_type": "markdown",
   "metadata": {},
   "source": [
    "## Código a não ser alterado\n",
    "* <span style=\"color:red\"> Não alterem</span> `jogos.py`, `utils.py`, e não os devem submeter! Iremos correr os mesmos 2 ficheiros para todos.\n",
    "* <span style=\"color:red\"> Não alterem</span> as assinaturas dos métodos da classe `Game`, que a classe `Jogo2048_XX`, sendo subclasse de `Game` tem de respeitar!\n",
    "* <span style=\"color:red\">Não redefinam</span> funções com o mesmo nome das já existentes em `jogos.py`, `utils.py`.\n",
    "* O ideal é que <span style=\"color:red\"> todas as vossas funções devem estar etiquetadas com a assinatura do grupo: o sufixo _XX, para que não se partilhe nem se sobreponha código</span>"
   ]
  },
  {
   "cell_type": "markdown",
   "metadata": {},
   "source": [
    "## Relatório\n",
    "O  relatório é <span style=\"color:red\"> **OBRIGATÓRIO**</span> e tem de ser feito em Jupiter Notebook. Qualquer trabalho que não tenha relatório (só o código com ou sem comentários) ou que não seja lido pelo Jupiter Notebook tem nota zero.\n",
    "\n",
    "Nesse relatório irão descrever e demonstrar o que fizeram. \n",
    "\n",
    "Nós fornecemos um ficheiro esqueleto, ***IIA2122-proj2-XX.ipynb***, (substituam XX pelo número do grupo). Não se esqueçam de preencher os nomes e números dos elementos do vosso grupo."
   ]
  },
  {
   "cell_type": "markdown",
   "metadata": {},
   "source": [
    "## Avaliação\n",
    "A nota do vosso projecto depende das 3 componentes seguintes: **40%+30%+30%**: \n",
    "\n",
    "**Formulação**: Descrição do estado e da classe **Jogo2048_XX** + testes que demonstram o seu correcto funcionamento. (**5%** para a descrição e **35%** para os testes)\n",
    "\n",
    "**Funções de avaliação, selecção e teste**: Descrição das funções de avaliação desenvolvidas, testes dessas funções, jogos/campeonatos entre os vários jogadores e descrição do processo de selecção das duas melhores, uma para o ataque e outra para a defesa. (**10%** para a descrição das funções de avaliação desenvolvidas e do processo de seleccção das melhores e **20%** para os códigos e testes das funções de avaliação e das adaptações das funções que realizam jogos entre dois ou campeonatos entre vários jogadores).\n",
    "   \n",
    "**Torneio**: No torneio, em formato campeonato, vamos incluir o nosso jogador <span style=\"color:blue\"> ***Hipólito***</span>, cuja função de avaliação é apenas a pontuação do jogo no caso do atacante e o simétrico da pontuação no caso do defensor. Quem tiver a mesma pontuação total do torneio que o <span style=\"color:blue\"> ***Hipólito***</span> terá 10 valores. Quem tiver um score total inferior ao nosso jogador terá, naturalmente, negativa (nota menor do que 10) nesta componente. Em suma, o score do campeonato é a soma das pontuações como atacante menos a soma das pontuações como defensor e quanto maior melhor. A nota correspondente ao campeonato é uma função linear baseada no rank no campenato, tanto acima do <span style=\"color:blue\"> ***Hipólito***</span> como para baixo. O grupo que ficar em primeiro lugar acima do <span style=\"color:blue\"> ***Hipólito***</span> terá 20 valores. (**30%** para esta componente)."
   ]
  },
  {
   "cell_type": "markdown",
   "metadata": {},
   "source": [
    "## Entrega\n",
    "Devem entregar um ficheiro ***IIA2122-proj2-XX.zip***, correspondente ao zip da pasta com 3 ficheiros, onde XX é o vosso número de grupo:\n",
    "\n",
    "***IIA2122-proj2-XX.py:*** terá todo o código desenvolvido.\n",
    "\n",
    "***IIA2122-proj2-XX.ipynb:*** o relatório.\n",
    "\n",
    "Notem que vamos extrair o grupo a cada um dos ficheiros. É importante que estes cumpram o formato pedido e que dentro deles as duas funções de avaliação também! (ver penalizações)"
   ]
  },
  {
   "cell_type": "markdown",
   "metadata": {},
   "source": [
    "## Prazo\n",
    "\n",
    "<img src=\".\\imagens_2048\\allcity-wide.gif\" alt=\"Drawing\" style=\"width: 450px;\"/>\n",
    "\n",
    "Até ao dia **15 de Novembro** às 23:59\n",
    "\n",
    "### Penalizações (na escala de 0 a 20)\n",
    "    - Entregue nas 3hs seguintes: sem penalização.\n",
    "    - A partir das 3h e até às 12h do dia seguinte: 4 valores de penalização.\n",
    "    - Não é aceite a partir das 12h do dia seguinte.\n",
    "    - Se ficheiro python ou as funções de avaliação ou as classes ou as funções auxiliares não tiverem a assinatura do grupo: penalização entre 2 e 4 valores."
   ]
  },
  {
   "cell_type": "markdown",
   "metadata": {},
   "source": [
    "<a id=\"versão3\"></a>\n",
    "## Novidades da versão 3 \n",
    "\n",
    "* Mudança das acções do defensor de tuplos para strings: por exemplo, (1,1) passa a ser \"1,1\". Só por uma questão de uniformizar o tipo da acção que é uma string para o atacante e para facilitar os testes de jogos com o query_player.\n",
    "\n",
    "\n",
    "* O teste de sequência de acções mudou. Nova situação inicial, nova sequência de testes e novo jogo resultante da execução dessa sequência. Havia *Bugs* na versão anterior.\n",
    "\n",
    "\n",
    "* Pedido de um único ficheiro de código em vez de 2.\n",
    "\n",
    "\n",
    "* Penalização em valores absolutos e não relativos e adicão de penalização por falha no cumprimento dos formatos exigidos.\n"
   ]
  },
  {
   "cell_type": "markdown",
   "metadata": {},
   "source": [
    "[voltar ao início](#início)"
   ]
  }
 ],
 "metadata": {
  "colab": {
   "collapsed_sections": [],
   "name": "Untitled0.ipynb",
   "provenance": [],
   "version": "0.3.2"
  },
  "kernelspec": {
   "display_name": "Python 3",
   "language": "python",
   "name": "python3"
  },
  "language_info": {
   "codemirror_mode": {
    "name": "ipython",
    "version": 3
   },
   "file_extension": ".py",
   "mimetype": "text/x-python",
   "name": "python",
   "nbconvert_exporter": "python",
   "pygments_lexer": "ipython3",
   "version": "3.8.8"
  }
 },
 "nbformat": 4,
 "nbformat_minor": 2
}
