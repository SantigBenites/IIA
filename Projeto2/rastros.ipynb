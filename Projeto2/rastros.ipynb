{
 "cells": [
  {
   "cell_type": "markdown",
   "metadata": {},
   "source": [
    "<img src=\".\\imagens_rastros\\36393436-set-von-fußabdrücken-schuhe-symbol-horizontale-spuren-mann.jpg\" alt=\"Drawing\" style=\"width: 300px;\"/>"
   ]
  },
  {
   "cell_type": "markdown",
   "metadata": {
    "colab_type": "text",
    "id": "LekFEsVbua_R"
   },
   "source": [
    "## O Jogo dos Rastros\n",
    "\n",
    "Este jogo é da autoria de Bill Taylor (1992). Pertence a uma família de jogos onde cada casa por onde as peças movimentadas passam deixa de estar disponível. Desta forma, o número de possibilidades diminui rapidamente garantindo partidas curtas.\n",
    "\n",
    "### Material\n",
    "Um tabuleiro quadrado (tipicamente 8 por 8), uma peça branca e pedras negras suficientes. Inicialmente, existe apenas uma peça no tabuleiro, a peça branca, que começa sempre no quadrado 4-5. Uma casa é identificada pelo par linha-coluna.\n",
    "\n",
    "\n",
    "<img src=\".\\imagens_rastros\\tab1.png\" alt=\"Drawing\" style=\"width: 250px;\"/>"
   ]
  },
  {
   "cell_type": "markdown",
   "metadata": {},
   "source": [
    "### Objectivo do jogo\n",
    "Este jogo é jogado por dois jogadores, chamemos ao primeiro o jogador sul, que abre o jogo, e ao seu adversário o jogador norte. Cada jogador deseja colocar a peça branca num quadrado específico, o jogador sul quer atingir o quadrado etiquetado como s (8-1) que fica no fundo à esquerda (por isso lhe chamamos sul) e o segundo jogador quer atingir o quadrado n (1-8) que fica na zona norte do tabuleiro. Ganha o jogador que consiga levar primeiro a peça branca à sua casa final. Mesmo que seja o adversário a deslocar a peça para a casa final de um dos jogadores, este ganha. Vamos também adoptar uma variante do jogo original que define que um jogador ganha também se colocar a peça branca numa casa onde o adversário não possa jogar, bloqueando-o. \n",
    "\n",
    "### Regras\n",
    "Os jogadores vão jogando alternadamente e em cada turno, cada um dos jogadores desloca a peça branca para uma das casas livres adjacentes (linhas, colunas e diagonais). As casas livres são as casas ainda não visitadas pela peça branca. Todas os quadrados já visitados são marcados com uma peça preta. Deste modo, depois do movimento da peça branca, coloca-se uma peça negra no quadrado onde a peça branca se encontrava antes da jogada, marcando esse quadrado como visitado.\n"
   ]
  },
  {
   "cell_type": "markdown",
   "metadata": {},
   "source": [
    "### Exemplo de uma situação de jogo\n",
    "Consideremos a situação seguinte, em que é o jogador sul a fazer o próximo lance.\n",
    "\n",
    "\n",
    "<img src=\".\\imagens_rastros\\tab2.png\" alt=\"Drawing\" style=\"width: 250px;\"/>\n",
    "\n",
    "Aparentemente, parece que a sua jogada natural seria 7-2, ou seja, aproximar-se do seu objectivo. Mas, perante essa jogada, o segundo jogador deslocará a branca para 6-3, afastando o primeiro jogador do seu quadrado final.\n",
    "\n",
    "<img src=\".\\imagens_rastros\\tab3.png\" alt=\"Drawing\" style=\"width: 250px;\"/>\n",
    "\n",
    "O mesmo acontecerá se escolher 7-1. Nesse caso, o adversário (jogador norte) jogará para 6-1, afastando-o do seu objectivo. \n",
    "\n",
    "<img src=\".\\imagens_rastros\\tab4.png\" alt=\"Drawing\" style=\"width: 250px;\"/>\n",
    "\n",
    "A coisa ficaria ainda pior se sul agora decidisse atacar, aproximando-se do objectivo, jogando para 7-2. Nesse caso, o segundo jogador defende-se para 6-3 e ficaria apenas um corredor livre para o quadrado final s, o que não é nada favorável ao jogador sul.\n",
    "\n",
    "\n",
    "<img src=\".\\imagens_rastros\\tab5.png\" alt=\"Drawing\" style=\"width: 250px;\"/>\n",
    "\n",
    "É importante para um jogador não fechar os caminhos para o respectivo quadrado objectivo. Notem que um jogador com os caminhos para o respectivo objectivo totalmente fechados não está ainda derrotado, ele pode ainda ganhar, bloqueando o adversário. No entanto, parece ser um sinal de bom senso manter um caminho aberto para o objectivo. Assim, parece que é melhor jogar para trás, para a casa 5-3.\n",
    "\n",
    "\n",
    "<img src=\".\\imagens_rastros\\tab6.png\" alt=\"Drawing\" style=\"width: 250px;\"/>"
   ]
  },
  {
   "cell_type": "markdown",
   "metadata": {},
   "source": [
    "### Representação dos estados do jogo\n",
    "\n",
    "Para construir as funções de avaliação é necessário perceber como são representadas as diferentes situações do tabuleiro no decurso dos jogos.\n",
    "\n",
    "Um estado do jogo é um triplo:\n",
    "\n",
    "```python \n",
    "EstadoRastros(Quem_Joga, Posição_Branca, Conjunto_Posições_Pretas)\n",
    "```\n",
    "\n",
    "* Quem_Joga corresponde ao do jogador (norte ou sul) que vai jogar. \n",
    "* Posição_Branca refere-se à casa onde está colocada a peça branca\n",
    "* Conjunto_Posições_Pretas é o conjunto com as casas que já foram ocupadas. \n",
    "\n",
    "Cada casa do tabuleiro é representada por um par de coordenadas (coluna, linha). \n",
    "\n",
    "\n"
   ]
  },
  {
   "cell_type": "markdown",
   "metadata": {},
   "source": [
    "\n",
    "### Estado inicial\n",
    "O estado que representa a situação inicial é um triplo: \n",
    "\n",
    "```python\n",
    "EstadoRastros(to_move='S', white=(4, 5), blacks={})\n",
    "```\n",
    "\n",
    "Se o jogador Sul abrir, jogando para a casa (4, 4), o tabuleiro passa a ser representado por\n",
    "\n",
    "```python\n",
    "EstadoRastros(to_move='N', white=(4, 4), blacks={(4, 5)})\n",
    "```\n",
    "\n",
    "E se o jogador Norte responder, jogando para a casa (3, 3) ficaremos com \n",
    "\n",
    "```python\n",
    "EstadoRastros(to_move='S', white=(3, 3), blacks={(4, 5), (4, 4)})\n",
    "```\n",
    "\n",
    "e assim sucessivamente.\n"
   ]
  },
  {
   "cell_type": "markdown",
   "metadata": {},
   "source": [
    "### Classe EstadoRastros\n",
    "\n",
    "Veja a definição da classe ```EstadoRastros```, como está no ficheiro ```rastros.py```.\n",
    "\n",
    "```python\n",
    "from jogos import *\n",
    "\n",
    "stateRastros = namedtuple('EstadoRastros', 'to_move, white, blacks')\n",
    "\n",
    "class EstadoRastros(stateRastros):\n",
    "\n",
    "    def ve_se_terminou(self):\n",
    "        \"devolve 1 se ganhou sul, -1 se ganhou norte, 0 se não terminou\"\n",
    "        if self.blacks==set():\n",
    "            return 0\n",
    "        justplayed = self.other(self.to_move) \n",
    "        if self.white==(8,1):\n",
    "            return 1 \n",
    "        elif self.white == (1,8):\n",
    "            return -1 \n",
    "        elif len(self.moves()) == 0:\n",
    "            return 1 if justplayed == 'S' else -1\n",
    "        else:\n",
    "            return 0\n",
    "        \n",
    "    def __init__(self, to_move, white, blacks):\n",
    "        self.fullboard = set([(x, y) for x in range(1, 9)\n",
    "                 for y in range(1, 9)])\n",
    "        self.terminou = self.ve_se_terminou() # = 1 se ganhou sul, -1 se ganhou norte, 0 se não terminou\n",
    "\n",
    "    def moves(self):\n",
    "        \"Legal moves are any square adjacent to white if not in blacks\"\n",
    "        alladjacent = [(self.white[0]+a, self.white[1]+b) for a in [-1,0,1] for b in [-1,0,1]]\n",
    "        return [p for p in alladjacent\n",
    "                if p not in self.blacks and p !=self.white and p in self.fullboard]\n",
    "\n",
    "    def compute_utility(self, player):\n",
    "        \"If player wins in this state, return 1; if otherplayer wins return -1; else return 0.\"\n",
    "        return self.terminou if player=='S' else -self.terminou\n",
    "\n",
    "    def other(self,player):\n",
    "        return 'N' if player == 'S' else 'S'\n",
    "\n",
    "    def posicao(self, a, b):\n",
    "        if (a,b)==self.white:\n",
    "            return 'B' \n",
    "        elif (a,b) in self.blacks:\n",
    "            return 'P'\n",
    "        else:\n",
    "            return '.'\n",
    "        \n",
    "    def display(self):\n",
    "        print(\" 12345678\")\n",
    "        for x in range(1, 9):\n",
    "            print(x, end=\"\")\n",
    "            for y in range(1, 9):\n",
    "                print(self.posicao(x, y), end='')\n",
    "            print(x)\n",
    "        print(\" 12345678 \")\n",
    "\n",
    "estado_inicial = EstadoRastros(to_move = 'S', white = (4,5), blacks=set())\n",
    "\n",
    "```"
   ]
  },
  {
   "cell_type": "markdown",
   "metadata": {},
   "source": [
    "### Movimentos das peças e alguns predicados disponíveis e que podem ser úteis.\n",
    "Além da representação do tabuleiro é conveniente conhecer algumas funções já definidas que poderão ser úteis para a construção da função de avaliação e para a implementação das jogadas.\n",
    "\n",
    "Na classe Rastros estão definidas as funções obrigatórias de Game:\n",
    "\n",
    "* ```python actions(state)``` : devolve uma lista de jogadas possíveis a partir de state\n",
    "* ```python result(state, move)```: devolve o novo estado que resulta de fazer a jogada move no estado state\n",
    "* ```python utility(state, player)```: devolve 1 para uma vitória de player e -1 para uma derrota de player\n",
    "\n",
    "Estão ainda definidas as funções\n",
    "* ```python __init__()```: define os atributos fullboard e initial (este é obrigatório)\n",
    "* ```python terminal_test(state)```: verifica se no estado state o jogo já terminou\n",
    "* ```pythondisplay()```: mostra o tabuleiro e indica o próximo jogador a jogar\n"
   ]
  },
  {
   "cell_type": "markdown",
   "metadata": {},
   "source": [
    "### Classe Rastros\n",
    "\n",
    "Já agora, aqui está a classe ```Rastros```, como definida em ```rastros.py```\n",
    "\n",
    "```python\n",
    "class Rastros(Game):\n",
    "    \"\"\"Play rastros on an 8 x 8 board, with Max (first player) playing 'S'.\n",
    "    A state has the player to move, a cached utility, a list of moves in\n",
    "    the form of a list of (x, y) positions, and a board, represented by the\n",
    "    position of the white mark and a list of positions of the black marks.\"\"\"\n",
    "\n",
    "    def __init__(self):\n",
    "        self.fullboard = set([(x, y) for x in range(1, 9)\n",
    "                 for y in range(1, 9)])\n",
    "        self.initial = EstadoRastros(to_move = 'S', white = (4,5), blacks=set())\n",
    "\n",
    "    def actions(self, state):\n",
    "        \"Legal moves are any square adjacent to white if not in blacks\"\n",
    "        return state.moves()\n",
    "\n",
    "    def result(self, state, move):\n",
    "        blacks = state.blacks.copy() # Sim, temos de duplicar o conjunto de blacks\n",
    "        blacks.add(state.white) ## marca a antiga white como black\n",
    "        return EstadoRastros(to_move=('N' if state.to_move == 'S' else 'S'),\n",
    "                         white=move,blacks=blacks) \n",
    "\n",
    "    def utility(self, state, player):\n",
    "        \"Return the value to player; 1 for win, -1 for loss, 0 otherwise.\"\n",
    "        \"If the player is S and .utility == 1 then return .utility\"\n",
    "        \"Otherwise return the symmetric. Note that the symmetric of 0 is 0\"\n",
    "        \"Note that player might be different from the player within the state that has just virtually played\"\n",
    "        aux = self.compute_utility(state)\n",
    "        return aux if player == 'S' else -aux\n",
    "\n",
    "    def terminal_test(self, state):\n",
    "        \"A state is terminal if someone won or there are no empty squares.\"\n",
    "        \"It assumes that the calculus if there is a winner is computed first and saved in .utility, thus it uses the value of .utility.\"\n",
    "        return state.terminou != 0\n",
    "\n",
    "\n",
    "    def display(self, state):\n",
    "        print(\"Tabuleiro:\")\n",
    "        state.display()\n",
    "        fim = self.terminal_test(state)\n",
    "        if  fim:\n",
    "            print(\"FIM do Jogo\")\n",
    "        else :\n",
    "            print(\"Próximo jogador:{}\\n\".format(state.to_move))\n",
    "\n",
    "```"
   ]
  },
  {
   "cell_type": "code",
   "execution_count": 1,
   "metadata": {},
   "outputs": [
    {
     "ename": "ModuleNotFoundError",
     "evalue": "No module named 'func_timeout'",
     "output_type": "error",
     "traceback": [
      "\u001b[1;31m---------------------------------------------------------------------------\u001b[0m",
      "\u001b[1;31mModuleNotFoundError\u001b[0m                       Traceback (most recent call last)",
      "\u001b[1;32m~\\AppData\\Local\\Temp/ipykernel_11648/4219725789.py\u001b[0m in \u001b[0;36m<module>\u001b[1;34m\u001b[0m\n\u001b[1;32m----> 1\u001b[1;33m \u001b[1;32mfrom\u001b[0m \u001b[0mrastros\u001b[0m \u001b[1;32mimport\u001b[0m \u001b[1;33m*\u001b[0m\u001b[1;33m\u001b[0m\u001b[1;33m\u001b[0m\u001b[0m\n\u001b[0m",
      "\u001b[1;32mc:\\Users\\santi\\Desktop\\Tudo\\IIA\\Projeto2\\rastros.py\u001b[0m in \u001b[0;36m<module>\u001b[1;34m\u001b[0m\n\u001b[0;32m    124\u001b[0m \u001b[1;33m\u001b[0m\u001b[0m\n\u001b[0;32m    125\u001b[0m \u001b[1;33m\u001b[0m\u001b[0m\n\u001b[1;32m--> 126\u001b[1;33m \u001b[1;32mfrom\u001b[0m \u001b[0mfunc_timeout\u001b[0m \u001b[1;32mimport\u001b[0m \u001b[0mfunc_timeout\u001b[0m\u001b[1;33m,\u001b[0m \u001b[0mFunctionTimedOut\u001b[0m\u001b[1;33m\u001b[0m\u001b[1;33m\u001b[0m\u001b[0m\n\u001b[0m\u001b[0;32m    127\u001b[0m \u001b[1;33m\u001b[0m\u001b[0m\n\u001b[0;32m    128\u001b[0m \u001b[1;32mdef\u001b[0m \u001b[0mjogaRastros11com_timeout\u001b[0m\u001b[1;33m(\u001b[0m\u001b[0mjog1\u001b[0m\u001b[1;33m,\u001b[0m \u001b[0mjog2\u001b[0m\u001b[1;33m,\u001b[0m \u001b[0mnsec\u001b[0m\u001b[1;33m)\u001b[0m\u001b[1;33m:\u001b[0m\u001b[1;33m\u001b[0m\u001b[1;33m\u001b[0m\u001b[0m\n",
      "\u001b[1;31mModuleNotFoundError\u001b[0m: No module named 'func_timeout'"
     ]
    }
   ],
   "source": [
    "from rastros import *"
   ]
  },
  {
   "cell_type": "markdown",
   "metadata": {},
   "source": [
    "## Jogadores \n",
    "Como exemplificado no ```Rastros.py```, as instâncias da classe ```Jogador``` incluem um nome e uma função de escolha da jogada a efectuar. Esses jogadores podem fazer uso ou não do algoritmo minimax e a sua variante alfabeta."
   ]
  },
  {
   "cell_type": "markdown",
   "metadata": {},
   "source": [
    "#### o Bacoco escolhe uma jogada aleatória\n"
   ]
  },
  {
   "cell_type": "code",
   "execution_count": null,
   "metadata": {},
   "outputs": [],
   "source": [
    "def bacoco(game, state):\n",
    "    return random.choice(state.moves())\n",
    "\n",
    "bacoco = Jogador(\"Bacoco\", bacoco)"
   ]
  },
  {
   "cell_type": "markdown",
   "metadata": {},
   "source": [
    "#### O obtusoSW escolhe sempre a casa mais a Sul e de entre essas, a mais a Oeste\n"
   ]
  },
  {
   "cell_type": "code",
   "execution_count": null,
   "metadata": {},
   "outputs": [],
   "source": [
    "def sudoeste(game, state):\n",
    "    moves = state.moves()\n",
    "    moves.sort(key = lambda t: (t[0],-t[1]))\n",
    "    return moves[-1]\n",
    "\n",
    "obtusoSW = Jogador(\"ObtusoSW\", sudoeste)"
   ]
  },
  {
   "cell_type": "markdown",
   "metadata": {},
   "source": [
    "#### o ObtusoNE escolhe sempre a casa mais a Norte e de entre essas, a mais a Leste"
   ]
  },
  {
   "cell_type": "code",
   "execution_count": null,
   "metadata": {},
   "outputs": [],
   "source": [
    "def nordeste(game, state):\n",
    "    moves = state.moves()\n",
    "    moves.sort(key = lambda t: (-t[0],t[1]))\n",
    "    return moves[-1]\n",
    "\n",
    "obtusoNE = Jogador(\"ObtusoNE\", nordeste)"
   ]
  },
  {
   "cell_type": "markdown",
   "metadata": {},
   "source": [
    "#### Dois humanos para poderem jogar vocês mesmos"
   ]
  },
  {
   "cell_type": "code",
   "execution_count": null,
   "metadata": {},
   "outputs": [],
   "source": [
    "def pergunta(game, state):\n",
    "    state.display()\n",
    "    print(\"Jogadas possíveis: \", state.moves())\n",
    "    return eval(input(state.to_move+\", para onde quer jogar? \"))\n",
    "    \n",
    "humano1 = Jogador(\"Pessoa1\", pergunta)\n",
    "humano2 = Jogador(\"Pessoa2\", pergunta)"
   ]
  },
  {
   "cell_type": "markdown",
   "metadata": {},
   "source": [
    "### Jogar e ver o jogo\n",
    "\n",
    "No ficheiro ```rastros.py```estão definidas funções:\n",
    "\n",
    "```jogaRastros11(jog1, jog2)``` que faz um jogo entre ```jog1``` e ```jog2```, sendo ```jog1``` a abrir. Devolve a lista de jogadas feita e o resultado.\n",
    "\n",
    "```mostraJogo(listajog, verbose = False, step_by_step=False)``` para ver a sequência de jogadas efectuada no tabuleiro. Se invocar ```mostraJogo```com ```verbose = True``` tem mais detalhes, e se invocar com ```step_by_step = True``` tem de dar ```<enter>```para o próximo tabuleiro ser mostrado.\n",
    "\n",
    "```jogaRastros11com_timeout(jog1, jog2, nsec)``` faz também 1 jogo entre ```jog1``` e ```jog2```, sendo ```jog1``` a abrir, mas em que cada jogada tem o limite de tempo de ```nsec``` segundos. Se um dos jogadores demorar mais do que o tempo limite perde o jogo.\n",
    "\n",
    "```jogaRastrosNN(listaJog, listaAdv, n, nsec)``` que faz um campeonato (com timeout) entre os jogadores de ```listaJog``` e os jogadores de ```listaAdv```. Todos os pares de jogadores jogam entre si um nó 2n de jogos, n como primeiro jogador (sul) e outros n como segundo (norte)."
   ]
  },
  {
   "cell_type": "markdown",
   "metadata": {},
   "source": [
    "#### ObtusoSW contra Bacoco , jogamos primeiro e vemos o resultado"
   ]
  },
  {
   "cell_type": "code",
   "execution_count": null,
   "metadata": {},
   "outputs": [],
   "source": [
    "jogo1 = jogaRastros11(obtusoSW, bacoco)\n",
    "print(jogo1)"
   ]
  },
  {
   "cell_type": "markdown",
   "metadata": {},
   "source": [
    "#### e depois vemos o jogo "
   ]
  },
  {
   "cell_type": "code",
   "execution_count": null,
   "metadata": {},
   "outputs": [],
   "source": [
    "mostraJogo(jogo1[0])"
   ]
  },
  {
   "cell_type": "markdown",
   "metadata": {},
   "source": [
    "#### para ver os tabuleiros"
   ]
  },
  {
   "cell_type": "code",
   "execution_count": null,
   "metadata": {},
   "outputs": [],
   "source": [
    "mostraJogo(jogo1[0], verbose = True)"
   ]
  },
  {
   "cell_type": "markdown",
   "metadata": {},
   "source": [
    "### Jogadores Alfabeta\n",
    "que fazem uso da variante limitado do algoritmo minimax-alfabeta, implementado na função ***alphabeta_cutoff_search_new***."
   ]
  },
  {
   "cell_type": "markdown",
   "metadata": {},
   "source": [
    "#### O Random Plus\n",
    "O Random Plus prefere ganhar e detesta perder, fora isso, todas as jogadas valem o mesmo. Ele está limitado a uma profundidade 5."
   ]
  },
  {
   "cell_type": "code",
   "execution_count": null,
   "metadata": {},
   "outputs": [],
   "source": [
    "depth = 5\n",
    "\n",
    "def f_aval_randomPlus(estado, jogador):\n",
    "    if estado.terminou == 1:\n",
    "        return 10 if jogador == \"S\" else -10\n",
    "    elif estado.terminou == -1:\n",
    "        return 10 if jogador == \"N\" else -10\n",
    "    else:\n",
    "        return 0\n",
    "\n",
    "randomPlus = Jogador(\"Random Plus\",\n",
    "                  lambda game, state:\n",
    "                  alphabeta_cutoff_search_new(state,game,depth,eval_fn=f_aval_randomPlus))"
   ]
  },
  {
   "cell_type": "markdown",
   "metadata": {},
   "source": [
    "#### Vamos fazer um jogo entre o Bacoco e o Random Plus"
   ]
  },
  {
   "cell_type": "code",
   "execution_count": null,
   "metadata": {},
   "outputs": [],
   "source": [
    "jogo1 = jogaRastros11(bacoco, randomPlus)\n",
    "mostraJogo(jogo1[0],True)"
   ]
  },
  {
   "cell_type": "markdown",
   "metadata": {},
   "source": [
    "#### O jogador básico 'Basílio', \n",
    "que reconhece estados de vitória e de derrota e em jogos ainda não terminados valoriza apenas a distância da peça Branca à casa objectivo de cada jogador."
   ]
  },
  {
   "cell_type": "code",
   "execution_count": null,
   "metadata": {},
   "outputs": [],
   "source": [
    "##### heuristica para jogador básico\n",
    "# derrota vale -10, vitória vale 10,\n",
    "# cc subtrai distância da peça branca à casa objectivo\n",
    "\n",
    "depth=5\n",
    "\n",
    "def distancia (a, b):\n",
    "    return max(abs(a[0]-b[0]), abs(a[1]-b[1]))\n",
    "\n",
    "def f_aval_basico(estado, jogador):\n",
    "    if estado.terminou == 1:\n",
    "        return 10 if jogador == \"S\" else -10\n",
    "    elif estado.terminou == -1:\n",
    "        return 10 if jogador == \"N\" else -10\n",
    "    else:\n",
    "        obj = (8, 1) if jogador == \"S\" else (1, 8)\n",
    "        return 7-distancia(estado.white, obj)\n",
    "\n",
    "basilio = Jogador(\"Basilio\",\n",
    "                  lambda game, state:\n",
    "                  alphabeta_cutoff_search_new(state,game,depth,eval_fn=f_aval_basico))\n"
   ]
  },
  {
   "cell_type": "markdown",
   "metadata": {},
   "source": [
    "#### ObtusoSW vs Basílio"
   ]
  },
  {
   "cell_type": "code",
   "execution_count": null,
   "metadata": {},
   "outputs": [],
   "source": [
    "jogo1 = jogaRastros11(obtusoSW, basilio)\n",
    "print(jogo1)\n",
    "mostraJogo(jogo1[0],True)"
   ]
  },
  {
   "cell_type": "code",
   "execution_count": null,
   "metadata": {},
   "outputs": [],
   "source": [
    "jogo1 = jogaRastros11(randomPlus, basilio)\n",
    "mostraJogo(jogo1[0],True)"
   ]
  },
  {
   "cell_type": "markdown",
   "metadata": {},
   "source": [
    "#### O Ar Livre\n",
    "O Ar Livre prefere ter mais jogadas possíveis pensando que o seu adversário prefere que tenha menos jogadas, menos ar."
   ]
  },
  {
   "cell_type": "code",
   "execution_count": null,
   "metadata": {},
   "outputs": [],
   "source": [
    "#### funções heurísticas para avaliação de estado\n",
    "def num_livres(estado,jogador) :\n",
    "    \"\"\"Se ganha 10 e se perde -10 mas se não ganhar nem perder\n",
    "    maximiza o espaço livre junto à peça B\"\"\"\n",
    "    \n",
    "    if estado.terminou == 1:\n",
    "        return 10 if jogador == \"S\" else -10\n",
    "    elif estado.terminou == -1:\n",
    "        return 10 if jogador == \"N\" else -10\n",
    "    else:\n",
    "        return len(estado.moves())\n",
    "   \n",
    "\n",
    "#### mais um jogador, agora com alpha-beta\n",
    "arlivre = Jogador(\"Ar Livre\",\n",
    "                  lambda game, state:\n",
    "                  alphabeta_cutoff_search_new(state,game,depth_for_all,eval_fn=num_livres))\n"
   ]
  },
  {
   "cell_type": "markdown",
   "metadata": {},
   "source": [
    "#### Ar Livre contra Basílio\n",
    "Notem que ambos os jogadores fazem uso do alfabeta à mesma profundidade, 5"
   ]
  },
  {
   "cell_type": "markdown",
   "metadata": {},
   "source": [
    "<img src=\".\\imagens_rastros\\duel.gif\" alt=\"Drawing\" style=\"width: 200px;\"/>"
   ]
  },
  {
   "cell_type": "code",
   "execution_count": null,
   "metadata": {},
   "outputs": [],
   "source": [
    "jogo1 = jogaRastros11(arlivre, basilio)\n",
    "mostraJogo(jogo1[0],True)"
   ]
  },
  {
   "cell_type": "code",
   "execution_count": null,
   "metadata": {},
   "outputs": [],
   "source": [
    "jogo1 = jogaRastros11(basilio,arlivre)\n",
    "mostraJogo(jogo1[0],True)"
   ]
  },
  {
   "cell_type": "markdown",
   "metadata": {},
   "source": [
    "#### Campeonato\n",
    "Podemos fazer um campeonato todos contra todos , neste caso com todos os jogadores definidos em rastros.py (excepto os humanos), em que cada par de jogadores realiza um nº 2xn de jogos, n como Sul e os outros n como Norte"
   ]
  },
  {
   "cell_type": "code",
   "execution_count": null,
   "metadata": {},
   "outputs": [],
   "source": [
    "todosJog = [bacoco, randomPlus,obtusoSW, obtusoNE, arlivre, basilio]\n",
    "campeonato = jogaRastrosNN(todosJog, todosJog, n=5,nsec=10)"
   ]
  },
  {
   "cell_type": "markdown",
   "metadata": {},
   "source": [
    "<img src=\".\\imagens_rastros\\mac-thinking.gif\" alt=\"Drawing\" style=\"width: 250px;\"/>"
   ]
  },
  {
   "cell_type": "markdown",
   "metadata": {},
   "source": [
    "#### Agora construímos a tabela classificativa\n",
    "Para isso precisamos de executar este código:"
   ]
  },
  {
   "cell_type": "code",
   "execution_count": null,
   "metadata": {},
   "outputs": [],
   "source": [
    "resultado_jogos = [(a,b,n) for (a,b,(x,n)) in campeonato]\n",
    "tabela = dict([(jog.nome, 0) for jog in todosJog])\n",
    "for jogo in resultado_jogos:\n",
    "    if jogo[2] == 1:\n",
    "        tabela[jogo[0]] += 1\n",
    "    else:\n",
    "        tabela[jogo[1]] += 1\n",
    "classificacao = list(tabela.items())\n",
    "classificacao.sort(key=lambda p: -p[1])\n",
    "print(\"JOGADOR\", \"VITÓRIAS\")\n",
    "for jog in classificacao:\n",
    "    print('{:11}'.format(jog[0]), '{:>4}'.format(jog[1]))"
   ]
  },
  {
   "cell_type": "markdown",
   "metadata": {},
   "source": [
    "#### A função ```faz_campeonato(listaJogadores, n, nsec)```faz isto mesmo, basta invocar com todosJog, ou com a lista de jogadores que se quiser, por exemplo"
   ]
  },
  {
   "cell_type": "code",
   "execution_count": null,
   "metadata": {},
   "outputs": [],
   "source": [
    "faz_campeonato([bacoco, arlivre, randomPlus,basilio,obtusoSW, obtusoNE],10)"
   ]
  },
  {
   "cell_type": "markdown",
   "metadata": {},
   "source": [
    "<img src=\".\\imagens_rastros\\duelo_esgrima.gif\" alt=\"Drawing\" style=\"width: 200px;\"/>"
   ]
  }
 ],
 "metadata": {
  "colab": {
   "collapsed_sections": [],
   "name": "Untitled0.ipynb",
   "provenance": [],
   "version": "0.3.2"
  },
  "kernelspec": {
   "display_name": "Python 3",
   "language": "python",
   "name": "python3"
  },
  "language_info": {
   "codemirror_mode": {
    "name": "ipython",
    "version": 3
   },
   "file_extension": ".py",
   "mimetype": "text/x-python",
   "name": "python",
   "nbconvert_exporter": "python",
   "pygments_lexer": "ipython3",
   "version": "3.9.6"
  }
 },
 "nbformat": 4,
 "nbformat_minor": 2
}
