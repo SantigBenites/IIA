{
 "cells": [
  {
   "cell_type": "markdown",
   "metadata": {},
   "source": [
    "# Introdução à Inteligência Artificial 2021/2022\n",
    "\n",
    "## Problemas de Satisfação de Restrições - Constraint Satisfaction Problems (CSP)"
   ]
  },
  {
   "cell_type": "markdown",
   "metadata": {},
   "source": [
    "## Conteúdo\n",
    "\n",
    "* Revisão da definição de CSP\n",
    "* Exemplo de modelização de um problema com 3 variáveis\n",
    "* A resolução de um CSP como uma procura num grafo\n",
    "* O algoritmo de base - profundidade primeiro com retrocesso (BACKTRACKING-SEARCH), sem inferências ou heurísticas ou pré-processamento.\n",
    "* Relevância da ordem inicial dos domínios\n",
    "* Forward checking\n",
    "* Procura com Retrocesso usando a inferência Forward Checking\n",
    "* Teste de Consistência dos arcos\n",
    "* Forçar a consistência dos arcos\n",
    "* O algoritmo AC3\n",
    "* Pré-processamento com o AC3 + procura em retrocesso com ou sem forward checking\n",
    "* Procura com AC3\n",
    "* Heurística MRV\n",
    "* Combinação de inferências e MRV"
   ]
  },
  {
   "cell_type": "markdown",
   "metadata": {},
   "source": [
    "## Solução de CSPs\n",
    "\n",
    "**A resolução de um CSP tem 2 passos**:\n",
    "\n",
    "**Passo 1)** Formulação do problema (definir variáveis, domínios, restrições)\n",
    "\n",
    "**Passo 2)** Resolução do problema (usar algoritmo de procura)\n",
    "\n",
    "Na última aula de laboratório dedicámo-nos à formulação e nesta iremos dedicarmo-nos à resolução dos CSPs.\n",
    "\n",
    "Nesta aula vamos formular e resolver Problemas de Satisfação de Restrições - **Constraint Satisfaction Problems (CSP)**.\n"
   ]
  },
  {
   "cell_type": "markdown",
   "metadata": {},
   "source": [
    "## Definição de um CSP\n",
    ", Relembrando, o CSP é caracterizado por 3 componentes:\n",
    "- **Variáveis** - para as quais se quer encontrar uma afectação (*assigment*) completa e consistente (solução); podem ser discretas ou contínuas.\n",
    "- **Domínios** - indicam os valores possíveis das variáveis; podem ser finitos ou infinitos.\n",
    "- **Restrições** - especificam combinações possíveis de valores para subconjuntos de variáveis; podem ser 1) unárias por exemplo <$(X_1)$: $X_1=5$>, 2) binárias, por exemplo <$(X_1$,$X_2)$: $X_1=X_2$>, ou de ordem superior, por exemplo <$(X_1,X_2,X_3)$, alldiff($X_1,X_2,X_3$)>`."
   ]
  },
  {
   "cell_type": "markdown",
   "metadata": {},
   "source": [
    "## Exemplo de modelização de um problema com 3 variáveis\n",
    "Relembremos a modelização. Consideremos que temos 3 variáveis, $A$, $B$ e $C$, cada uma com 3 valores possíveis: {1,2,3} e as restrições obrigam a que $A > B > C$. Queremos encontrar os valores para as variáveis de modo a satisfazer as restrições."
   ]
  },
  {
   "cell_type": "markdown",
   "metadata": {},
   "source": [
    "Vamos modelizar o problema de acordo com o módulo `csp`, criando uma função **CSP_abc()** que vai devolver uma instância da classe **CSP**."
   ]
  },
  {
   "cell_type": "code",
   "execution_count": 1,
   "metadata": {},
   "outputs": [],
   "source": [
    "from csp_v2 import *"
   ]
  },
  {
   "cell_type": "markdown",
   "metadata": {},
   "source": [
    "### Criação de um CSP usando a classe **CSP**\n",
    "\n",
    "Esta classe permite definir um CSP assumindo que os domínios das variáveis são finitos. Para definir um CSP concreto é necessário definir as variáveis, os domínios, o grafo de restrições bem como as restrições, e todos serão depois usados para criar um objecto da classe CSP.\n",
    "\n",
    "Neste contexto, o construtor **`def __init__(self, variables, domains, neighbors, constraints)`** tem os seguintes argumentos:\n",
    "  \n",
    "* **`variables`** : Lista de variáveis (strings ou inteiros).\n",
    "\n",
    "* **`domains`** : Dicionário com elementos do tipo `{var:[valor, ...]}`.\n",
    "\n",
    "* **`neighbors`**: Dicionário com elementos do tipo `{var:[var,...]}` em que cada variável var (chave) tem como valor uma lista das variáveis com as quais tem restrições (vizinhos no grafo de restrições), que define o grafo de restrições.\n",
    "\n",
    "* **`constraints`** : Função do tipo `f(A, a, B, b)` que devolve `True` se os vizinhos `A` e `B` satisfazem a restrição quando têm valores `A=a` e `B=b`. "
   ]
  },
  {
   "cell_type": "code",
   "execution_count": 2,
   "metadata": {},
   "outputs": [],
   "source": [
    "def CSP_abc ():\n",
    "    \"\"\"\n",
    "    Retorna um objecto da classe CSP inicializado com as variáveis, os domínios,\n",
    "    os vizinhos e restrições do problema ABC\n",
    "    \"\"\"\n",
    "    \n",
    "    #Definir Variáveis\n",
    "    variaveis_abc = ['A', 'B','C']\n",
    "    \n",
    "    \"\"\"Definir Domínios\n",
    "    Devolve um dicionario com o mesmo domínio [1,2,3] para as 3 variáveis.\n",
    "    \"\"\"   \n",
    "    dominios_abc = {}\n",
    "    for v in variaveis_abc :\n",
    "        dominios_abc[v] = [1,2,3]\n",
    " \n",
    "    #Definir Vizinhos    \n",
    "    # parse_neighbors trata da simetria. do not worry\n",
    "    vizinhos_abc = parse_neighbors('A : B; B: C')\n",
    "\n",
    "    #Definir função que verifica restrições binárias\n",
    "    def restricoes_abc(X, a, Y, b) :\n",
    "        \"\"\"\n",
    "        A implementação em CSP assume que as restrições são binárias.\n",
    "        Retorna True se (X=a,Y=b) satisfaz as restrições entre X e Y ou se não há restrição entre X e Y\n",
    "        \"\"\"\n",
    "        out = True\n",
    "        if (X == 'A' and Y=='B') or (X == 'B' and Y=='C'):\n",
    "            out = a > b\n",
    "        elif (X == 'B' and Y == 'A') or (X == 'C' and Y == 'B'):\n",
    "            out = a < b\n",
    "            \n",
    "        return out\n",
    "        \n",
    "    return CSP(variaveis_abc, dominios_abc, vizinhos_abc, restricoes_abc)"
   ]
  },
  {
   "cell_type": "markdown",
   "metadata": {},
   "source": [
    "Vamos agora criar um objecto **CSP** usando a função **CSP_abc()** que implementámos em cima:"
   ]
  },
  {
   "cell_type": "code",
   "execution_count": 3,
   "metadata": {},
   "outputs": [],
   "source": [
    "p = CSP_abc()"
   ]
  },
  {
   "cell_type": "markdown",
   "metadata": {},
   "source": [
    "E verificar os valores das variáveis, dos domínios e dos vizinhos (grafo de restrições):"
   ]
  },
  {
   "cell_type": "code",
   "execution_count": 4,
   "metadata": {},
   "outputs": [
    {
     "name": "stdout",
     "output_type": "stream",
     "text": [
      "Variáveis =  ['A', 'B', 'C']\n"
     ]
    }
   ],
   "source": [
    "print(\"Variáveis = \", p.variables)"
   ]
  },
  {
   "cell_type": "code",
   "execution_count": 5,
   "metadata": {},
   "outputs": [
    {
     "name": "stdout",
     "output_type": "stream",
     "text": [
      "Domínios =  {'A': [1, 2, 3], 'B': [1, 2, 3], 'C': [1, 2, 3]}\n"
     ]
    }
   ],
   "source": [
    "print(\"Domínios = \", p.domains)"
   ]
  },
  {
   "cell_type": "code",
   "execution_count": 6,
   "metadata": {},
   "outputs": [
    {
     "data": {
      "text/plain": [
       "[1, 2, 3]"
      ]
     },
     "execution_count": 6,
     "metadata": {},
     "output_type": "execute_result"
    }
   ],
   "source": [
    "p.domains['B']"
   ]
  },
  {
   "cell_type": "code",
   "execution_count": 7,
   "metadata": {},
   "outputs": [
    {
     "name": "stdout",
     "output_type": "stream",
     "text": [
      "Vizinhos =  defaultdict(<class 'list'>, {'A': ['B'], 'B': ['A', 'C'], 'C': ['B']})\n"
     ]
    }
   ],
   "source": [
    "print(\"Vizinhos = \", p.neighbors)"
   ]
  },
  {
   "cell_type": "markdown",
   "metadata": {},
   "source": [
    "Vamos testar se a função **restricoes_abc()** foi bem implementada, verificando algumas afectações a pares de variáveis, confirmando que a função retorna *True*, se os dois pares variável-valor, passados como argumentos, satisfazem as restrições e *False*, caso contrário."
   ]
  },
  {
   "cell_type": "code",
   "execution_count": 8,
   "metadata": {},
   "outputs": [
    {
     "name": "stdout",
     "output_type": "stream",
     "text": [
      "False\n",
      "True\n",
      "True\n",
      "False\n"
     ]
    }
   ],
   "source": [
    "# Restrição A > B\n",
    "print(p.constraints('A', 2, \"B\", 3))\n",
    "print(p.constraints('A', 3, \"B\", 2))\n",
    "print(p.constraints('B', 2, \"A\", 3))\n",
    "print(p.constraints('B', 3, \"A\", 2))"
   ]
  },
  {
   "cell_type": "code",
   "execution_count": 9,
   "metadata": {},
   "outputs": [
    {
     "name": "stdout",
     "output_type": "stream",
     "text": [
      "True\n",
      "False\n",
      "False\n",
      "True\n"
     ]
    }
   ],
   "source": [
    "# Restrição B > C\n",
    "print(p.constraints('C', 2, 'B', 3))\n",
    "print(p.constraints('C', 3, 'B', 2))\n",
    "print(p.constraints('B', 2, 'C', 3))\n",
    "print(p.constraints('B', 3, 'C', 2))"
   ]
  },
  {
   "cell_type": "markdown",
   "metadata": {},
   "source": [
    "### A resolução de um CSP como uma procura num grafo\n",
    "\n",
    "* **Estado** - é um conjunto de variáveis com valores nos seus domínios (afectação/assignment); \n",
    "\n",
    "* uma **afectação** pode ser:\n",
    "\n",
    "    1) global, se todas as variáveis tem valor, ou parcial, caso contrário; e\n",
    "    \n",
    "    2) consistente, se  satisfaz todas as restrições, ou inconsistente, caso contrário.\n",
    "\n",
    "\n",
    "* **Procura** - é efectuada usando algoritmos que usam heurísticas genéricas em vez de heurísticas específicas do problema, como acontecia na resolução dos Problemas de Espaços de Estados (PEE).\n",
    "* **Solução** - é uma afectação completa e consistente."
   ]
  },
  {
   "cell_type": "markdown",
   "metadata": {},
   "source": [
    "### O algoritmo de base - profundidade primeiro com retrocesso (Backtracking-Search)\n",
    "Recorde o algoritmo de procura **BACKTRACKING-SEARCH**, que efectua procura em profundidade primeiro com retrocesso, em árvore, fazendo afectações a uma única e  mesma variável a cada nível da procura. Sempre que a última afectação provocar conflitos de restrições com as variáveis já afectadas dá-se o retrocesso. Quando todos os valores de uma variável falham, dá-se também um retrocesso para o próximo valor da variável anterior, se existir. Notem que a procura em profundidade depende muito da ordem das variáveis e da ordem dos valores do domínio."
   ]
  },
  {
   "cell_type": "markdown",
   "metadata": {},
   "source": [
    "Vamos agora usar o algoritmo **BACKTRACKING-SEARCH** para resolver o problema. \n",
    "\n",
    "Podem ver no `csp_v2.py` que os argumentos desse método por omissão são:\n",
    "\n",
    "``` python\n",
    "    def backtracking_search(csp,\n",
    "                        select_unassigned_variable=first_unassigned_variable,\n",
    "                        order_domain_values=unordered_domain_values,\n",
    "                        inference=no_inference, verbose = False):\n",
    "        \n",
    "```\n",
    "    manter a ordem das variáveis definida no objecto csp\n",
    "    manter a ordem dos valores nos domínios\n",
    "    não haver qualquer inferência\n",
    "    e ausência de verbosidade (não imprime nada)"
   ]
  },
  {
   "cell_type": "markdown",
   "metadata": {},
   "source": [
    "Vamos invocar a profundidade com retrocesso com os argumentos por omissão"
   ]
  },
  {
   "cell_type": "code",
   "execution_count": 10,
   "metadata": {},
   "outputs": [
    {
     "name": "stdout",
     "output_type": "stream",
     "text": [
      "Assignment p =  {'A': 3, 'B': 2, 'C': 1}\n"
     ]
    }
   ],
   "source": [
    "r = backtracking_search(p)\n",
    "print('Assignment p = ',r) "
   ]
  },
  {
   "cell_type": "markdown",
   "metadata": {},
   "source": [
    "Tal como esperado a solução obtida é {'A': 3, 'B': 2, 'C': 1}. "
   ]
  },
  {
   "cell_type": "markdown",
   "metadata": {},
   "source": [
    "Por omissão não ecoa o comportamento do algoritmo de procura. Vamos colocar o `verbose=True` para seguirmos com detalhe todo o processo de resolução do CSP.\n",
    "\n",
    "O que esperamos que aconteça?\n",
    "\n",
    "* Primeiro $A$ fica com o primeiro valor do seu domínio ordenado, i.e. 1; \n",
    "\n",
    "* depois tenta afectar-se $B$, mas qualquer valor tentado para $B$ viola a restrição entre $A$ e $B$, forçando o retrocesso de $A$ para 2;\n",
    "\n",
    "* a seguir $B$ já pode ficar com o valor 1 mas não há valor de $C$ que satisfaça $B$ > $C$, forçando o retrocesso em $B$ até esgotar todos os seus valores\n",
    "\n",
    "* forçando o retrocesso de $A$ para $A$=3, tentando $B$=1, mas falhando e\n",
    "\n",
    "* só depois $B$=2 e $C$=1, conseguindo uma solução consistente. \n",
    "\n",
    "O output `curr_domains` na primeira chamada de **backtracking_search()**, que é uma função recursiva, tem o valor `None` mas ficará com o valor de domains, mas não se vê isso no modo verbose. Não estranhem."
   ]
  },
  {
   "cell_type": "code",
   "execution_count": 11,
   "metadata": {},
   "outputs": [
    {
     "name": "stdout",
     "output_type": "stream",
     "text": [
      "Curr_domains: None\n",
      "Current assignment: {}\n",
      "\n",
      "Next selected Var = A\n",
      "Sorted domain left [1, 2, 3]\n",
      "--Test  A 1\n",
      "---UAU No Conflicts with already assigned variables!\n",
      "No inference!\n",
      "---Assigned!\n",
      "Curr_domains: {'A': [1], 'B': [1, 2, 3], 'C': [1, 2, 3]}\n",
      "Current assignment: {'A': 1}\n",
      "\n",
      "Next selected Var = B\n",
      "Sorted domain left [1, 2, 3]\n",
      "--Test  B 1\n",
      "---Conflict!! Backtrack\n",
      "--Test  B 2\n",
      "---Conflict!! Backtrack\n",
      "--Test  B 3\n",
      "---Conflict!! Backtrack\n",
      "---All values tested for  B\n",
      "\n",
      "---Backtrack on A = 1\n",
      "Restored domains: {'A': [2, 3], 'B': [1, 2, 3], 'C': [1, 2, 3]}\n",
      "--Test  A 2\n",
      "---UAU No Conflicts with already assigned variables!\n",
      "No inference!\n",
      "---Assigned!\n",
      "Curr_domains: {'A': [2], 'B': [1, 2, 3], 'C': [1, 2, 3]}\n",
      "Current assignment: {'A': 2}\n",
      "\n",
      "Next selected Var = B\n",
      "Sorted domain left [1, 2, 3]\n",
      "--Test  B 1\n",
      "---UAU No Conflicts with already assigned variables!\n",
      "No inference!\n",
      "---Assigned!\n",
      "Curr_domains: {'A': [2], 'B': [1], 'C': [1, 2, 3]}\n",
      "Current assignment: {'A': 2, 'B': 1}\n",
      "\n",
      "Next selected Var = C\n",
      "Sorted domain left [1, 2, 3]\n",
      "--Test  C 1\n",
      "---Conflict!! Backtrack\n",
      "--Test  C 2\n",
      "---Conflict!! Backtrack\n",
      "--Test  C 3\n",
      "---Conflict!! Backtrack\n",
      "---All values tested for  C\n",
      "\n",
      "---Backtrack on B = 1\n",
      "Restored domains: {'A': [2], 'B': [2, 3], 'C': [1, 2, 3]}\n",
      "--Test  B 2\n",
      "---Conflict!! Backtrack\n",
      "--Test  B 3\n",
      "---Conflict!! Backtrack\n",
      "---All values tested for  B\n",
      "\n",
      "---Backtrack on A = 2\n",
      "Restored domains: {'A': [3], 'B': [2, 3], 'C': [1, 2, 3]}\n",
      "--Test  A 3\n",
      "---UAU No Conflicts with already assigned variables!\n",
      "No inference!\n",
      "---Assigned!\n",
      "Curr_domains: {'A': [3], 'B': [2, 3], 'C': [1, 2, 3]}\n",
      "Current assignment: {'A': 3}\n",
      "\n",
      "Next selected Var = B\n",
      "Sorted domain left [2, 3]\n",
      "--Test  B 2\n",
      "---UAU No Conflicts with already assigned variables!\n",
      "No inference!\n",
      "---Assigned!\n",
      "Curr_domains: {'A': [3], 'B': [2], 'C': [1, 2, 3]}\n",
      "Current assignment: {'A': 3, 'B': 2}\n",
      "\n",
      "Next selected Var = C\n",
      "Sorted domain left [1, 2, 3]\n",
      "--Test  C 1\n",
      "---UAU No Conflicts with already assigned variables!\n",
      "No inference!\n",
      "---Assigned!\n",
      "Assignment p =  {'A': 3, 'B': 2, 'C': 1}\n"
     ]
    }
   ],
   "source": [
    "p = CSP_abc()\n",
    "r = backtracking_search(p,verbose = True)\n",
    "print('Assignment p = ',r) "
   ]
  },
  {
   "cell_type": "markdown",
   "metadata": {},
   "source": [
    "### Exercício 1\n",
    "Imagine que tem exactamente o mesmo problema mas que o domínio de $A$ é apenas formado por 1 e por 2. Aplique o `backtracking_search` com o modo verbose activo, depois de reformular."
   ]
  },
  {
   "cell_type": "code",
   "execution_count": 12,
   "metadata": {},
   "outputs": [
    {
     "name": "stdout",
     "output_type": "stream",
     "text": [
      "Curr_domains: None\n",
      "Current assignment: {}\n",
      "\n",
      "Next selected Var = A\n",
      "Sorted domain left [1, 2]\n",
      "--Test  A 1\n",
      "---UAU No Conflicts with already assigned variables!\n",
      "No inference!\n",
      "---Assigned!\n",
      "Curr_domains: {'A': [1], 'B': [1, 2, 3], 'C': [1, 2, 3]}\n",
      "Current assignment: {'A': 1}\n",
      "\n",
      "Next selected Var = B\n",
      "Sorted domain left [1, 2, 3]\n",
      "--Test  B 1\n",
      "---Conflict!! Backtrack\n",
      "--Test  B 2\n",
      "---Conflict!! Backtrack\n",
      "--Test  B 3\n",
      "---Conflict!! Backtrack\n",
      "---All values tested for  B\n",
      "\n",
      "---Backtrack on A = 1\n",
      "Restored domains: {'A': [2], 'B': [1, 2, 3], 'C': [1, 2, 3]}\n",
      "--Test  A 2\n",
      "---UAU No Conflicts with already assigned variables!\n",
      "No inference!\n",
      "---Assigned!\n",
      "Curr_domains: {'A': [2], 'B': [1, 2, 3], 'C': [1, 2, 3]}\n",
      "Current assignment: {'A': 2}\n",
      "\n",
      "Next selected Var = B\n",
      "Sorted domain left [1, 2, 3]\n",
      "--Test  B 1\n",
      "---UAU No Conflicts with already assigned variables!\n",
      "No inference!\n",
      "---Assigned!\n",
      "Curr_domains: {'A': [2], 'B': [1], 'C': [1, 2, 3]}\n",
      "Current assignment: {'A': 2, 'B': 1}\n",
      "\n",
      "Next selected Var = C\n",
      "Sorted domain left [1, 2, 3]\n",
      "--Test  C 1\n",
      "---Conflict!! Backtrack\n",
      "--Test  C 2\n",
      "---Conflict!! Backtrack\n",
      "--Test  C 3\n",
      "---Conflict!! Backtrack\n",
      "---All values tested for  C\n",
      "\n",
      "---Backtrack on B = 1\n",
      "Restored domains: {'A': [2], 'B': [2, 3], 'C': [1, 2, 3]}\n",
      "--Test  B 2\n",
      "---Conflict!! Backtrack\n",
      "--Test  B 3\n",
      "---Conflict!! Backtrack\n",
      "---All values tested for  B\n",
      "\n",
      "---Backtrack on A = 2\n",
      "Restored domains: {'A': [], 'B': [2, 3], 'C': [1, 2, 3]}\n",
      "---All values tested for  A\n",
      "Assignment p =  None\n"
     ]
    }
   ],
   "source": [
    "# Solução do exercício 1\n",
    "def CSP_abc_WithRest ():\n",
    "    \"\"\"\n",
    "    Retorna um objecto da classe CSP inicializado com as variáveis, os domínios,\n",
    "    os vizinhos e restrições do problema ABC\n",
    "    \"\"\"\n",
    "    \n",
    "    #Definir Variáveis\n",
    "    variaveis_abc = ['A', 'B','C']\n",
    "    \n",
    "    \"\"\"Definir Domínios\n",
    "    Devolve um dicionario com o mesmo domínio [1,2,3] para B e C e com A com dominio [1,2]\n",
    "    \"\"\"   \n",
    "    dominios_abc = {}\n",
    "    for v in variaveis_abc :\n",
    "        dominios_abc[v] = [1,2,3]\n",
    "    dominios_abc['A'] = [1,2]\n",
    " \n",
    "    #Definir Vizinhos    \n",
    "    # parse_neighbors trata da simetria. do not worry\n",
    "    vizinhos_abc = parse_neighbors('A : B; B: C')\n",
    "\n",
    "    #Definir função que verifica restrições binárias\n",
    "    def restricoes_abc(X, a, Y, b) :\n",
    "        \"\"\"\n",
    "        A implementação em CSP assume que as restrições são binárias.\n",
    "        Retorna True se (X=a,Y=b) satisfaz as restrições entre X e Y ou se não há restrição entre X e Y\n",
    "        \"\"\"\n",
    "        out = True\n",
    "        if (X == 'A' and Y=='B') or (X == 'B' and Y=='C'):\n",
    "            out = a > b\n",
    "        elif (X == 'B' and Y == 'A') or (X == 'C' and Y == 'B'):\n",
    "            out = a < b\n",
    "            \n",
    "        return out\n",
    "    return CSP(variaveis_abc, dominios_abc, vizinhos_abc, restricoes_abc)\n",
    "\n",
    "p1 = CSP_abc_WithRest()\n",
    "r = backtracking_search(p1,verbose = True)\n",
    "print('Assignment p = ',r) "
   ]
  },
  {
   "cell_type": "markdown",
   "metadata": {},
   "source": [
    "Como era esperado, não há solução! A procura foi em vão."
   ]
  },
  {
   "cell_type": "markdown",
   "metadata": {},
   "source": [
    "### Relevância da ordem inicial dos domínios\n",
    "Notem que a escolha fixa da ordem dos valores do domínio é relevante no processo de procura. Por exemplo, poderíamos reescrever o modelo mas em que invertemos a ordem dos valores no domínio de modo a que fiquem por ordem decrescente ao longo de todo o processo de procura. Reparem que ao reconstruirmos o objecto da classe **CSP** apenas invertemos a lista correspondente aos valores dos domínios."
   ]
  },
  {
   "cell_type": "code",
   "execution_count": 13,
   "metadata": {},
   "outputs": [],
   "source": [
    "def CSP_abc_inv ():\n",
    "    \"\"\"\n",
    "    Retorna um objecto da classe CSP inicializado com as variáveis, os domínios,\n",
    "    os vizinhos e restrições do problema ABC\n",
    "    \"\"\"\n",
    "    \n",
    "    #Definir Variáveis\n",
    "    variaveis_abc = ['A', 'B','C']\n",
    "    \n",
    "    \"\"\"Definir Domínios\n",
    "    Devolve um dicionario com os domínios com as variáveis do problema dos Golfers.\n",
    "    \"\"\"   \n",
    "    dominios_abc = {}\n",
    "    for v in variaveis_abc :\n",
    "        dominios_abc[v] = [3,2,1]\n",
    " \n",
    "    #Definir Vizinhos    \n",
    "    # parse_neighbors trata da simetria. do not worry\n",
    "    vizinhos_abc = parse_neighbors('A : B; B: C')\n",
    "\n",
    "    #Definir função que verifica restrições binárias\n",
    "    def restricoes_abc(X, a, Y, b) :\n",
    "        \"\"\"\n",
    "        A implementação em CSP assume que as restrições são binárias.\n",
    "        Retorna True se (X=a,Y=b) satisfaz as restrições entre X e Y ou se não há restrição entre X e Y\n",
    "        \"\"\"\n",
    "        out = True\n",
    "        if (X == 'A' and Y=='B') or (X == 'B' and Y=='C'):\n",
    "            out = a > b\n",
    "        elif (X == 'B' and Y == 'A') or (X == 'C' and Y == 'B'):\n",
    "            out = b > a\n",
    "            \n",
    "        return out\n",
    "        \n",
    "    return CSP(variaveis_abc, dominios_abc, vizinhos_abc, restricoes_abc)"
   ]
  },
  {
   "cell_type": "markdown",
   "metadata": {},
   "source": [
    "Vamos procurar então... com o modo verboso activo"
   ]
  },
  {
   "cell_type": "code",
   "execution_count": 14,
   "metadata": {},
   "outputs": [
    {
     "name": "stdout",
     "output_type": "stream",
     "text": [
      "Curr_domains: None\n",
      "Current assignment: {}\n",
      "\n",
      "Next selected Var = A\n",
      "Sorted domain left [3, 2, 1]\n",
      "--Test  A 3\n",
      "---UAU No Conflicts with already assigned variables!\n",
      "No inference!\n",
      "---Assigned!\n",
      "Curr_domains: {'A': [3], 'B': [3, 2, 1], 'C': [3, 2, 1]}\n",
      "Current assignment: {'A': 3}\n",
      "\n",
      "Next selected Var = B\n",
      "Sorted domain left [3, 2, 1]\n",
      "--Test  B 3\n",
      "---Conflict!! Backtrack\n",
      "--Test  B 2\n",
      "---UAU No Conflicts with already assigned variables!\n",
      "No inference!\n",
      "---Assigned!\n",
      "Curr_domains: {'A': [3], 'B': [2], 'C': [3, 2, 1]}\n",
      "Current assignment: {'A': 3, 'B': 2}\n",
      "\n",
      "Next selected Var = C\n",
      "Sorted domain left [3, 2, 1]\n",
      "--Test  C 3\n",
      "---Conflict!! Backtrack\n",
      "--Test  C 2\n",
      "---Conflict!! Backtrack\n",
      "--Test  C 1\n",
      "---UAU No Conflicts with already assigned variables!\n",
      "No inference!\n",
      "---Assigned!\n",
      "Assignment p =  {'A': 3, 'B': 2, 'C': 1}\n"
     ]
    }
   ],
   "source": [
    "p = CSP_abc_inv()\n",
    "r = backtracking_search(p,verbose = True)\n",
    "print('Assignment p = ',r)"
   ]
  },
  {
   "cell_type": "markdown",
   "metadata": {},
   "source": [
    "Neste caso, a ordem invertida dos domínios decrementou o tempo de procura, particularmente porque se adaptou a um problema cujas restrições obrigavam a valores de C menores do que os de $B$ e de $A$ e valores de $B$ menores do que os de $A$. É claro que saber qual a ordem ideal de afectação das variáveis é uma incógnita para a maior parte dos problemas."
   ]
  },
  {
   "cell_type": "markdown",
   "metadata": {},
   "source": [
    "### Problema das N raínhas\n",
    "\n",
    "<img src=\".\\imagens\\Eight-queens-animation.gif\" alt=\"Drawing\" style=\"width: 180px;\"/>\n",
    "\n",
    "Considere o problema de colocar N raínhas num tabuleiro NxN de modo a que nenhuma se ataque. \n",
    "Na formulação das N raínhas temos como\n",
    "\n",
    "* variáveis: os números de $0$ a $N-1$, correspondentes às linhas ($0$ a mais no topo e $N-1$ a mais no fundo).\n",
    "* domínios: a lista de [0,1,...,N], correspondentes às colunas: 0, a mais à esquerda e N-1 a mais à direita.\n",
    "* restrições: duas raínhas (sempre de linhas diferentes) não podem estar na mesma colunas nem nas mesmas diagonais. A vantagem de usarmos números para as variáveis é que podemos usá-las para os cálculos em que verificamos se não pertencem à mesma diagonal.\n",
    "    \n",
    "Note que os valores dos domínios e as variáveis são números de 0 a N-1. Esperemos que não se confundam.\n",
    "\n",
    "A implementação da função que gera o construtor da classe CSP para este problema está na célula python seguinte:"
   ]
  },
  {
   "cell_type": "code",
   "execution_count": 15,
   "metadata": {},
   "outputs": [],
   "source": [
    "def queen_constraint(A, a, B, b):\n",
    "    \"\"\"Constraint is satisfied (true) if A, B are really the same variable, or if they are not in the same row, down diagonal, or up diagonal.\"\"\"\n",
    "    return (a != b and A + a != B + b and A - a != B - b)\n",
    "\n",
    "def NQueensCSP(n):\n",
    "    \"\"\"Make a CSP for the nQueens problem \"\"\"\n",
    "    variables=list(range(n))\n",
    "    neighbors=dict()\n",
    "    for v in variables:\n",
    "        ns=list(range(n))\n",
    "        ns.remove(v)\n",
    "        neighbors[v]=ns\n",
    "        domains=dict()\n",
    "    for v in variables:\n",
    "        ns=list(range(n))\n",
    "        domains[v]=ns\n",
    "        \n",
    "    return CSP(variables, domains, neighbors, queen_constraint)"
   ]
  },
  {
   "cell_type": "markdown",
   "metadata": {},
   "source": [
    "#### O problema com 4 raínhas"
   ]
  },
  {
   "cell_type": "code",
   "execution_count": 16,
   "metadata": {},
   "outputs": [
    {
     "name": "stdout",
     "output_type": "stream",
     "text": [
      "CSP para 4 raínhas:\n",
      "    As variáveis: [0, 1, 2, 3]\n",
      "    Os domínios: {0: [0, 1, 2, 3], 1: [0, 1, 2, 3], 2: [0, 1, 2, 3], 3: [0, 1, 2, 3]}\n",
      "    Os vizinhos: {0: [1, 2, 3], 1: [0, 2, 3], 2: [0, 1, 3], 3: [0, 1, 2]}\n"
     ]
    }
   ],
   "source": [
    "# criemos um problema com 5 raínhas e mostremos as variáveis, os domínios e os vizinhos:\n",
    "num=4\n",
    "q4 = NQueensCSP(num)\n",
    "print('CSP para', num, 'raínhas:')\n",
    "print('    As variáveis:',q4.variables)\n",
    "print('    Os domínios:',q4.domains)\n",
    "print('    Os vizinhos:',q4.neighbors)"
   ]
  },
  {
   "cell_type": "markdown",
   "metadata": {},
   "source": [
    "Vejemos a árvore de procura para as 4 raínhas:\n",
    "\n",
    "<img src=\".\\imagens\\bo9Iy.png\" alt=\"Drawing\" style=\"width: 250px;\"/>\n",
    "\n",
    "Invoquemos a função **backtracking_search()** com o modo verboso a off primeiro"
   ]
  },
  {
   "cell_type": "code",
   "execution_count": 17,
   "metadata": {},
   "outputs": [
    {
     "name": "stdout",
     "output_type": "stream",
     "text": [
      "Solução: {0: 1, 1: 3, 2: 0, 3: 2}\n"
     ]
    }
   ],
   "source": [
    "r4=backtracking_search(q4)\n",
    "print('Solução:',r4)"
   ]
  },
  {
   "cell_type": "markdown",
   "metadata": {},
   "source": [
    "Agora sigamos o processo da procura com o modo verboso ligado"
   ]
  },
  {
   "cell_type": "code",
   "execution_count": 18,
   "metadata": {},
   "outputs": [
    {
     "name": "stdout",
     "output_type": "stream",
     "text": [
      "Curr_domains: {0: [1], 1: [3], 2: [0], 3: [2]}\n",
      "Current assignment: {}\n",
      "\n",
      "Next selected Var = 0\n",
      "Sorted domain left [1]\n",
      "--Test  0 1\n",
      "---UAU No Conflicts with already assigned variables!\n",
      "No inference!\n",
      "---Assigned!\n",
      "Curr_domains: {0: [1], 1: [3], 2: [0], 3: [2]}\n",
      "Current assignment: {0: 1}\n",
      "\n",
      "Next selected Var = 1\n",
      "Sorted domain left [3]\n",
      "--Test  1 3\n",
      "---UAU No Conflicts with already assigned variables!\n",
      "No inference!\n",
      "---Assigned!\n",
      "Curr_domains: {0: [1], 1: [3], 2: [0], 3: [2]}\n",
      "Current assignment: {0: 1, 1: 3}\n",
      "\n",
      "Next selected Var = 2\n",
      "Sorted domain left [0]\n",
      "--Test  2 0\n",
      "---UAU No Conflicts with already assigned variables!\n",
      "No inference!\n",
      "---Assigned!\n",
      "Curr_domains: {0: [1], 1: [3], 2: [0], 3: [2]}\n",
      "Current assignment: {0: 1, 1: 3, 2: 0}\n",
      "\n",
      "Next selected Var = 3\n",
      "Sorted domain left [2]\n",
      "--Test  3 2\n",
      "---UAU No Conflicts with already assigned variables!\n",
      "No inference!\n",
      "---Assigned!\n",
      "Solução: {0: 1, 1: 3, 2: 0, 3: 2}\n"
     ]
    }
   ],
   "source": [
    "\n",
    "r4 = backtracking_search(q4,verbose=True)\n",
    "print('Solução:',r4)"
   ]
  },
  {
   "cell_type": "markdown",
   "metadata": {},
   "source": [
    "#### O problema com 5 raínhas\n",
    "Depois de criarmos um problema com 5 raínhas, verifiquemos o tempo que demora a encontrar uma solução usando o caso base do **backtracking_search()**."
   ]
  },
  {
   "cell_type": "code",
   "execution_count": 19,
   "metadata": {},
   "outputs": [
    {
     "name": "stdout",
     "output_type": "stream",
     "text": [
      "Retrocesso para 4 raínhas, caso base, sem preprocessamento, sem inferência nem heurísticas\n",
      "Solução:  {0: 0, 1: 2, 2: 4, 3: 1, 4: 3}\n",
      "Tempo de execução 0.00020619999999993421\n"
     ]
    }
   ],
   "source": [
    "q5 = NQueensCSP(5)\n",
    "import timeit\n",
    "print('Retrocesso para',num, 'raínhas, caso base, sem preprocessamento, sem inferência nem heurísticas')\n",
    "start = timeit.default_timer()\n",
    "r5 = backtracking_search(q5)\n",
    "stop = timeit.default_timer()\n",
    "time_exec = stop-start\n",
    "print('Solução: ',r5)\n",
    "print('Tempo de execução',time_exec)"
   ]
  },
  {
   "cell_type": "markdown",
   "metadata": {},
   "source": [
    "O processo de procura corresponde a esta árvore:\n",
    "<img src=\".\\imagens\\tree_rainhas4.PNG\" alt=\"Drawing\" style=\"width: 600px;\"/>\n"
   ]
  },
  {
   "cell_type": "markdown",
   "metadata": {},
   "source": [
    "Experimentemos agora para o problema standard de 8 raínhas:"
   ]
  },
  {
   "cell_type": "code",
   "execution_count": 20,
   "metadata": {},
   "outputs": [
    {
     "name": "stdout",
     "output_type": "stream",
     "text": [
      "Retrocesso para 8 raínhas, caso base, sem preprocessamento, sem inferência nem heurísticas\n",
      "Assignment q =  {0: 0, 1: 4, 2: 7, 3: 5, 4: 2, 5: 6, 6: 1, 7: 3}\n",
      "Tempo de execução 0.005212800000000017\n"
     ]
    }
   ],
   "source": [
    "num=8\n",
    "q = NQueensCSP(num)\n",
    "import timeit\n",
    "print('Retrocesso para',num, 'raínhas, caso base, sem preprocessamento, sem inferência nem heurísticas')\n",
    "start = timeit.default_timer()\n",
    "r = backtracking_search(q)\n",
    "stop = timeit.default_timer()\n",
    "time_exec = stop-start\n",
    "print('Assignment q = ',r)\n",
    "print('Tempo de execução',time_exec)"
   ]
  },
  {
   "cell_type": "markdown",
   "metadata": {},
   "source": [
    "Aumentemos o tabuleiro para 20 raínhas:"
   ]
  },
  {
   "cell_type": "code",
   "execution_count": 21,
   "metadata": {},
   "outputs": [
    {
     "name": "stdout",
     "output_type": "stream",
     "text": [
      "Retrocesso para 20 raínhas, caso base, sem preprocessamento, sem inferência nem heurísticas\n"
     ]
    },
    {
     "ename": "KeyboardInterrupt",
     "evalue": "",
     "output_type": "error",
     "traceback": [
      "\u001b[1;31m---------------------------------------------------------------------------\u001b[0m",
      "\u001b[1;31mKeyboardInterrupt\u001b[0m                         Traceback (most recent call last)",
      "\u001b[1;32m<ipython-input-21-b6eb168dd25e>\u001b[0m in \u001b[0;36m<module>\u001b[1;34m\u001b[0m\n\u001b[0;32m      4\u001b[0m \u001b[0mprint\u001b[0m\u001b[1;33m(\u001b[0m\u001b[1;34m'Retrocesso para'\u001b[0m\u001b[1;33m,\u001b[0m\u001b[0mnum\u001b[0m\u001b[1;33m,\u001b[0m \u001b[1;34m'raínhas, caso base, sem preprocessamento, sem inferência nem heurísticas'\u001b[0m\u001b[1;33m)\u001b[0m\u001b[1;33m\u001b[0m\u001b[1;33m\u001b[0m\u001b[0m\n\u001b[0;32m      5\u001b[0m \u001b[0mstart\u001b[0m \u001b[1;33m=\u001b[0m \u001b[0mtimeit\u001b[0m\u001b[1;33m.\u001b[0m\u001b[0mdefault_timer\u001b[0m\u001b[1;33m(\u001b[0m\u001b[1;33m)\u001b[0m\u001b[1;33m\u001b[0m\u001b[1;33m\u001b[0m\u001b[0m\n\u001b[1;32m----> 6\u001b[1;33m \u001b[0mr\u001b[0m \u001b[1;33m=\u001b[0m \u001b[0mbacktracking_search\u001b[0m\u001b[1;33m(\u001b[0m\u001b[0mq\u001b[0m\u001b[1;33m)\u001b[0m\u001b[1;33m\u001b[0m\u001b[1;33m\u001b[0m\u001b[0m\n\u001b[0m\u001b[0;32m      7\u001b[0m \u001b[0mstop\u001b[0m \u001b[1;33m=\u001b[0m \u001b[0mtimeit\u001b[0m\u001b[1;33m.\u001b[0m\u001b[0mdefault_timer\u001b[0m\u001b[1;33m(\u001b[0m\u001b[1;33m)\u001b[0m\u001b[1;33m\u001b[0m\u001b[1;33m\u001b[0m\u001b[0m\n\u001b[0;32m      8\u001b[0m \u001b[0mtime_exec\u001b[0m \u001b[1;33m=\u001b[0m \u001b[0mstop\u001b[0m\u001b[1;33m-\u001b[0m\u001b[0mstart\u001b[0m\u001b[1;33m\u001b[0m\u001b[1;33m\u001b[0m\u001b[0m\n",
      "\u001b[1;32m~\\Desktop\\Tudo\\IIA\\TP9\\csp_v2.py\u001b[0m in \u001b[0;36mbacktracking_search\u001b[1;34m(csp, select_unassigned_variable, order_domain_values, inference, verbose)\u001b[0m\n\u001b[0;32m    368\u001b[0m         \u001b[1;32mreturn\u001b[0m \u001b[1;32mNone\u001b[0m\u001b[1;33m\u001b[0m\u001b[1;33m\u001b[0m\u001b[0m\n\u001b[0;32m    369\u001b[0m \u001b[1;33m\u001b[0m\u001b[0m\n\u001b[1;32m--> 370\u001b[1;33m     \u001b[0mresult\u001b[0m \u001b[1;33m=\u001b[0m \u001b[0mbacktrack\u001b[0m\u001b[1;33m(\u001b[0m\u001b[1;33m{\u001b[0m\u001b[1;33m}\u001b[0m\u001b[1;33m)\u001b[0m\u001b[1;33m\u001b[0m\u001b[1;33m\u001b[0m\u001b[0m\n\u001b[0m\u001b[0;32m    371\u001b[0m     \u001b[1;32massert\u001b[0m \u001b[0mresult\u001b[0m \u001b[1;32mis\u001b[0m \u001b[1;32mNone\u001b[0m \u001b[1;32mor\u001b[0m \u001b[0mcsp\u001b[0m\u001b[1;33m.\u001b[0m\u001b[0mgoal_test\u001b[0m\u001b[1;33m(\u001b[0m\u001b[0mresult\u001b[0m\u001b[1;33m)\u001b[0m\u001b[1;33m\u001b[0m\u001b[1;33m\u001b[0m\u001b[0m\n\u001b[0;32m    372\u001b[0m     \u001b[1;32mreturn\u001b[0m \u001b[0mresult\u001b[0m\u001b[1;33m\u001b[0m\u001b[1;33m\u001b[0m\u001b[0m\n",
      "\u001b[1;32m~\\Desktop\\Tudo\\IIA\\TP9\\csp_v2.py\u001b[0m in \u001b[0;36mbacktrack\u001b[1;34m(assignment)\u001b[0m\n\u001b[0;32m    352\u001b[0m                     \u001b[1;32mif\u001b[0m \u001b[0mverbose\u001b[0m\u001b[1;33m:\u001b[0m\u001b[1;33m\u001b[0m\u001b[1;33m\u001b[0m\u001b[0m\n\u001b[0;32m    353\u001b[0m                         \u001b[0mprint\u001b[0m\u001b[1;33m(\u001b[0m\u001b[1;34m'---Assigned!'\u001b[0m\u001b[1;33m)\u001b[0m\u001b[1;33m\u001b[0m\u001b[1;33m\u001b[0m\u001b[0m\n\u001b[1;32m--> 354\u001b[1;33m                     \u001b[0mresult\u001b[0m \u001b[1;33m=\u001b[0m \u001b[0mbacktrack\u001b[0m\u001b[1;33m(\u001b[0m\u001b[0massignment\u001b[0m\u001b[1;33m)\u001b[0m\u001b[1;33m\u001b[0m\u001b[1;33m\u001b[0m\u001b[0m\n\u001b[0m\u001b[0;32m    355\u001b[0m                     \u001b[1;32mif\u001b[0m \u001b[0mresult\u001b[0m\u001b[1;33m:\u001b[0m\u001b[1;33m\u001b[0m\u001b[1;33m\u001b[0m\u001b[0m\n\u001b[0;32m    356\u001b[0m                         \u001b[1;32mreturn\u001b[0m \u001b[0mresult\u001b[0m\u001b[1;33m\u001b[0m\u001b[1;33m\u001b[0m\u001b[0m\n",
      "\u001b[1;32m~\\Desktop\\Tudo\\IIA\\TP9\\csp_v2.py\u001b[0m in \u001b[0;36mbacktrack\u001b[1;34m(assignment)\u001b[0m\n\u001b[0;32m    352\u001b[0m                     \u001b[1;32mif\u001b[0m \u001b[0mverbose\u001b[0m\u001b[1;33m:\u001b[0m\u001b[1;33m\u001b[0m\u001b[1;33m\u001b[0m\u001b[0m\n\u001b[0;32m    353\u001b[0m                         \u001b[0mprint\u001b[0m\u001b[1;33m(\u001b[0m\u001b[1;34m'---Assigned!'\u001b[0m\u001b[1;33m)\u001b[0m\u001b[1;33m\u001b[0m\u001b[1;33m\u001b[0m\u001b[0m\n\u001b[1;32m--> 354\u001b[1;33m                     \u001b[0mresult\u001b[0m \u001b[1;33m=\u001b[0m \u001b[0mbacktrack\u001b[0m\u001b[1;33m(\u001b[0m\u001b[0massignment\u001b[0m\u001b[1;33m)\u001b[0m\u001b[1;33m\u001b[0m\u001b[1;33m\u001b[0m\u001b[0m\n\u001b[0m\u001b[0;32m    355\u001b[0m                     \u001b[1;32mif\u001b[0m \u001b[0mresult\u001b[0m\u001b[1;33m:\u001b[0m\u001b[1;33m\u001b[0m\u001b[1;33m\u001b[0m\u001b[0m\n\u001b[0;32m    356\u001b[0m                         \u001b[1;32mreturn\u001b[0m \u001b[0mresult\u001b[0m\u001b[1;33m\u001b[0m\u001b[1;33m\u001b[0m\u001b[0m\n",
      "\u001b[1;32m~\\Desktop\\Tudo\\IIA\\TP9\\csp_v2.py\u001b[0m in \u001b[0;36mbacktrack\u001b[1;34m(assignment)\u001b[0m\n\u001b[0;32m    352\u001b[0m                     \u001b[1;32mif\u001b[0m \u001b[0mverbose\u001b[0m\u001b[1;33m:\u001b[0m\u001b[1;33m\u001b[0m\u001b[1;33m\u001b[0m\u001b[0m\n\u001b[0;32m    353\u001b[0m                         \u001b[0mprint\u001b[0m\u001b[1;33m(\u001b[0m\u001b[1;34m'---Assigned!'\u001b[0m\u001b[1;33m)\u001b[0m\u001b[1;33m\u001b[0m\u001b[1;33m\u001b[0m\u001b[0m\n\u001b[1;32m--> 354\u001b[1;33m                     \u001b[0mresult\u001b[0m \u001b[1;33m=\u001b[0m \u001b[0mbacktrack\u001b[0m\u001b[1;33m(\u001b[0m\u001b[0massignment\u001b[0m\u001b[1;33m)\u001b[0m\u001b[1;33m\u001b[0m\u001b[1;33m\u001b[0m\u001b[0m\n\u001b[0m\u001b[0;32m    355\u001b[0m                     \u001b[1;32mif\u001b[0m \u001b[0mresult\u001b[0m\u001b[1;33m:\u001b[0m\u001b[1;33m\u001b[0m\u001b[1;33m\u001b[0m\u001b[0m\n\u001b[0;32m    356\u001b[0m                         \u001b[1;32mreturn\u001b[0m \u001b[0mresult\u001b[0m\u001b[1;33m\u001b[0m\u001b[1;33m\u001b[0m\u001b[0m\n",
      "\u001b[1;32m~\\Desktop\\Tudo\\IIA\\TP9\\csp_v2.py\u001b[0m in \u001b[0;36mbacktrack\u001b[1;34m(assignment)\u001b[0m\n\u001b[0;32m    352\u001b[0m                     \u001b[1;32mif\u001b[0m \u001b[0mverbose\u001b[0m\u001b[1;33m:\u001b[0m\u001b[1;33m\u001b[0m\u001b[1;33m\u001b[0m\u001b[0m\n\u001b[0;32m    353\u001b[0m                         \u001b[0mprint\u001b[0m\u001b[1;33m(\u001b[0m\u001b[1;34m'---Assigned!'\u001b[0m\u001b[1;33m)\u001b[0m\u001b[1;33m\u001b[0m\u001b[1;33m\u001b[0m\u001b[0m\n\u001b[1;32m--> 354\u001b[1;33m                     \u001b[0mresult\u001b[0m \u001b[1;33m=\u001b[0m \u001b[0mbacktrack\u001b[0m\u001b[1;33m(\u001b[0m\u001b[0massignment\u001b[0m\u001b[1;33m)\u001b[0m\u001b[1;33m\u001b[0m\u001b[1;33m\u001b[0m\u001b[0m\n\u001b[0m\u001b[0;32m    355\u001b[0m                     \u001b[1;32mif\u001b[0m \u001b[0mresult\u001b[0m\u001b[1;33m:\u001b[0m\u001b[1;33m\u001b[0m\u001b[1;33m\u001b[0m\u001b[0m\n\u001b[0;32m    356\u001b[0m                         \u001b[1;32mreturn\u001b[0m \u001b[0mresult\u001b[0m\u001b[1;33m\u001b[0m\u001b[1;33m\u001b[0m\u001b[0m\n",
      "\u001b[1;32m~\\Desktop\\Tudo\\IIA\\TP9\\csp_v2.py\u001b[0m in \u001b[0;36mbacktrack\u001b[1;34m(assignment)\u001b[0m\n\u001b[0;32m    352\u001b[0m                     \u001b[1;32mif\u001b[0m \u001b[0mverbose\u001b[0m\u001b[1;33m:\u001b[0m\u001b[1;33m\u001b[0m\u001b[1;33m\u001b[0m\u001b[0m\n\u001b[0;32m    353\u001b[0m                         \u001b[0mprint\u001b[0m\u001b[1;33m(\u001b[0m\u001b[1;34m'---Assigned!'\u001b[0m\u001b[1;33m)\u001b[0m\u001b[1;33m\u001b[0m\u001b[1;33m\u001b[0m\u001b[0m\n\u001b[1;32m--> 354\u001b[1;33m                     \u001b[0mresult\u001b[0m \u001b[1;33m=\u001b[0m \u001b[0mbacktrack\u001b[0m\u001b[1;33m(\u001b[0m\u001b[0massignment\u001b[0m\u001b[1;33m)\u001b[0m\u001b[1;33m\u001b[0m\u001b[1;33m\u001b[0m\u001b[0m\n\u001b[0m\u001b[0;32m    355\u001b[0m                     \u001b[1;32mif\u001b[0m \u001b[0mresult\u001b[0m\u001b[1;33m:\u001b[0m\u001b[1;33m\u001b[0m\u001b[1;33m\u001b[0m\u001b[0m\n\u001b[0;32m    356\u001b[0m                         \u001b[1;32mreturn\u001b[0m \u001b[0mresult\u001b[0m\u001b[1;33m\u001b[0m\u001b[1;33m\u001b[0m\u001b[0m\n",
      "\u001b[1;32m~\\Desktop\\Tudo\\IIA\\TP9\\csp_v2.py\u001b[0m in \u001b[0;36mbacktrack\u001b[1;34m(assignment)\u001b[0m\n\u001b[0;32m    352\u001b[0m                     \u001b[1;32mif\u001b[0m \u001b[0mverbose\u001b[0m\u001b[1;33m:\u001b[0m\u001b[1;33m\u001b[0m\u001b[1;33m\u001b[0m\u001b[0m\n\u001b[0;32m    353\u001b[0m                         \u001b[0mprint\u001b[0m\u001b[1;33m(\u001b[0m\u001b[1;34m'---Assigned!'\u001b[0m\u001b[1;33m)\u001b[0m\u001b[1;33m\u001b[0m\u001b[1;33m\u001b[0m\u001b[0m\n\u001b[1;32m--> 354\u001b[1;33m                     \u001b[0mresult\u001b[0m \u001b[1;33m=\u001b[0m \u001b[0mbacktrack\u001b[0m\u001b[1;33m(\u001b[0m\u001b[0massignment\u001b[0m\u001b[1;33m)\u001b[0m\u001b[1;33m\u001b[0m\u001b[1;33m\u001b[0m\u001b[0m\n\u001b[0m\u001b[0;32m    355\u001b[0m                     \u001b[1;32mif\u001b[0m \u001b[0mresult\u001b[0m\u001b[1;33m:\u001b[0m\u001b[1;33m\u001b[0m\u001b[1;33m\u001b[0m\u001b[0m\n\u001b[0;32m    356\u001b[0m                         \u001b[1;32mreturn\u001b[0m \u001b[0mresult\u001b[0m\u001b[1;33m\u001b[0m\u001b[1;33m\u001b[0m\u001b[0m\n",
      "\u001b[1;32m~\\Desktop\\Tudo\\IIA\\TP9\\csp_v2.py\u001b[0m in \u001b[0;36mbacktrack\u001b[1;34m(assignment)\u001b[0m\n\u001b[0;32m    352\u001b[0m                     \u001b[1;32mif\u001b[0m \u001b[0mverbose\u001b[0m\u001b[1;33m:\u001b[0m\u001b[1;33m\u001b[0m\u001b[1;33m\u001b[0m\u001b[0m\n\u001b[0;32m    353\u001b[0m                         \u001b[0mprint\u001b[0m\u001b[1;33m(\u001b[0m\u001b[1;34m'---Assigned!'\u001b[0m\u001b[1;33m)\u001b[0m\u001b[1;33m\u001b[0m\u001b[1;33m\u001b[0m\u001b[0m\n\u001b[1;32m--> 354\u001b[1;33m                     \u001b[0mresult\u001b[0m \u001b[1;33m=\u001b[0m \u001b[0mbacktrack\u001b[0m\u001b[1;33m(\u001b[0m\u001b[0massignment\u001b[0m\u001b[1;33m)\u001b[0m\u001b[1;33m\u001b[0m\u001b[1;33m\u001b[0m\u001b[0m\n\u001b[0m\u001b[0;32m    355\u001b[0m                     \u001b[1;32mif\u001b[0m \u001b[0mresult\u001b[0m\u001b[1;33m:\u001b[0m\u001b[1;33m\u001b[0m\u001b[1;33m\u001b[0m\u001b[0m\n\u001b[0;32m    356\u001b[0m                         \u001b[1;32mreturn\u001b[0m \u001b[0mresult\u001b[0m\u001b[1;33m\u001b[0m\u001b[1;33m\u001b[0m\u001b[0m\n",
      "\u001b[1;32m~\\Desktop\\Tudo\\IIA\\TP9\\csp_v2.py\u001b[0m in \u001b[0;36mbacktrack\u001b[1;34m(assignment)\u001b[0m\n\u001b[0;32m    352\u001b[0m                     \u001b[1;32mif\u001b[0m \u001b[0mverbose\u001b[0m\u001b[1;33m:\u001b[0m\u001b[1;33m\u001b[0m\u001b[1;33m\u001b[0m\u001b[0m\n\u001b[0;32m    353\u001b[0m                         \u001b[0mprint\u001b[0m\u001b[1;33m(\u001b[0m\u001b[1;34m'---Assigned!'\u001b[0m\u001b[1;33m)\u001b[0m\u001b[1;33m\u001b[0m\u001b[1;33m\u001b[0m\u001b[0m\n\u001b[1;32m--> 354\u001b[1;33m                     \u001b[0mresult\u001b[0m \u001b[1;33m=\u001b[0m \u001b[0mbacktrack\u001b[0m\u001b[1;33m(\u001b[0m\u001b[0massignment\u001b[0m\u001b[1;33m)\u001b[0m\u001b[1;33m\u001b[0m\u001b[1;33m\u001b[0m\u001b[0m\n\u001b[0m\u001b[0;32m    355\u001b[0m                     \u001b[1;32mif\u001b[0m \u001b[0mresult\u001b[0m\u001b[1;33m:\u001b[0m\u001b[1;33m\u001b[0m\u001b[1;33m\u001b[0m\u001b[0m\n\u001b[0;32m    356\u001b[0m                         \u001b[1;32mreturn\u001b[0m \u001b[0mresult\u001b[0m\u001b[1;33m\u001b[0m\u001b[1;33m\u001b[0m\u001b[0m\n",
      "\u001b[1;32m~\\Desktop\\Tudo\\IIA\\TP9\\csp_v2.py\u001b[0m in \u001b[0;36mbacktrack\u001b[1;34m(assignment)\u001b[0m\n\u001b[0;32m    352\u001b[0m                     \u001b[1;32mif\u001b[0m \u001b[0mverbose\u001b[0m\u001b[1;33m:\u001b[0m\u001b[1;33m\u001b[0m\u001b[1;33m\u001b[0m\u001b[0m\n\u001b[0;32m    353\u001b[0m                         \u001b[0mprint\u001b[0m\u001b[1;33m(\u001b[0m\u001b[1;34m'---Assigned!'\u001b[0m\u001b[1;33m)\u001b[0m\u001b[1;33m\u001b[0m\u001b[1;33m\u001b[0m\u001b[0m\n\u001b[1;32m--> 354\u001b[1;33m                     \u001b[0mresult\u001b[0m \u001b[1;33m=\u001b[0m \u001b[0mbacktrack\u001b[0m\u001b[1;33m(\u001b[0m\u001b[0massignment\u001b[0m\u001b[1;33m)\u001b[0m\u001b[1;33m\u001b[0m\u001b[1;33m\u001b[0m\u001b[0m\n\u001b[0m\u001b[0;32m    355\u001b[0m                     \u001b[1;32mif\u001b[0m \u001b[0mresult\u001b[0m\u001b[1;33m:\u001b[0m\u001b[1;33m\u001b[0m\u001b[1;33m\u001b[0m\u001b[0m\n\u001b[0;32m    356\u001b[0m                         \u001b[1;32mreturn\u001b[0m \u001b[0mresult\u001b[0m\u001b[1;33m\u001b[0m\u001b[1;33m\u001b[0m\u001b[0m\n",
      "\u001b[1;32m~\\Desktop\\Tudo\\IIA\\TP9\\csp_v2.py\u001b[0m in \u001b[0;36mbacktrack\u001b[1;34m(assignment)\u001b[0m\n\u001b[0;32m    352\u001b[0m                     \u001b[1;32mif\u001b[0m \u001b[0mverbose\u001b[0m\u001b[1;33m:\u001b[0m\u001b[1;33m\u001b[0m\u001b[1;33m\u001b[0m\u001b[0m\n\u001b[0;32m    353\u001b[0m                         \u001b[0mprint\u001b[0m\u001b[1;33m(\u001b[0m\u001b[1;34m'---Assigned!'\u001b[0m\u001b[1;33m)\u001b[0m\u001b[1;33m\u001b[0m\u001b[1;33m\u001b[0m\u001b[0m\n\u001b[1;32m--> 354\u001b[1;33m                     \u001b[0mresult\u001b[0m \u001b[1;33m=\u001b[0m \u001b[0mbacktrack\u001b[0m\u001b[1;33m(\u001b[0m\u001b[0massignment\u001b[0m\u001b[1;33m)\u001b[0m\u001b[1;33m\u001b[0m\u001b[1;33m\u001b[0m\u001b[0m\n\u001b[0m\u001b[0;32m    355\u001b[0m                     \u001b[1;32mif\u001b[0m \u001b[0mresult\u001b[0m\u001b[1;33m:\u001b[0m\u001b[1;33m\u001b[0m\u001b[1;33m\u001b[0m\u001b[0m\n\u001b[0;32m    356\u001b[0m                         \u001b[1;32mreturn\u001b[0m \u001b[0mresult\u001b[0m\u001b[1;33m\u001b[0m\u001b[1;33m\u001b[0m\u001b[0m\n",
      "\u001b[1;32m~\\Desktop\\Tudo\\IIA\\TP9\\csp_v2.py\u001b[0m in \u001b[0;36mbacktrack\u001b[1;34m(assignment)\u001b[0m\n\u001b[0;32m    352\u001b[0m                     \u001b[1;32mif\u001b[0m \u001b[0mverbose\u001b[0m\u001b[1;33m:\u001b[0m\u001b[1;33m\u001b[0m\u001b[1;33m\u001b[0m\u001b[0m\n\u001b[0;32m    353\u001b[0m                         \u001b[0mprint\u001b[0m\u001b[1;33m(\u001b[0m\u001b[1;34m'---Assigned!'\u001b[0m\u001b[1;33m)\u001b[0m\u001b[1;33m\u001b[0m\u001b[1;33m\u001b[0m\u001b[0m\n\u001b[1;32m--> 354\u001b[1;33m                     \u001b[0mresult\u001b[0m \u001b[1;33m=\u001b[0m \u001b[0mbacktrack\u001b[0m\u001b[1;33m(\u001b[0m\u001b[0massignment\u001b[0m\u001b[1;33m)\u001b[0m\u001b[1;33m\u001b[0m\u001b[1;33m\u001b[0m\u001b[0m\n\u001b[0m\u001b[0;32m    355\u001b[0m                     \u001b[1;32mif\u001b[0m \u001b[0mresult\u001b[0m\u001b[1;33m:\u001b[0m\u001b[1;33m\u001b[0m\u001b[1;33m\u001b[0m\u001b[0m\n\u001b[0;32m    356\u001b[0m                         \u001b[1;32mreturn\u001b[0m \u001b[0mresult\u001b[0m\u001b[1;33m\u001b[0m\u001b[1;33m\u001b[0m\u001b[0m\n",
      "\u001b[1;32m~\\Desktop\\Tudo\\IIA\\TP9\\csp_v2.py\u001b[0m in \u001b[0;36mbacktrack\u001b[1;34m(assignment)\u001b[0m\n\u001b[0;32m    352\u001b[0m                     \u001b[1;32mif\u001b[0m \u001b[0mverbose\u001b[0m\u001b[1;33m:\u001b[0m\u001b[1;33m\u001b[0m\u001b[1;33m\u001b[0m\u001b[0m\n\u001b[0;32m    353\u001b[0m                         \u001b[0mprint\u001b[0m\u001b[1;33m(\u001b[0m\u001b[1;34m'---Assigned!'\u001b[0m\u001b[1;33m)\u001b[0m\u001b[1;33m\u001b[0m\u001b[1;33m\u001b[0m\u001b[0m\n\u001b[1;32m--> 354\u001b[1;33m                     \u001b[0mresult\u001b[0m \u001b[1;33m=\u001b[0m \u001b[0mbacktrack\u001b[0m\u001b[1;33m(\u001b[0m\u001b[0massignment\u001b[0m\u001b[1;33m)\u001b[0m\u001b[1;33m\u001b[0m\u001b[1;33m\u001b[0m\u001b[0m\n\u001b[0m\u001b[0;32m    355\u001b[0m                     \u001b[1;32mif\u001b[0m \u001b[0mresult\u001b[0m\u001b[1;33m:\u001b[0m\u001b[1;33m\u001b[0m\u001b[1;33m\u001b[0m\u001b[0m\n\u001b[0;32m    356\u001b[0m                         \u001b[1;32mreturn\u001b[0m \u001b[0mresult\u001b[0m\u001b[1;33m\u001b[0m\u001b[1;33m\u001b[0m\u001b[0m\n",
      "\u001b[1;32m~\\Desktop\\Tudo\\IIA\\TP9\\csp_v2.py\u001b[0m in \u001b[0;36mbacktrack\u001b[1;34m(assignment)\u001b[0m\n\u001b[0;32m    352\u001b[0m                     \u001b[1;32mif\u001b[0m \u001b[0mverbose\u001b[0m\u001b[1;33m:\u001b[0m\u001b[1;33m\u001b[0m\u001b[1;33m\u001b[0m\u001b[0m\n\u001b[0;32m    353\u001b[0m                         \u001b[0mprint\u001b[0m\u001b[1;33m(\u001b[0m\u001b[1;34m'---Assigned!'\u001b[0m\u001b[1;33m)\u001b[0m\u001b[1;33m\u001b[0m\u001b[1;33m\u001b[0m\u001b[0m\n\u001b[1;32m--> 354\u001b[1;33m                     \u001b[0mresult\u001b[0m \u001b[1;33m=\u001b[0m \u001b[0mbacktrack\u001b[0m\u001b[1;33m(\u001b[0m\u001b[0massignment\u001b[0m\u001b[1;33m)\u001b[0m\u001b[1;33m\u001b[0m\u001b[1;33m\u001b[0m\u001b[0m\n\u001b[0m\u001b[0;32m    355\u001b[0m                     \u001b[1;32mif\u001b[0m \u001b[0mresult\u001b[0m\u001b[1;33m:\u001b[0m\u001b[1;33m\u001b[0m\u001b[1;33m\u001b[0m\u001b[0m\n\u001b[0;32m    356\u001b[0m                         \u001b[1;32mreturn\u001b[0m \u001b[0mresult\u001b[0m\u001b[1;33m\u001b[0m\u001b[1;33m\u001b[0m\u001b[0m\n",
      "\u001b[1;32m~\\Desktop\\Tudo\\IIA\\TP9\\csp_v2.py\u001b[0m in \u001b[0;36mbacktrack\u001b[1;34m(assignment)\u001b[0m\n\u001b[0;32m    352\u001b[0m                     \u001b[1;32mif\u001b[0m \u001b[0mverbose\u001b[0m\u001b[1;33m:\u001b[0m\u001b[1;33m\u001b[0m\u001b[1;33m\u001b[0m\u001b[0m\n\u001b[0;32m    353\u001b[0m                         \u001b[0mprint\u001b[0m\u001b[1;33m(\u001b[0m\u001b[1;34m'---Assigned!'\u001b[0m\u001b[1;33m)\u001b[0m\u001b[1;33m\u001b[0m\u001b[1;33m\u001b[0m\u001b[0m\n\u001b[1;32m--> 354\u001b[1;33m                     \u001b[0mresult\u001b[0m \u001b[1;33m=\u001b[0m \u001b[0mbacktrack\u001b[0m\u001b[1;33m(\u001b[0m\u001b[0massignment\u001b[0m\u001b[1;33m)\u001b[0m\u001b[1;33m\u001b[0m\u001b[1;33m\u001b[0m\u001b[0m\n\u001b[0m\u001b[0;32m    355\u001b[0m                     \u001b[1;32mif\u001b[0m \u001b[0mresult\u001b[0m\u001b[1;33m:\u001b[0m\u001b[1;33m\u001b[0m\u001b[1;33m\u001b[0m\u001b[0m\n\u001b[0;32m    356\u001b[0m                         \u001b[1;32mreturn\u001b[0m \u001b[0mresult\u001b[0m\u001b[1;33m\u001b[0m\u001b[1;33m\u001b[0m\u001b[0m\n",
      "\u001b[1;32m~\\Desktop\\Tudo\\IIA\\TP9\\csp_v2.py\u001b[0m in \u001b[0;36mbacktrack\u001b[1;34m(assignment)\u001b[0m\n\u001b[0;32m    352\u001b[0m                     \u001b[1;32mif\u001b[0m \u001b[0mverbose\u001b[0m\u001b[1;33m:\u001b[0m\u001b[1;33m\u001b[0m\u001b[1;33m\u001b[0m\u001b[0m\n\u001b[0;32m    353\u001b[0m                         \u001b[0mprint\u001b[0m\u001b[1;33m(\u001b[0m\u001b[1;34m'---Assigned!'\u001b[0m\u001b[1;33m)\u001b[0m\u001b[1;33m\u001b[0m\u001b[1;33m\u001b[0m\u001b[0m\n\u001b[1;32m--> 354\u001b[1;33m                     \u001b[0mresult\u001b[0m \u001b[1;33m=\u001b[0m \u001b[0mbacktrack\u001b[0m\u001b[1;33m(\u001b[0m\u001b[0massignment\u001b[0m\u001b[1;33m)\u001b[0m\u001b[1;33m\u001b[0m\u001b[1;33m\u001b[0m\u001b[0m\n\u001b[0m\u001b[0;32m    355\u001b[0m                     \u001b[1;32mif\u001b[0m \u001b[0mresult\u001b[0m\u001b[1;33m:\u001b[0m\u001b[1;33m\u001b[0m\u001b[1;33m\u001b[0m\u001b[0m\n\u001b[0;32m    356\u001b[0m                         \u001b[1;32mreturn\u001b[0m \u001b[0mresult\u001b[0m\u001b[1;33m\u001b[0m\u001b[1;33m\u001b[0m\u001b[0m\n",
      "\u001b[1;32m~\\Desktop\\Tudo\\IIA\\TP9\\csp_v2.py\u001b[0m in \u001b[0;36mbacktrack\u001b[1;34m(assignment)\u001b[0m\n\u001b[0;32m    352\u001b[0m                     \u001b[1;32mif\u001b[0m \u001b[0mverbose\u001b[0m\u001b[1;33m:\u001b[0m\u001b[1;33m\u001b[0m\u001b[1;33m\u001b[0m\u001b[0m\n\u001b[0;32m    353\u001b[0m                         \u001b[0mprint\u001b[0m\u001b[1;33m(\u001b[0m\u001b[1;34m'---Assigned!'\u001b[0m\u001b[1;33m)\u001b[0m\u001b[1;33m\u001b[0m\u001b[1;33m\u001b[0m\u001b[0m\n\u001b[1;32m--> 354\u001b[1;33m                     \u001b[0mresult\u001b[0m \u001b[1;33m=\u001b[0m \u001b[0mbacktrack\u001b[0m\u001b[1;33m(\u001b[0m\u001b[0massignment\u001b[0m\u001b[1;33m)\u001b[0m\u001b[1;33m\u001b[0m\u001b[1;33m\u001b[0m\u001b[0m\n\u001b[0m\u001b[0;32m    355\u001b[0m                     \u001b[1;32mif\u001b[0m \u001b[0mresult\u001b[0m\u001b[1;33m:\u001b[0m\u001b[1;33m\u001b[0m\u001b[1;33m\u001b[0m\u001b[0m\n\u001b[0;32m    356\u001b[0m                         \u001b[1;32mreturn\u001b[0m \u001b[0mresult\u001b[0m\u001b[1;33m\u001b[0m\u001b[1;33m\u001b[0m\u001b[0m\n",
      "\u001b[1;32m~\\Desktop\\Tudo\\IIA\\TP9\\csp_v2.py\u001b[0m in \u001b[0;36mbacktrack\u001b[1;34m(assignment)\u001b[0m\n\u001b[0;32m    352\u001b[0m                     \u001b[1;32mif\u001b[0m \u001b[0mverbose\u001b[0m\u001b[1;33m:\u001b[0m\u001b[1;33m\u001b[0m\u001b[1;33m\u001b[0m\u001b[0m\n\u001b[0;32m    353\u001b[0m                         \u001b[0mprint\u001b[0m\u001b[1;33m(\u001b[0m\u001b[1;34m'---Assigned!'\u001b[0m\u001b[1;33m)\u001b[0m\u001b[1;33m\u001b[0m\u001b[1;33m\u001b[0m\u001b[0m\n\u001b[1;32m--> 354\u001b[1;33m                     \u001b[0mresult\u001b[0m \u001b[1;33m=\u001b[0m \u001b[0mbacktrack\u001b[0m\u001b[1;33m(\u001b[0m\u001b[0massignment\u001b[0m\u001b[1;33m)\u001b[0m\u001b[1;33m\u001b[0m\u001b[1;33m\u001b[0m\u001b[0m\n\u001b[0m\u001b[0;32m    355\u001b[0m                     \u001b[1;32mif\u001b[0m \u001b[0mresult\u001b[0m\u001b[1;33m:\u001b[0m\u001b[1;33m\u001b[0m\u001b[1;33m\u001b[0m\u001b[0m\n\u001b[0;32m    356\u001b[0m                         \u001b[1;32mreturn\u001b[0m \u001b[0mresult\u001b[0m\u001b[1;33m\u001b[0m\u001b[1;33m\u001b[0m\u001b[0m\n",
      "\u001b[1;32m~\\Desktop\\Tudo\\IIA\\TP9\\csp_v2.py\u001b[0m in \u001b[0;36mbacktrack\u001b[1;34m(assignment)\u001b[0m\n\u001b[0;32m    352\u001b[0m                     \u001b[1;32mif\u001b[0m \u001b[0mverbose\u001b[0m\u001b[1;33m:\u001b[0m\u001b[1;33m\u001b[0m\u001b[1;33m\u001b[0m\u001b[0m\n\u001b[0;32m    353\u001b[0m                         \u001b[0mprint\u001b[0m\u001b[1;33m(\u001b[0m\u001b[1;34m'---Assigned!'\u001b[0m\u001b[1;33m)\u001b[0m\u001b[1;33m\u001b[0m\u001b[1;33m\u001b[0m\u001b[0m\n\u001b[1;32m--> 354\u001b[1;33m                     \u001b[0mresult\u001b[0m \u001b[1;33m=\u001b[0m \u001b[0mbacktrack\u001b[0m\u001b[1;33m(\u001b[0m\u001b[0massignment\u001b[0m\u001b[1;33m)\u001b[0m\u001b[1;33m\u001b[0m\u001b[1;33m\u001b[0m\u001b[0m\n\u001b[0m\u001b[0;32m    355\u001b[0m                     \u001b[1;32mif\u001b[0m \u001b[0mresult\u001b[0m\u001b[1;33m:\u001b[0m\u001b[1;33m\u001b[0m\u001b[1;33m\u001b[0m\u001b[0m\n\u001b[0;32m    356\u001b[0m                         \u001b[1;32mreturn\u001b[0m \u001b[0mresult\u001b[0m\u001b[1;33m\u001b[0m\u001b[1;33m\u001b[0m\u001b[0m\n",
      "\u001b[1;32m~\\Desktop\\Tudo\\IIA\\TP9\\csp_v2.py\u001b[0m in \u001b[0;36mbacktrack\u001b[1;34m(assignment)\u001b[0m\n\u001b[0;32m    342\u001b[0m             \u001b[1;32mif\u001b[0m \u001b[1;33m(\u001b[0m\u001b[0mverbose\u001b[0m\u001b[1;33m)\u001b[0m\u001b[1;33m:\u001b[0m\u001b[1;33m\u001b[0m\u001b[1;33m\u001b[0m\u001b[0m\n\u001b[0;32m    343\u001b[0m                 \u001b[0mprint\u001b[0m\u001b[1;33m(\u001b[0m\u001b[1;34m\"--Test \"\u001b[0m\u001b[1;33m,\u001b[0m \u001b[0mvar\u001b[0m\u001b[1;33m,\u001b[0m \u001b[0mvalue\u001b[0m\u001b[1;33m)\u001b[0m\u001b[1;33m\u001b[0m\u001b[1;33m\u001b[0m\u001b[0m\n\u001b[1;32m--> 344\u001b[1;33m             \u001b[1;32mif\u001b[0m \u001b[1;36m0\u001b[0m \u001b[1;33m==\u001b[0m \u001b[0mcsp\u001b[0m\u001b[1;33m.\u001b[0m\u001b[0mnconflicts\u001b[0m\u001b[1;33m(\u001b[0m\u001b[0mvar\u001b[0m\u001b[1;33m,\u001b[0m \u001b[0mvalue\u001b[0m\u001b[1;33m,\u001b[0m \u001b[0massignment\u001b[0m\u001b[1;33m)\u001b[0m\u001b[1;33m:\u001b[0m  \u001b[1;31m# with inference != None we should skip this...\u001b[0m\u001b[1;33m\u001b[0m\u001b[1;33m\u001b[0m\u001b[0m\n\u001b[0m\u001b[0;32m    345\u001b[0m                 \u001b[0mcsp\u001b[0m\u001b[1;33m.\u001b[0m\u001b[0massign\u001b[0m\u001b[1;33m(\u001b[0m\u001b[0mvar\u001b[0m\u001b[1;33m,\u001b[0m \u001b[0mvalue\u001b[0m\u001b[1;33m,\u001b[0m \u001b[0massignment\u001b[0m\u001b[1;33m)\u001b[0m\u001b[1;33m\u001b[0m\u001b[1;33m\u001b[0m\u001b[0m\n\u001b[0;32m    346\u001b[0m                 \u001b[1;32mif\u001b[0m \u001b[0mverbose\u001b[0m\u001b[1;33m:\u001b[0m\u001b[1;33m\u001b[0m\u001b[1;33m\u001b[0m\u001b[0m\n",
      "\u001b[1;32m~\\Desktop\\Tudo\\IIA\\TP9\\csp_v2.py\u001b[0m in \u001b[0;36mnconflicts\u001b[1;34m(self, var, val, assignment)\u001b[0m\n\u001b[0;32m     80\u001b[0m             return (var2 in assignment and\n\u001b[0;32m     81\u001b[0m                     not self.constraints(var, val, var2, assignment[var2]))\n\u001b[1;32m---> 82\u001b[1;33m         \u001b[1;32mreturn\u001b[0m \u001b[0mcount\u001b[0m\u001b[1;33m(\u001b[0m\u001b[0mconflict\u001b[0m\u001b[1;33m(\u001b[0m\u001b[0mv\u001b[0m\u001b[1;33m)\u001b[0m \u001b[1;32mfor\u001b[0m \u001b[0mv\u001b[0m \u001b[1;32min\u001b[0m \u001b[0mself\u001b[0m\u001b[1;33m.\u001b[0m\u001b[0mneighbors\u001b[0m\u001b[1;33m[\u001b[0m\u001b[0mvar\u001b[0m\u001b[1;33m]\u001b[0m\u001b[1;33m)\u001b[0m\u001b[1;33m\u001b[0m\u001b[1;33m\u001b[0m\u001b[0m\n\u001b[0m\u001b[0;32m     83\u001b[0m \u001b[1;33m\u001b[0m\u001b[0m\n\u001b[0;32m     84\u001b[0m     \"\"\"   \n",
      "\u001b[1;31mKeyboardInterrupt\u001b[0m: "
     ]
    }
   ],
   "source": [
    "num=20\n",
    "q = NQueensCSP(num)\n",
    "import timeit\n",
    "print('Retrocesso para',num, 'raínhas, caso base, sem preprocessamento, sem inferência nem heurísticas')\n",
    "start = timeit.default_timer()\n",
    "r = backtracking_search(q)\n",
    "stop = timeit.default_timer()\n",
    "time_exec = stop-start\n",
    "print('Solução = ',r)\n",
    "print('Tempo de execução',time_exec)"
   ]
  },
  {
   "cell_type": "markdown",
   "metadata": {},
   "source": [
    "### Exercício 2\n",
    "\n",
    "Reformulem o problema das N raínhas de modo a que a `ordem das variáveis` não seja sempre a mesma, sendo gerada de forma aleatória durante a criação do CSP. Compare a resolução do problema usando o **backtracking_search()** para diferentes ordenações das variáveis, em que podem usar a função **random.shuffle()** para baralhar uma lista. Podem experimentar repetidas vezes para as 20 raínhas para comparar com a versão anterior com as variáveis ordenadas de forma crescente. Até podem experimentar para valores maiores de N."
   ]
  },
  {
   "cell_type": "markdown",
   "metadata": {},
   "source": [
    "### Exercício 3\n",
    "\n",
    "Reformulem o problema das N raínhas de modo a que a `ordem dos valores` do domínio seja aleatório para cada uma das variáveis. Compare a resolução do problema usando o **backtracking_search()** para diferentes ordenações das variáveis, em que podem usar a função **random.shuffle()** para baralhar uma lista. Podem experimentar repetidas vezes para as 20 raínhas para comparar com as versões anteriores com as variáveis ordenadas de forma crescente e com as variáveis ordenadas de modo aleatório. Penso que podem ir mais longe e experimentar para 50 raínhas, por exemplo."
   ]
  },
  {
   "cell_type": "code",
   "execution_count": 22,
   "metadata": {},
   "outputs": [
    {
     "name": "stdout",
     "output_type": "stream",
     "text": [
      "Retrocesso para 10 raínhas, caso base, sem preprocessamento, sem inferência nem heurísticas\n",
      "Assignment q =  {3: 0, 4: 2, 0: 1, 7: 3, 2: 5, 8: 7, 9: 4, 5: 9, 1: 8, 6: 6}\n",
      "Tempo de execução 0.0006192999999967697\n"
     ]
    }
   ],
   "source": [
    "# Solução do exercício 2\n",
    "def queen_constraint(A, a, B, b):\n",
    "    \"\"\"Constraint is satisfied (true) if A, B are really the same variable, or if they are not in the same row, down diagonal, or up diagonal.\"\"\"\n",
    "    return (a != b and A + a != B + b and A - a != B - b)\n",
    "\n",
    "def NQueensCSP_shuffle_variables(n):\n",
    "    \"\"\"Make a CSP for the nQueens problem \"\"\"\n",
    "    variables=list(range(n))\n",
    "    neighbors=dict()\n",
    "    for v in variables:\n",
    "        ns=list(range(n))\n",
    "        ns.remove(v)\n",
    "        neighbors[v]=ns\n",
    "        domains=dict()\n",
    "    for v in variables:\n",
    "        ns=list(range(n))\n",
    "        domains[v]=ns\n",
    "        \n",
    "    random.shuffle(variables)\n",
    "        \n",
    "    return CSP(variables, domains, neighbors, queen_constraint)\n",
    "\n",
    "\n",
    "num=10\n",
    "import timeit\n",
    "q = NQueensCSP_shuffle_variables(num)\n",
    "print('Retrocesso para',num, 'raínhas, caso base, sem preprocessamento, sem inferência nem heurísticas')\n",
    "start = timeit.default_timer()\n",
    "r = backtracking_search(q)\n",
    "stop = timeit.default_timer()\n",
    "time_exec = stop-start\n",
    "print('Assignment q = ',r)\n",
    "print('Tempo de execução',time_exec)\n",
    "    "
   ]
  },
  {
   "cell_type": "code",
   "execution_count": 23,
   "metadata": {},
   "outputs": [
    {
     "name": "stdout",
     "output_type": "stream",
     "text": [
      "Retrocesso para 10 raínhas, caso base, sem preprocessamento, sem inferência nem heurísticas\n",
      "Assignment q =  {3: 0, 8: 1, 1: 3, 5: 6, 7: 7, 4: 2, 0: 5, 2: 8, 9: 4, 6: 9}\n",
      "Tempo de execução 0.0025011999999975387\n"
     ]
    }
   ],
   "source": [
    "# Solução do exercício 3\n",
    "# Solução do exercício 2\n",
    "def queen_constraint(A, a, B, b):\n",
    "    \"\"\"Constraint is satisfied (true) if A, B are really the same variable, or if they are not in the same row, down diagonal, or up diagonal.\"\"\"\n",
    "    return (a != b and A + a != B + b and A - a != B - b)\n",
    "\n",
    "def NQueensCSP_shuffle_domain(n):\n",
    "    \"\"\"Make a CSP for the nQueens problem \"\"\"\n",
    "    variables=list(range(n))\n",
    "    neighbors=dict()\n",
    "    for v in variables:\n",
    "        ns=list(range(n))\n",
    "        ns.remove(v)\n",
    "        neighbors[v]=ns\n",
    "        domains=dict()\n",
    "    for v in variables:\n",
    "        ns=list(range(n))\n",
    "        domains[v]=ns\n",
    "        random.shuffle(domains[v])\n",
    "        \n",
    "    \n",
    "        \n",
    "    return CSP(variables, domains, neighbors, queen_constraint)\n",
    "\n",
    "num=10\n",
    "import timeit\n",
    "q = NQueensCSP_shuffle_variables(num)\n",
    "print('Retrocesso para',num, 'raínhas, caso base, sem preprocessamento, sem inferência nem heurísticas')\n",
    "start = timeit.default_timer()\n",
    "r = backtracking_search(q)\n",
    "stop = timeit.default_timer()\n",
    "time_exec = stop-start\n",
    "print('Assignment q = ',r)\n",
    "print('Tempo de execução',time_exec)\n"
   ]
  },
  {
   "cell_type": "markdown",
   "metadata": {},
   "source": [
    "### Inferência Forward Checking\n",
    "No forward checking, os domínios das outras variáveis, por afectar ainda, daí o nome \"para a frente\" (forward), vão ser filtrados dos valores que entram em conflito com a última afectação.\n",
    "Iremos ilustrar o forward checking quando falha e quando sucede depois de uma afectação, tendo em conta as afectações anteriores e em conjunto com a procura em profundidade com retrocesso."
   ]
  },
  {
   "cell_type": "markdown",
   "metadata": {},
   "source": [
    "#### Quando o Forward Checking falha\n",
    "Suponhamos que a primeira variável a ser afectada é $A$ e que vamos começar por atribuir-lhe o valor de 1. Removem-se do domínio de $A$ os outros dois valores mas como se diz na cozinha reservam-se para o caso de tudo falhar e termos de repôr os domínios originais. \n",
    "\n",
    "Iremos propagar essa afectação às restantes variáveis ainda sem afectação, todas ainda com o domínio {1,2,3} e veremos que o $B$ não tem nenhum valor menor do que $A$ e falha. Todos os valores do domínio de $B$ foram removidos porque chocaram com $A$=1 e foram também reservados. No final, depois da falha do forward checking todos os domínios foram restaurados.\n",
    "Vamos ilustrar em python, fazendo uso de um conjunto de funções.\n",
    "\n",
    "    O atributo curr_domains() guarda o domínio corrente das variáveis.\n",
    "    A variável removals é a lista onde se colocam os pares (var,valor) que se reservaram\n"
   ]
  },
  {
   "cell_type": "markdown",
   "metadata": {},
   "source": [
    "Comecemos por criar uma instância do CSP $A>B>C$ e suponhamos que $A$=1."
   ]
  },
  {
   "cell_type": "code",
   "execution_count": 24,
   "metadata": {},
   "outputs": [
    {
     "name": "stdout",
     "output_type": "stream",
     "text": [
      "Domínios: {'A': [1, 2, 3], 'B': [1, 2, 3], 'C': [1, 2, 3]}\n",
      "Suponhamos que A toma o valor de 1\n",
      "Teremos de remover do domínio os outros valores do domínio de A: [('A', 2), ('A', 3)]\n",
      "{'A': [1], 'B': [1, 2, 3], 'C': [1, 2, 3]}\n"
     ]
    }
   ],
   "source": [
    "p = CSP_abc()\n",
    "p.curr_domains=p.domains\n",
    "print(\"Domínios:\",p.curr_domains)\n",
    "print('Suponhamos que A toma o valor de 1')\n",
    "removals=p.suppose('A',1)\n",
    "print('Teremos de remover do domínio os outros valores do domínio de A:',removals)\n",
    "print(p.curr_domains)"
   ]
  },
  {
   "cell_type": "markdown",
   "metadata": {},
   "source": [
    "Agora apliquemos o forward checking, "
   ]
  },
  {
   "cell_type": "code",
   "execution_count": 25,
   "metadata": {},
   "outputs": [
    {
     "name": "stdout",
     "output_type": "stream",
     "text": [
      "Apliquemos o Forward Checking\n",
      "Sucede o forward checking? False\n",
      "Domínios após forward checking =  {'A': [1], 'B': [], 'C': [1, 2, 3]}\n"
     ]
    }
   ],
   "source": [
    "print('Apliquemos o Forward Checking')\n",
    "print('Sucede o forward checking?',forward_checking(p, 'A', 1, {}, removals, False))\n",
    "print(\"Domínios após forward checking = \", p.curr_domains)"
   ]
  },
  {
   "cell_type": "markdown",
   "metadata": {},
   "source": [
    "O forward checking falha logo que uma das variáveis fique com o domínio vazio. Notem que ao invocar o forward checking passa-se uma variável, **removals**, que muda com a execução da função - são feitos *appends* no interior do **forward_checking()** e essa variável sai eventualmente mudada, mas não sai pelo canal do return. (Passagem por variável)"
   ]
  },
  {
   "cell_type": "markdown",
   "metadata": {},
   "source": [
    "Ao falhar, se quiseremos podemos restaurar os domínios originais (antes da filtragem) de modo a podermos retroceder se assim o quisermos. Ilustremos o uso de **restore()**:"
   ]
  },
  {
   "cell_type": "code",
   "execution_count": 26,
   "metadata": {},
   "outputs": [
    {
     "name": "stdout",
     "output_type": "stream",
     "text": [
      "Os que foram removidos, mas que afinal terão de ser restaurados [('A', 2), ('A', 3), ('B', 1), ('B', 2), ('B', 3)]\n",
      "Vamos restaurar\n",
      "Domínios: {'A': [1, 2, 3], 'B': [1, 2, 3], 'C': [1, 2, 3]}\n"
     ]
    }
   ],
   "source": [
    "print('Os que foram removidos, mas que afinal terão de ser restaurados',removals)\n",
    "print('Vamos restaurar')\n",
    "p.restore(removals)\n",
    "print(\"Domínios:\",p.curr_domains)"
   ]
  },
  {
   "cell_type": "markdown",
   "metadata": {},
   "source": [
    "#### Quando o Forward Checking sucede\n",
    "Vamos agora ilustrar um caso de sucesso do forward checking. Suponhamos que em vez de atribuirmos a $A$ o valor de 1 atribuímos o 2."
   ]
  },
  {
   "cell_type": "code",
   "execution_count": 27,
   "metadata": {},
   "outputs": [
    {
     "name": "stdout",
     "output_type": "stream",
     "text": [
      "Domínios: {'A': [1, 2, 3], 'B': [1, 2, 3], 'C': [1, 2, 3]}\n",
      "Suponhamos que A toma o valor de 2\n",
      "Teremos de remover do domínio os outros valores do domínio de A: [('A', 1), ('A', 3)]\n",
      "{'A': [2], 'B': [1, 2, 3], 'C': [1, 2, 3]}\n",
      "Apliquemos o Forward Checking\n",
      "Sucede o forward checking? True\n",
      "Domínios após forward checking =  {'A': [2], 'B': [1], 'C': [1, 2, 3]}\n"
     ]
    }
   ],
   "source": [
    "print(\"Domínios:\",p.curr_domains)\n",
    "print('Suponhamos que A toma o valor de 2')\n",
    "removals=p.suppose('A',2)\n",
    "print('Teremos de remover do domínio os outros valores do domínio de A:',removals)\n",
    "print(p.curr_domains)\n",
    "print('Apliquemos o Forward Checking')\n",
    "print('Sucede o forward checking?',forward_checking(p, 'A', 2, {}, removals, False))\n",
    "print(\"Domínios após forward checking = \", p.curr_domains)"
   ]
  },
  {
   "cell_type": "markdown",
   "metadata": {},
   "source": [
    "Notem que, como $B$ tem de ser menor do que $A$, $B$ só pode ter o valor de 1 quando $A$ é afectado com o 2, removendo-se 2 e 3 do domínio de $B$.\n",
    "$C$ não é afectado porque não há restrições entre $A$ e $C$."
   ]
  },
  {
   "cell_type": "markdown",
   "metadata": {},
   "source": [
    "Podemos ver os efeitos do forward checking sobre a versão em que os valores do domínio estão por ordem decrescente e afectamos $A$ a 3."
   ]
  },
  {
   "cell_type": "code",
   "execution_count": 28,
   "metadata": {},
   "outputs": [
    {
     "name": "stdout",
     "output_type": "stream",
     "text": [
      "Domínios: None\n",
      "Suponhamos que A toma o valor de 3\n",
      "Teremos de remover do domínio os outros valores do domínio de A: [('A', 2), ('A', 1)]\n",
      "{'A': [3], 'B': [3, 2, 1], 'C': [3, 2, 1]}\n",
      "Apliquemos o Forward Checking\n",
      "Sucede o forward checking? True\n",
      "Domínios após forward checking =  {'A': [3], 'B': [2, 1], 'C': [3, 2, 1]}\n"
     ]
    }
   ],
   "source": [
    "p = CSP_abc_inv()\n",
    "print(\"Domínios:\",p.curr_domains)\n",
    "print('Suponhamos que A toma o valor de 3')\n",
    "removals=p.suppose('A',3)\n",
    "print('Teremos de remover do domínio os outros valores do domínio de A:',removals)\n",
    "print(p.curr_domains)\n",
    "print('Apliquemos o Forward Checking')\n",
    "print('Sucede o forward checking?',forward_checking(p, 'A', 3, {}, removals, False))\n",
    "print(\"Domínios após forward checking = \", p.curr_domains)"
   ]
  },
  {
   "cell_type": "markdown",
   "metadata": {},
   "source": [
    "### Procura com Retrocesso usando a inferência Forward Checking"
   ]
  },
  {
   "cell_type": "markdown",
   "metadata": {},
   "source": [
    "Como vimos, o **FORWARD-CHECKING** permite detectar falhas antecipadamente: colocamos o argumento inference da função com o valor forward_checking. Permite também restringir os domínios das outras variáveis por afectar.\n",
    "\n",
    "Procura com **FORWARD-CHECKING**: propaga para a frente (reduzindo os domínios das variáveis ainda por afectar) após cada afectação. Retrocede quando alguns dos domínios filtrados fica vazio.\n",
    "\n",
    "Vamos aplicar a pesquisa em profundidade com retrocesso usando como inferência o forward checking. Vamos fazê-lo com o primeiro problema, $A>B>C$ com domínio {1,2,3} para todas as variáveis, a classe **CSP_abc()**. O resultado é o mesmo, com ou sem inferência mas a procura é menor como se pode observar."
   ]
  },
  {
   "cell_type": "code",
   "execution_count": null,
   "metadata": {},
   "outputs": [],
   "source": [
    "p = CSP_abc()\n",
    "r = backtracking_search(p,inference = forward_checking)\n",
    "print('Afectações = ',r)"
   ]
  },
  {
   "cell_type": "markdown",
   "metadata": {},
   "source": [
    "Agora, a versão com `verbose = True`. Percam um pouco de tempo a seguir o rasto do processo de procura."
   ]
  },
  {
   "cell_type": "code",
   "execution_count": null,
   "metadata": {},
   "outputs": [],
   "source": [
    "p = CSP_abc()\n",
    "r = backtracking_search(p,inference = forward_checking, verbose = True)\n",
    "print('Afectações = ',r) "
   ]
  },
  {
   "cell_type": "markdown",
   "metadata": {},
   "source": [
    "Vejemos o que se passa com o caso do modelo com os domínios com os valores em modo decrescente."
   ]
  },
  {
   "cell_type": "code",
   "execution_count": null,
   "metadata": {},
   "outputs": [],
   "source": [
    "p = CSP_abc_inv()\n",
    "r = backtracking_search(p,inference = forward_checking, verbose = True)\n",
    "print('Afectações = ',r) "
   ]
  },
  {
   "cell_type": "markdown",
   "metadata": {},
   "source": [
    "### Usando a Procura com Retrocesso + forward checking para resolver o problema das 4 raínhas\n",
    "\n",
    "Podemos ver o que acontece quando se aplica o forward-ckecking ao problema das 4 raínhas com as variáveis ordenadas de cima para baixo (ordem das variáveis: $0$, $1$, $2$ e $3$) e com as casas da esquerda para a direita (ordem dos domínios 0, 1, 2 e 3$).\n",
    "Na árvore os valores dos domínios filtrados devido à inferência e afectação aparecem com x. \n",
    "\n",
    "<img src=\".\\imagens\\tree_rainhas4-forwardCheck.PNG\" alt=\"Drawing\" style=\"width: 400px;\"/>\n"
   ]
  },
  {
   "cell_type": "markdown",
   "metadata": {},
   "source": [
    "#### Exercício 4\n",
    "Compare em termos do tempo que demora a encontrar a solução a procura em profundidade com retrocesso simples e a versão com filtragem dos domínios por forward checking para problema das N raínhas. Teste vários valores de N, tendo em atenção que para valores elevados de N pode demorar muito tempo em qualquer dos 2 casos. Se quiserem ir mais longe podem também comparar as versões de domínios iniciais aleatórios com e sem inferência por forward checking."
   ]
  },
  {
   "cell_type": "code",
   "execution_count": null,
   "metadata": {},
   "outputs": [],
   "source": [
    "## Resolução exercício 4\n",
    "\n"
   ]
  },
  {
   "cell_type": "markdown",
   "metadata": {},
   "source": [
    "### A Consistência dos Arcos\n",
    "Um arco dirigido $X_i\\rightarrow X_j$ é considerado como consistente se para todos os valores do domínio de $X_i$ existe pelo menos um valor do domínio de $X_j$ que satisfaz a restrição que envolve $X_i$ e $X_j$. Só faz sentido verificar a consistência dos arcos que estejam envolvidos em restrições.\n",
    "\n",
    "A consistência dos arcos é verificada através da função **consistent()** que recebe 3 inputs: csp (uma instância de *CSP*), $X_i$ e $X_j$ (as duas variáveis correspondentes ao arco $X_i\\rightarrow X_j$. \n",
    "\n",
    "```python\n",
    "def consistent(csp,Xi,Xj):\n",
    "    \"\"\"is the arc xi->sj consistent?\"\"\"\n",
    "    for x in csp.curr_domains[Xi][:]:\n",
    "        if not any(csp.constraints(Xi, x, Xj, y) for y in csp.curr_domains[Xj]):\n",
    "            return False\n",
    "    return True\n",
    "```"
   ]
  },
  {
   "cell_type": "markdown",
   "metadata": {},
   "source": [
    "Regressemos ao CSP $A>B>C$ e testemos a consistência do arco $A \\rightarrow B$:"
   ]
  },
  {
   "cell_type": "code",
   "execution_count": null,
   "metadata": {},
   "outputs": [],
   "source": [
    "p = CSP_abc()\n",
    "p.curr_domains=p.domains\n",
    "print('Domínios actuais são os iniciais:',p.curr_domains)\n",
    "print('É consistente o arco A->B?',consistent(p,'A','B'))"
   ]
  },
  {
   "cell_type": "markdown",
   "metadata": {},
   "source": [
    "Vamos ver se o arco inverso $B \\rightarrow A$ é consistente"
   ]
  },
  {
   "cell_type": "code",
   "execution_count": null,
   "metadata": {},
   "outputs": [],
   "source": [
    "print('É consistente o arco B->A?',consistent(p,'B','A'))"
   ]
  },
  {
   "cell_type": "markdown",
   "metadata": {},
   "source": [
    "Eis uma versão verbosa da função **consistent()** a que chamámos de **consistent_show()**"
   ]
  },
  {
   "cell_type": "code",
   "execution_count": null,
   "metadata": {},
   "outputs": [],
   "source": [
    "\n",
    "def any_satisfies_show(csp,Xi,x,Xj,verbose=False):\n",
    "    \"\"\"Does any value in domain of Xj satisfies the constraint with Xi=x\"\"\"\n",
    "    if verbose:\n",
    "            print('Verificando',Xi,'=',x)\n",
    "    for y in csp.curr_domains[Xj]:\n",
    "        if verbose:\n",
    "            print('       Verificando',Xj,'=',y)\n",
    "        res=csp.constraints(Xi, x, Xj, y)\n",
    "        if verbose:\n",
    "            print('       Satisfaz restrição?',res)\n",
    "        if res:\n",
    "            return True\n",
    "    print('       Todos falharam!')\n",
    "    return False \n",
    "    \n",
    "def consistent_show(csp,Xi,Xj,verbose=False):\n",
    "    \"\"\"is the arc xi->sj consistent? with or withou verbose mode\"\"\"\n",
    "    for x in csp.curr_domains[Xi][:]:\n",
    "        if not any_satisfies_show(csp,Xi,x,Xj,verbose):\n",
    "            return False\n",
    "    return True"
   ]
  },
  {
   "cell_type": "markdown",
   "metadata": {},
   "source": [
    "Vamos invocá-la"
   ]
  },
  {
   "cell_type": "code",
   "execution_count": null,
   "metadata": {},
   "outputs": [],
   "source": [
    "p = CSP_abc()\n",
    "p.curr_domains=p.domains\n",
    "print('Domínios actuais são os iniciais:',p.curr_domains)\n",
    "print('Versão normal do A>B>C')\n",
    "print('É consistente o arco B->A?')\n",
    "consistent_show(p,'B','A',True)"
   ]
  },
  {
   "cell_type": "markdown",
   "metadata": {},
   "source": [
    "#### Forçando a consistência de um arco\n",
    "Para forçarmos a consistência de um arco $A\\rightarrow B$ teremos de remover do domínio de $A$ todos os valores para os quais não há qualquer valor no domínio de $B$ que satisfaça a restrição associada ao arco.\n",
    "A função que o faz é **revise()**\n",
    "\n",
    "```python\n",
    "def revise(csp, Xi, Xj, removals):\n",
    "    \"Return true if we remove a value.\"\n",
    "    revised = False\n",
    "    for x in csp.curr_domains[Xi][:]:\n",
    "        # If Xi=x conflicts with Xj=y for every possible y, eliminate Xi=x\n",
    "        if all(not csp.constraints(Xi, x, Xj, y) for y in csp.curr_domains[Xj]):\n",
    "            csp.prune(Xi, x, removals)\n",
    "            revised = True\n",
    "    return revised\n",
    "```\n",
    "\n",
    "O input removals tem o valor vazio inicialmente por omissão e sai com os valores do domínio que terão de ser retirados no caso de a função ser bem sucedida, i.e., nenhum domínio vazio. o método **prune()** elimina do domínio $X_{i}$ o valor x e insere-o em removals."
   ]
  },
  {
   "cell_type": "code",
   "execution_count": null,
   "metadata": {},
   "outputs": [],
   "source": [
    "p = CSP_abc_inv()\n",
    "p.curr_domains=p.domains\n",
    "print('\\n\\nVersão invertida A>B>C')\n",
    "print('Os domínios actuais são os iniciais:',p.curr_domains)\n",
    "remove=None\n",
    "print('Força consistência do arco B->A?',revise(p,'B','A',remove))\n",
    "print('Os domínios actuais são:',p.curr_domains)"
   ]
  },
  {
   "cell_type": "markdown",
   "metadata": {},
   "source": [
    "### Exercício 5\n",
    "Confirme a consistência do arco formado pela raínha na linha $0$ e a raínha na linha $1$ para o estado inicial do problema das 4 raínhas, i.e. sem afectações. Não se esqueça de colocar o `curr_domain = domain`. Pode utilizar a versão verbosa da função consistent() para perceber que \n",
    "   \n",
    "   \n",
    "    quando a raínha da primeira linha, no topo (0) está na coluna da esquerda (0)\n",
    "       a raínha da segunda linha (1) não pode estar nem na primeira nem na segunda coluna mas pode estar na terceira.\n",
    "    quando a raínha da primeira linha está na segunda coluna (1) a partir da esquerda,\n",
    "       a raínha da segunda linha (1) não pode estar nem na primeira, nem na segunda nem na terceira colunas, mas pode estar na quarta.\n",
    "    quando a raínha da primeira (0) linha  está na 3ª coluna (2)\n",
    "       a raínha da segunda linha (1) pode estar na primeira coluna (0)\n",
    "    quando a raínha da primeira linha está na 4a coluna (3)\n",
    "       a raínha da segunda linha (1) pode estar na primeira coluna (0)\n",
    "   "
   ]
  },
  {
   "cell_type": "code",
   "execution_count": null,
   "metadata": {},
   "outputs": [],
   "source": [
    "# solução do 5\n",
    "\n"
   ]
  },
  {
   "cell_type": "markdown",
   "metadata": {},
   "source": [
    "### Pré-processamento usando AC3\n",
    "\n",
    "O algoritmo AC3 verifica a consistência dos arcos e vai para além disso, forçando essa consistência alterando os domínios das variáveis. Se por acaso uma das variáveis ficar com o seu domínio vazio a função falha retornando `False`."
   ]
  },
  {
   "cell_type": "markdown",
   "metadata": {},
   "source": [
    "Esperando que seja não uma experiência enjoativa mas enriquecedora este vai e vém entre as N raínhas e $A>B>C$..."
   ]
  },
  {
   "cell_type": "markdown",
   "metadata": {},
   "source": [
    "#### O algoritmo AC3\n",
    "Vamos verificar para o problema $A>B>C$, que abriu este guião, que a utilização do AC3 reduz o número de valores possíveis no domínio de algumas variáveis, visto que estes são incompatíveis com as restrições.\n",
    "Aliás, reduz de tal maneira que até encontra a solução sem ser necessário executar a procura.\n",
    "\n",
    "Relembremos que no AC3 temos uma pilha de arcos e vamos forçando a consistência de cada arco, que é retirado da pilha, e se chegarmos a um domínio vazio, falha. Notem que em alguns casos, arcos já verificados terão de ser de novo colocados para o topo da pilha."
   ]
  },
  {
   "cell_type": "code",
   "execution_count": null,
   "metadata": {},
   "outputs": [],
   "source": [
    "#Execução do AC3\n",
    "p = CSP_abc()\n",
    "p_ac3 = AC3(p)\n",
    "print(\"Domínios após AC3 = \", p_ac3.curr_domains)"
   ]
  },
  {
   "cell_type": "markdown",
   "metadata": {},
   "source": [
    "Vamos executar o algoritmo AC3 em modo verbose para verificar o que acontece nos diferentes passos do algoritmo:"
   ]
  },
  {
   "cell_type": "code",
   "execution_count": null,
   "metadata": {},
   "outputs": [],
   "source": [
    "#Execução do AC3\n",
    "p = CSP_abc()\n",
    "p_ac3 = AC3(p,verbose=True)\n",
    "p_ac3.curr_domains"
   ]
  },
  {
   "cell_type": "markdown",
   "metadata": {},
   "source": [
    "#### Exercício 6\n",
    "\n",
    "Aplique o AC3 ao problema das 4 raínhas na situação de afectação vazia. Porque é que os domínios iniciais não mudam?"
   ]
  },
  {
   "cell_type": "code",
   "execution_count": null,
   "metadata": {},
   "outputs": [],
   "source": [
    "# Solução do 6\n",
    "\n"
   ]
  },
  {
   "cell_type": "markdown",
   "metadata": {},
   "source": [
    "#### Exercício 7\n",
    "Aplique o AC3 ao problema das 4 raínhas na situação de afectação da variável $0$ com o valor 0 (raínha da coluna da esquerda está na linha de baixo). Como irá confirmar, não conseguiremos forçar a consistência dos arcos para o caso da primeira raínha (linha de topo) ficar na coluna da esquerda.\n",
    "\n",
    "Note que após a criação da instância do CSP é necessário invocar **suppose(0,0)** para que os domínio da variável $0$ fique apenas com o valor 0."
   ]
  },
  {
   "cell_type": "code",
   "execution_count": null,
   "metadata": {},
   "outputs": [],
   "source": [
    "# solução do 7º\n",
    "\n"
   ]
  },
  {
   "cell_type": "markdown",
   "metadata": {},
   "source": [
    "#### Exercício 8\n",
    "Para o problema das 25 raínhas compare o tempo de execução usando retrocesso com \"forward checking\" com e sem pré-filtragem pela consistência dos arcos. "
   ]
  },
  {
   "cell_type": "code",
   "execution_count": null,
   "metadata": {},
   "outputs": [],
   "source": [
    "## Resolução do exercício 8\n",
    "\n"
   ]
  },
  {
   "cell_type": "markdown",
   "metadata": {},
   "source": [
    "### Utilização de heurísticas no BACKTRACKING-SEARCH (MRV)"
   ]
  },
  {
   "cell_type": "markdown",
   "metadata": {},
   "source": [
    "`MINIMUM-REMAINING-VALUES (MRV)` - heurística que escolhe a variável com o menor número de valores no domínio- nesta implementação em caso de empate escolhe-se a próxima var de modo aleatório. \n",
    "\n",
    "O conceito de heurística em CSP não é o mesmo usado na procura tradicional. Nesta, uma heurística é uma estimativa da menor distância de um estado ao objectivo. Em CSP a heurística é uma preferência. Neste caso, com o MRV, em vez de termos uma ordem fixa para a selecção das variáveis a afectar vamos preferir as que tenham menores domínios. \n",
    "\n",
    "A ideia por detrás desta heurística é que, provavelmente, iremos antecipar as falhas escolhendo variáveis com menores domínios, diminuindo a procura.\n",
    "\n",
    "Notem que esta heurística poderia ser aplicada de forma estática uma única vez no início ou de forma dinâmica, sempre que se escolhe a próxima variável. Na sua versão dinâmica, não faz sentido no retrocesso sem inferência.\n"
   ]
  },
  {
   "cell_type": "markdown",
   "metadata": {},
   "source": [
    "### Reformulando o CSP $A>B>C$.\n",
    "Vamos imaginar que o nosso velho problema $A>B>C$ é ligeiramente diferente e que uma das variáveis: $C$, tem menos um elemento no domínio, i.e., não tem o 3."
   ]
  },
  {
   "cell_type": "code",
   "execution_count": null,
   "metadata": {},
   "outputs": [],
   "source": [
    "def CSP_cab ():\n",
    "    \"\"\"\n",
    "    Retorna um objecto da classe CSP inicializado com as variáveis, os domínios,\n",
    "    os vizinhos e restrições do problema ABC\n",
    "    \"\"\"\n",
    "    \n",
    "    #Definir Variáveis\n",
    "    variaveis_abc = ['A', 'B','C']\n",
    "    \n",
    "    \"\"\"Definir Domínios\n",
    "    Devolve um dicionario com os domínios com as variáveis do problema dos Golfers.\n",
    "    \"\"\"   \n",
    "    dominios_abc = {}\n",
    "    dominios_abc['A'] = [1,2,3]\n",
    "    dominios_abc['B'] = [1,2,3]\n",
    "    dominios_abc['C'] = [1,2]\n",
    "\n",
    "\n",
    "    #Definir Vizinhos    \n",
    "    # parse_neighbors trata da simetria. do not worry\n",
    "    vizinhos_abc = parse_neighbors('A : B; B: C')\n",
    "\n",
    "    #Definir função que verifica restrições binárias\n",
    "    def restricoes_abc(X, a, Y, b) :\n",
    "        \"\"\"\n",
    "        A implementação em CSP assume que as restrições são binárias.\n",
    "        Retorna True se (X=a,Y=b) satisfaz as restrições entre X e Y ou se não há restrição entre X e Y\n",
    "        \"\"\"\n",
    "        out = True\n",
    "        if (X == 'A' and Y=='B') or (X == 'B' and Y=='C'):\n",
    "            out = a > b\n",
    "        elif (X == 'B' and Y == 'A') or (X == 'C' and Y == 'B'):\n",
    "            out = b > a\n",
    "            \n",
    "        return out\n",
    "        \n",
    "    return CSP(variaveis_abc, dominios_abc, vizinhos_abc, restricoes_abc)"
   ]
  },
  {
   "cell_type": "markdown",
   "metadata": {},
   "source": [
    "Vamos aplicar o retrocesso sem inferência e sem heurísticas:"
   ]
  },
  {
   "cell_type": "code",
   "execution_count": null,
   "metadata": {},
   "outputs": [],
   "source": [
    "p = CSP_cab()\n",
    "r = backtracking_search(p)\n",
    "print('Assignment p = ',r)"
   ]
  },
  {
   "cell_type": "markdown",
   "metadata": {},
   "source": [
    "Vamos aplicar a heurística `mrv` para escolha de variáveis. Esta heurística dá preferências às variáveis com domínios mais pequenos. Isso irá ter implicações na ordem da escolha das variáveis para a afectação como podem comprovar."
   ]
  },
  {
   "cell_type": "code",
   "execution_count": null,
   "metadata": {},
   "outputs": [],
   "source": [
    "p = CSP_cab()\n",
    "r = backtracking_search(p,select_unassigned_variable = mrv)\n",
    "print('Assignment p = ',r)"
   ]
  },
  {
   "cell_type": "markdown",
   "metadata": {},
   "source": [
    "Pressionemos o botão verbose!"
   ]
  },
  {
   "cell_type": "code",
   "execution_count": null,
   "metadata": {},
   "outputs": [],
   "source": [
    "p = CSP_cab()\n",
    "r = backtracking_search(p,select_unassigned_variable = mrv,verbose=True)\n",
    "print('Assignment p = ',r)"
   ]
  },
  {
   "cell_type": "markdown",
   "metadata": {},
   "source": [
    "A variável $C$ é a primeira a ser escolhida.. Depois tanto faz escolher a $A$ como a $B$, como podem comprovar já a seguir, ao repetirmos a resolução do problema 20 vezes."
   ]
  },
  {
   "cell_type": "code",
   "execution_count": null,
   "metadata": {
    "scrolled": true
   },
   "outputs": [],
   "source": [
    "for i in range(20):\n",
    "    p = CSP_cab()\n",
    "    r = backtracking_search(p, select_unassigned_variable = mrv)\n",
    "    print('Assignment = ',r) "
   ]
  },
  {
   "cell_type": "markdown",
   "metadata": {},
   "source": [
    "com a heurística `mrv`, as variáveis empatadas, com domínios de comprimento igual, são ordenadas de forma aleatória, mas $C$ é sempre escolhida primeiro, porque tem o menor domínio inicial."
   ]
  },
  {
   "cell_type": "markdown",
   "metadata": {},
   "source": [
    "### Utilização de heurísticas e inferência no BACKTRACKING-SEARCH"
   ]
  },
  {
   "cell_type": "markdown",
   "metadata": {},
   "source": [
    "#### MRV + FORWARD-CHECKING"
   ]
  },
  {
   "cell_type": "markdown",
   "metadata": {},
   "source": [
    "Notem que se utilizarmos a inferência forward checking em conjunto com a heurística de variável mais restringida (mrv), se $A$ for a primeira a ser escolhida então $B$ será sempre a segunda; se $C$ for a primeira variável então será sempre $B$ a segunda a ser escolhida. Quando é $B$ a primeira, então como $B$ está restringida com $C$ e com $A$, a segunda variável pode tanto ser $A$ como $C$."
   ]
  },
  {
   "cell_type": "code",
   "execution_count": null,
   "metadata": {},
   "outputs": [],
   "source": [
    "for i in range(20):\n",
    "    p = CSP_abc()\n",
    "    r = backtracking_search(p, select_unassigned_variable = mrv,inference=forward_checking)\n",
    "    print('Assignment = ',r) "
   ]
  },
  {
   "cell_type": "markdown",
   "metadata": {},
   "source": [
    "#### Exercício 9\n",
    "Para o problema das 20 raínhas teste o tempo de execução usando retrocesso com \"forward checking\" com e sem uso de MRVe também o retrocesso simples com mrv. "
   ]
  },
  {
   "cell_type": "code",
   "execution_count": null,
   "metadata": {},
   "outputs": [],
   "source": [
    "## Resolução exercício 9\n",
    "\n"
   ]
  },
  {
   "cell_type": "markdown",
   "metadata": {},
   "source": [
    "## As palavras cruzadas\n",
    "Consideremos agora o problema das palavras cruzadas, exercício da aula anterior. Relembremos esse problema.\n",
    "<img src=\".\\imagens\\PalavrasCruzadas2x2.png\" alt=\"Drawing\" style=\"width: 200px;\"/>\n",
    "Modelize um problema de palavras cruzadas usando CSP, em que temos uma grelha 2x2 e 8 palavras possíveis para dispor 4 delas nas 2 linhas e 2 colunas. Cada palavra só pode aparecer numa das 4 regiões possíveis (2 linhas e 2 colunas) e as letras das palavras têm de ser as mesmas quando as palavras se intersectam.\n",
    "\n",
    "Vamos supor que temos 8 palavras possíveis para colocar: {MA, OS, AS, TU, LI, RO, TO, MO}."
   ]
  },
  {
   "cell_type": "markdown",
   "metadata": {},
   "source": [
    "### Formulação\n",
    "\n",
    "#### Variáveis\n",
    "Vamos considerar que temos 4 variáveis correspondentes às 4 palavras: $T$(opo), $B$(ase), $E$(squerda) e $D$(ireita).\n",
    "\n",
    "#### Domínios\n",
    "Vamos ter as 8 palavras como domínio de todas as 4 variáveis.\n",
    "\n",
    "#### Restrições\n",
    "\n",
    "Vamos ter 4 restrições:\n",
    "        \n",
    "        A palavra de Topo partilha a sua 1a letra com a 1a letra da palavra da Esquerda\n",
    "        A palavra de Topo partilha a sua 2a letra com a 1a letra da palavra da Direita\n",
    "        A palavra de Baixo partilha a sua 1a letra com a 2a letra da palavra da Esquerda\n",
    "        A palavra de Baixo partilha a sua 2a letra com a 2a letra da palavra da Direita\n",
    "        \n",
    "        \n",
    "Como as restrições dependem da ordem dos pares de variáveis, precisarems de facto de criar 8 restrições: entre $T$ e $E$ e também entre $E$ e $T$, entre $T$ e $D$ mas também entre $D$ e $T$, e as 4 análogas."
   ]
  },
  {
   "cell_type": "markdown",
   "metadata": {},
   "source": [
    "Ataquemos então a formulação no Python"
   ]
  },
  {
   "cell_type": "code",
   "execution_count": null,
   "metadata": {},
   "outputs": [],
   "source": [
    "# Resolução das palavras cruzadas pequeninas\n",
    "\n",
    "def CSP_cruz ():\n",
    "    \"\"\"\n",
    "    Retorna um objecto da classe CSP inicializado com as variaveis, os dominios,\n",
    "    os vizinhos e restrições do problema cruz\n",
    "    \"\"\"\n",
    "    \n",
    "    #Definir a lista com as Variaveis correspondentes às palavras horizontais\n",
    "    # do T(opo) e da B(ase), da E(esquerda) e da D(ireita)\n",
    "    variaveis = ['T', 'B','E','D']\n",
    "    \n",
    "    # Definir um dicionario com os Domínios (afinal todas as palavras possíveis) que são strings\n",
    "   \n",
    "    dominios = {}\n",
    "    for v in variaveis :\n",
    "        dominios[v] = ['MA', 'OS', 'AS', 'TU', 'LI', 'RO', 'TO', 'MO']\n",
    "    \n",
    "    #Definir Vizinhos    -- parse_neighbors trata da simetria. do not worry\n",
    "    vizinhos = parse_neighbors('T : E D B; E: D B; D: B')\n",
    "\n",
    "    #Definir funcao que verifica restricoes binarias\n",
    "    def restricoes(X, a, Y, b) :\n",
    "        \n",
    "        \"\"\"\n",
    "        A implementacao em CSP assume que as restricoes são binarias.\n",
    "        Retorna True se (X=a,Y=b) satisfaz as restricoes entre X e Y\n",
    "        \"\"\"\n",
    "        def teste00(a,b):\n",
    "            return a[0]==b[0]\n",
    "\n",
    "        def teste01(a,b):\n",
    "            return a[0]==b[1]\n",
    "\n",
    "        def teste10(a,b):\n",
    "            return a[1]==b[0]\n",
    "\n",
    "        def teste11(a,b):\n",
    "            return a[1]==b[1]\n",
    " \n",
    "        # A palavra de topo partilha a sua letra 1 com a letra 1 da palavra da esquerda\n",
    "        # A palavra de topo partilha a sua letra 1 com a letra 1 da palavra da direita\n",
    "        # A palavra de baixo partilha a sua letra 1 com a letra 2 da palavra da esquerda\n",
    "        # A palavra de baixo partilha a sua letra 2 com a letra 2 da palavra da direita\n",
    "        # cuidar da condicao simetrica\n",
    "        restricoes = {('T','E'):teste00, ('T','D'):teste10, ('B','E'):teste01, ('B','D'):teste11,\n",
    "                      ('E','T'):teste00, ('D','T'):teste01, ('E','B'):teste10, ('D','B'):teste11}\n",
    "        \n",
    "        # É preciso que as variáveis na tabela sejam diferentes e satisfaçam a função associada\n",
    "        # as que não partilham letras terão de ser apenas diferentes.\n",
    "        if (X,Y) in restricoes.keys():\n",
    "            return (restricoes[(X,Y)](a,b) and  a!= b)  # para alem de partilharem letras terao de ser palavras diferentes\n",
    "        return a != b  # para os pares de variaveis que não estao na tabela, por exemplo, entre T e B\n",
    "        \n",
    "    return CSP(variaveis, dominios, vizinhos, restricoes)"
   ]
  },
  {
   "cell_type": "markdown",
   "metadata": {},
   "source": [
    "Criemos um problema CSP de palavras cruzadas"
   ]
  },
  {
   "cell_type": "code",
   "execution_count": null,
   "metadata": {},
   "outputs": [],
   "source": [
    "csp = CSP_cruz()"
   ]
  },
  {
   "cell_type": "markdown",
   "metadata": {},
   "source": [
    "Vamos procurar a solução usando a Profundidade com Retrocesso no modo frugal, sem forward checking."
   ]
  },
  {
   "cell_type": "code",
   "execution_count": null,
   "metadata": {},
   "outputs": [],
   "source": [
    "r = backtracking_search(csp)\n",
    "print('Afectacoes p = ',r)"
   ]
  },
  {
   "cell_type": "markdown",
   "metadata": {},
   "source": [
    "Apliquemos o retrocesso sem nenhuma inferência, no modo verbose"
   ]
  },
  {
   "cell_type": "code",
   "execution_count": null,
   "metadata": {
    "scrolled": true
   },
   "outputs": [],
   "source": [
    "csp.curr_domains = csp.domains\n",
    "r = backtracking_search(csp,verbose=True)\n",
    "print('Afectacoes p = ',r)"
   ]
  },
  {
   "cell_type": "markdown",
   "metadata": {},
   "source": [
    "Apliquemos a versão \"verbose\" do retrocesso com filtragem por forward checking"
   ]
  },
  {
   "cell_type": "code",
   "execution_count": null,
   "metadata": {
    "scrolled": true
   },
   "outputs": [],
   "source": [
    "cruz = CSP_cruz()\n",
    "r = backtracking_search(cruz,inference = forward_checking, verbose = True)\n",
    "print('Afectações = ',r) "
   ]
  },
  {
   "cell_type": "markdown",
   "metadata": {},
   "source": [
    "Como vimos, ao afectar a T a palavra \"MO\", o domínio de B não foi afectado porque não existem restrições envolvendo T e B, mas as outras variáveis, E e D, viram os respectivos domínios reduzidos apenas a 1 valor.\n",
    "Quando se faz a afectação de B a OS, os restantes domínios, de E e de D mantêm-se. A seguir vemos que a solução é directa, pois E só pode tomar o valor MO que por forward checking não afecta o domínio de D que tomará o seu único valor: AS. "
   ]
  },
  {
   "cell_type": "markdown",
   "metadata": {},
   "source": [
    "Vamos executar o AC3 para o problema das palavras cruzadas"
   ]
  },
  {
   "cell_type": "code",
   "execution_count": null,
   "metadata": {},
   "outputs": [],
   "source": [
    "#Execução do AC3\n",
    "cruz = CSP_cruz()\n",
    "p_ac3 = AC3(cruz)\n",
    "print(\"Domínios após AC3 = \", p_ac3.curr_domains)"
   ]
  },
  {
   "cell_type": "markdown",
   "metadata": {},
   "source": [
    "Houve uma redução substancial dos domínios de cada uma das 4 variáveis. Cada domínio passou de 8 para 2 palavras.\n",
    "Agora acompanhando os passos do algoritmo, se tiverem paciência claro."
   ]
  },
  {
   "cell_type": "code",
   "execution_count": null,
   "metadata": {},
   "outputs": [],
   "source": [
    "#Execução do AC3\n",
    "cruz = CSP_cruz()\n",
    "p_ac3 = AC3(cruz,verbose=True)\n",
    "print(\"Domínios após ACP = \", p_ac3.curr_domains)"
   ]
  },
  {
   "cell_type": "markdown",
   "metadata": {},
   "source": [
    "Uma boa utilização do AC3 é no início e depois do pré-processamento aplicar a procura com retrocesso com ou sem forward-checking.\n",
    "Vamos fazê-lo:"
   ]
  },
  {
   "cell_type": "markdown",
   "metadata": {},
   "source": [
    "### Pré-processamento com o AC3 seguido de procura com e sem inferência por forward checking"
   ]
  },
  {
   "cell_type": "markdown",
   "metadata": {},
   "source": [
    "Continuando com o problema das palavras cruzadas, apliquemos primeiro o AC3 e depois a procura básica sem inferência."
   ]
  },
  {
   "cell_type": "code",
   "execution_count": null,
   "metadata": {},
   "outputs": [],
   "source": [
    "#Execução do AC3\n",
    "p = CSP_cruz()\n",
    "p_ac3 = AC3(p)\n",
    "print(\"Domínios após AC3 = \", p_ac3.curr_domains)\n",
    "r = backtracking_search(p_ac3, verbose = False)\n",
    "print('Assignment = ',r) "
   ]
  },
  {
   "cell_type": "markdown",
   "metadata": {},
   "source": [
    "Agora em modo verbose:"
   ]
  },
  {
   "cell_type": "code",
   "execution_count": null,
   "metadata": {},
   "outputs": [],
   "source": [
    "#Execução do AC3\n",
    "p = CSP_cruz()\n",
    "p_ac3 = AC3(p)\n",
    "print(\"Domínios após AC3 = \", p_ac3.curr_domains)\n",
    "r = backtracking_search(p_ac3, verbose = True)\n",
    "print('Assignment = ',r) "
   ]
  },
  {
   "cell_type": "markdown",
   "metadata": {},
   "source": [
    "Podemos agora aplicar o retrocesso com forward checking após o pré-processamento através do AC3:"
   ]
  },
  {
   "cell_type": "code",
   "execution_count": null,
   "metadata": {},
   "outputs": [],
   "source": [
    "#Execução do AC3\n",
    "p = CSP_cruz()\n",
    "p_ac3 = AC3(p)\n",
    "print(\"Domínios após AC3 = \", p_ac3.curr_domains)\n",
    "r = backtracking_search(p_ac3, inference=forward_checking,verbose = True)\n",
    "print('Assignment = ',r) "
   ]
  },
  {
   "cell_type": "markdown",
   "metadata": {},
   "source": [
    "### Procura com inferência em que se mantém a consistência (MAC)\n",
    "Para além de aplicarmos o AC3 no início podemos também invocá-lo como inferência logo após tentarmos fazer uma afectação. Se o AC3 falhar, i.e. algum dos domínios de variáveis por afectar ficar vazio, então tenta-se nova afectação de valor à variável. Se todos os valores falharem, retrocede-se, desfazendo a última afectação e tentando um novo valor...\n",
    "\n",
    "o campo inference terá o valor mac\n",
    "\n",
    "* **MAC** (Mantain Arc Consistenty, usando o AC3): Utilizando o **AC3** após cada afectação da variável. Mais caro computacionalmente\n"
   ]
  },
  {
   "cell_type": "markdown",
   "metadata": {},
   "source": [
    "Vamos aplicar a profundidade com retrocesso utilizando o AC3 para inferência, i.e., mantendo a consistência dos arcos, ao problema das palavras cruzadas."
   ]
  },
  {
   "cell_type": "code",
   "execution_count": null,
   "metadata": {},
   "outputs": [],
   "source": [
    "pz = CSP_cruz()\n",
    "p_ac3 = AC3(p)\n",
    "print(\"Domínios após AC3 = \", p_ac3.curr_domains)\n",
    "r = backtracking_search(p_ac3,inference = mac)\n",
    "print('Afectações r = ',r)"
   ]
  },
  {
   "cell_type": "markdown",
   "metadata": {},
   "source": [
    "Vamos fazê-lo, em modo verboso, para ver tudo o que se passa.\n",
    "Notem que não aplicamos o pré-processamento com o AC3, e a consistência dos arcos é apenas mantida após cada afectação de variáveis."
   ]
  },
  {
   "cell_type": "code",
   "execution_count": null,
   "metadata": {},
   "outputs": [],
   "source": [
    "cruz = CSP_cruz()\n",
    "cruz_ac3 = AC3(cruz)\n",
    "print(\"Domínios após AC3 = \", p_ac3.curr_domains)\n",
    "r = backtracking_search(cruz_ac3,inference = mac, verbose = True)\n",
    "print('Assignment = ',r) "
   ]
  },
  {
   "cell_type": "markdown",
   "metadata": {},
   "source": [
    "#### Exercício 10\n",
    "Para o problema das 50 raínhas compare o tempo de execução usando retrocesso com \"forward checking\" com pré-filtragem pela consistência dos arcos e a versão MAC. Utilizem a verão feita no exercíco X em que usam uma ordem aleatória para as variáveis e em que utilizam MRV."
   ]
  },
  {
   "cell_type": "code",
   "execution_count": null,
   "metadata": {},
   "outputs": [],
   "source": [
    "# resolução do exercício 10\n",
    "\n"
   ]
  },
  {
   "cell_type": "markdown",
   "metadata": {},
   "source": [
    "### Exercício 11 - Problema dos Jogadores de Golfe (Golfers)\n",
    "\n",
    "Teste a profundidade com retrocesso, sem inferência, com as duas inferências e com a heurística mrv, isoladamente ou de forma combinada. Verifique que a utilização simultânea de heurísticas para selecção das variáveis a testar primeiro e de inferência para detectar falhas antecipadamente permite obter uma solução num menor número de passos.\n"
   ]
  },
  {
   "cell_type": "code",
   "execution_count": null,
   "metadata": {},
   "outputs": [],
   "source": [
    "# Resolução do exercício 11\n",
    "\n"
   ]
  },
  {
   "cell_type": "markdown",
   "metadata": {},
   "source": [
    "### Exercício 12 - Problema da coloração de mapas (Map Coloring)\n",
    "\n",
    "<img src=\".\\imagens\\mapa-colorir.PNG\" alt=\"Drawing\" style=\"width: 200px;\"/>\n",
    "\n",
    "O problema de colorir o mapa usando 4 cores pode ser modelizado como um csp da forma seguinte:\n",
    "\n",
    "```python\n",
    "vars=['A','B','C','D','E']\n",
    "cores=list('RBGY')\n",
    "dominios={}\n",
    "for v in vars:\n",
    "    dominios[v]=cores\n",
    "mapa = CSP(vars, dominios, parse_neighbors('A: B C D; B: C D; C: D; D: E; E: '),different_values_constraint)\n",
    "\n",
    "```\n",
    "\n",
    "Utilize o algoritmo `BACKTRACKING-SEARCH` para o resolver tal como fez para o Golfers.\n",
    "\n",
    "Verifique que neste problema o AC3 não reduz os domínios das variáveis.\n",
    "\n",
    "Verifique que neste caso são obtidas soluções diferentes (diferentes possibilidades de coloração) quando se usa ou não heurísticas ou inferência:"
   ]
  },
  {
   "cell_type": "code",
   "execution_count": null,
   "metadata": {},
   "outputs": [],
   "source": [
    "# Resolução do exercício 12\n",
    "\n"
   ]
  },
  {
   "cell_type": "markdown",
   "metadata": {},
   "source": [
    "### Exercício 13 - Junta Panelas\n",
    " Suponha que o João e a Joana querem organizar uma festa com os\n",
    "seus amigos: a Alice, o Roberto, o Carlos e o Duarte. Será uma festa do género “Junta Panelas”\n",
    "em que todos convidados trazem comes e bebes. Neste caso, os organizadores irão tratar das\n",
    "bebidas e, para organizar a festa, eles irão dar a cada um dos seus amigos uma folha de papel\n",
    "para registarem o número de pratos que irão trazer. No entanto, os seus amigos não assinaram\n",
    "as folhas respectivas e o João e a Joana têm dificuldade em perceber a letra e a autoria de cada\n",
    "uma das folhas. No entanto, eles são capazes de perceber o suficiente para obterem as\n",
    "restrições seguintes:\n",
    "\n",
    "    1. Cada um dos amigos traz no mínimo 1 prato e no máximo 6.\n",
    "    2. Ninguém traz mais pratos do que a Alice.\n",
    "    3. O Roberto traz um número ímpar de pratos.\n",
    "    4. O Carlos traz o dobro dos pratos do Roberto.\n",
    "    5. O Duarte traz exactamente mais dois pratos do que o Carlos.\n",
    "\n",
    "a) Modelize o Junta Panelas como um Problema de Satisfação de Restrições uando a classe CSP, levando em conta a filtragem inicial das restrições unitárias.  \n",
    "b)  Mostre como ficam os domínios depois depois de forçarmos a consistência dos arcos Alice $\\rightarrow$ Carlos, Alice $\\rightarrow$ Duarte e Alice $\\rightarrow$ Roberto?  \n",
    "c)  Qual é o resultado se aplicarmos o “forward checking”, partindo dos domínios iniciais depois de satisfazerem as restrições unitárias e afectarmos o valor de 4 para a Alice. "
   ]
  },
  {
   "cell_type": "code",
   "execution_count": null,
   "metadata": {},
   "outputs": [],
   "source": [
    "# Solução do exercício 13\n",
    "\n"
   ]
  }
 ],
 "metadata": {
  "kernelspec": {
   "display_name": "Python 3",
   "language": "python",
   "name": "python3"
  },
  "language_info": {
   "codemirror_mode": {
    "name": "ipython",
    "version": 3
   },
   "file_extension": ".py",
   "mimetype": "text/x-python",
   "name": "python",
   "nbconvert_exporter": "python",
   "pygments_lexer": "ipython3",
   "version": "3.8.8"
  }
 },
 "nbformat": 4,
 "nbformat_minor": 2
}
