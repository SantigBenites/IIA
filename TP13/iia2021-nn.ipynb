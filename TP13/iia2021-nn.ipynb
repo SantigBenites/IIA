{
 "cells": [
  {
   "cell_type": "markdown",
   "metadata": {},
   "source": [
    "# Introdução à Inteligência Artificial 2021/2022\n",
    "\n",
    "\n",
    "# Redes Neuronais"
   ]
  },
  {
   "cell_type": "markdown",
   "metadata": {},
   "source": [
    "## Conteúdo\n",
    "\n",
    "* Perceptrão\n",
    "    * Algoritmo e sua implementação\n",
    "    * Limitações\n",
    "    * Usando a classe Perceptron do Scikit-Learn\n",
    "  \n",
    "* Redes Neuronais ou Perceptrões multi-camadas\n",
    "    * Usando a classe MLPClassifier do Scikit-Learn\n",
    "    * Alguns parâmetros da classe\n",
    "    * MLP sobre um grande conjunto de dados: Breast Cancer Dataset\n",
    "    * Normalização dos dados\n"
   ]
  },
  {
   "cell_type": "markdown",
   "metadata": {},
   "source": [
    "## O Perceptrão\n",
    "\n",
    "\n",
    "A operação do **perceptrão** é inspirada na unidade básica de processamento do cortex cerebral: o **neurónio**. \n",
    "\n",
    "O **perceptrão** tem múltiplos *inputs* (por vezes chamados características ou *features*) que alimentam uma unidade **linear** que  alimenta uma função de ativação não linear. No caso da função de ativação ser a função degrau o *output* é binário. Assim, os **perceptrões** podem ser aplicados para resolver problemas de **classificação binária**, onde uma instância deva ser identificada como pertencendo a uma de duas classes pré-definidas.\n",
    "\n",
    "| <img src=\"perceptrao1.jpg\" style=\"width: 402px;\" /> |\n",
    "|:--:|\n",
    "| Percetrão simples com função de ativação degrau (*step*) |"
   ]
  },
  {
   "cell_type": "markdown",
   "metadata": {},
   "source": [
    "### Algoritmo\n",
    "\n",
    "Lembremo-nos de que o produto interno de dois vectores de comprimento $n$ (com  $1 \\le i \\le n$) é $w \\cdot x = \\sum_i w_i x_i$.\n",
    "\n",
    "Nos **perceptrões** binários (0/1), podemos definir a sua computação assim:\n",
    "\n",
    "\n",
    "$f_\\phi(x)=\n",
    "\\begin{cases}\n",
    "    1       & \\texttt{se } b + w \\cdot x > 0\\\\\n",
    "    0       & \\texttt{caso contrário}\n",
    "  \\end{cases}\n",
    "$\n",
    "\n",
    "A função $f(x) = b + w \\cdot x$ é uma combinação linear dos vectores de pesos (w) e de características (x), onde b é o chamado viés (*bias*, ou entrada especial, para estabelecer o nível\n",
    "quando nenhuma característica está ativa).\n",
    "\n",
    "O **perceptrão** binário é portanto um classificador com uma combinação linear que é \"alterada\" por uma outra função tipicamente não linear (a função de ativação).\n",
    "\n",
    "No caso do perceptrão binário a função de ativação é a função degrau, assim definida:\n",
    "\n",
    "$\\phi(v)=\n",
    "\\begin{cases}\n",
    "    1       & \\texttt{se } v > 0\\\\\n",
    "    0       & \\texttt{caso contrário}\n",
    "  \\end{cases}\n",
    "$\n",
    "\n",
    "\n",
    "Os pesos representam a influência de cada *feature* $x_i$ de $x$ no comportamento do modelo. Quanto maior for o peso $w_i$ da *feature* $x_i$, maior será a sua influência no *output*. Por outro lado, o *bias* $b$ é como a intercepção da equação linear. É uma constante que ajuda o modelo a ajustar-se da forma que melhor acomoda os dados. O termo $b$ pode ser considerado o peso $w_0=b$ de uma *feature* imaginária como uma entrada $x_0$ com valor $x_0=1$. Todavia, este modelo simples de percetrão só consegue resolver problemas de classificação que sejam linearmente separáveis (em 2D as classes têm de ser separáveis por uma reta, com mais dimensões, em vez da reta será um hiper-plano).\n",
    "\n",
    "O percetrão pode ser treinado usando o algoritmo seguinte:\n",
    "\n"
   ]
  },
  {
   "cell_type": "markdown",
   "metadata": {},
   "source": [
    "* `seja b = 0  e` $w_i = 0$, com  $1 \\le i \\le n$\n",
    "\n",
    "* `para N iterações (isto é, N épocas), ou até que os pesos não sejam alterados`\n",
    "    * `para cada exemplo de treino` $x^k$ `com etiqueta` $y^k$\n",
    "        * `se` $y^k-f_\\phi(x^k) = 0$,`continua`\n",
    "        * `caso contrário, actualizar` $w_i$, `com` $\\Delta w_i=(y^k-f_\\phi(x^k)) x_i$\n",
    "\n"
   ]
  },
  {
   "cell_type": "markdown",
   "metadata": {},
   "source": [
    "## Implementação \n",
    "\n",
    "Vamos relembrar o *dataset* da flor Iris, que contém 4 *features* descrevendo a flor e classificando-a como pertencendo a uma de três classes. \n",
    "\n",
    "Vamos considerar apenas as primeiras 100 linhas (isto é, vamos desprezar as últimas 50 linhas, que pertencem à classe `Iris-virginica`) e usamos apenas as duas classes `Iris-setosa` e `Iris-versicolor`. A razão é que estas duas classes são linearmente separáveis, e o algoritmo converge para um mínimo local, encontrando os pesos óptimos.\n",
    "\n"
   ]
  },
  {
   "cell_type": "code",
   "execution_count": 1,
   "metadata": {},
   "outputs": [
    {
     "name": "stdout",
     "output_type": "stream",
     "text": [
      "Tipo dos dados: <class 'numpy.ndarray'> (100, 4)\n",
      "\n",
      "Classificação binária: 0 - iris setosa, 1 - iris-versicolor\n",
      " \n",
      "Os primeiros 10 pontos e a sua classificação:\n",
      "\n",
      "[5.1 3.5 1.4 0.2] tem classe  0\n",
      "[4.9 3.  1.4 0.2] tem classe  0\n",
      "[4.7 3.2 1.3 0.2] tem classe  0\n",
      "[4.6 3.1 1.5 0.2] tem classe  0\n",
      "[5.  3.6 1.4 0.2] tem classe  0\n",
      "[5.4 3.9 1.7 0.4] tem classe  0\n",
      "[4.6 3.4 1.4 0.3] tem classe  0\n",
      "[5.  3.4 1.5 0.2] tem classe  0\n",
      "[4.4 2.9 1.4 0.2] tem classe  0\n",
      "[4.9 3.1 1.5 0.1] tem classe  0\n",
      "\n",
      "Os últimos 10 pontos e a sua classificação:\n",
      "\n",
      "[5.7 2.8 4.1 1.3] tem classe  1\n",
      "[5.1 2.5 3.  1.1] tem classe  1\n",
      "[6.2 2.9 4.3 1.3] tem classe  1\n",
      "[5.7 2.9 4.2 1.3] tem classe  1\n",
      "[5.7 3.  4.2 1.2] tem classe  1\n",
      "[5.6 2.7 4.2 1.3] tem classe  1\n",
      "[5.  2.3 3.3 1. ] tem classe  1\n",
      "[5.8 2.6 4.  1.2] tem classe  1\n",
      "[6.1 3.  4.6 1.4] tem classe  1\n",
      "[5.5 2.6 4.4 1.2] tem classe  1\n",
      "Tipo dos dados: <class 'numpy.ndarray'> (100, 4)\n",
      "\n"
     ]
    }
   ],
   "source": [
    "import numpy as np\n",
    "import pandas as pd\n",
    "import matplotlib.pyplot as plt\n",
    "\n",
    "from sklearn.datasets import load_iris\n",
    "iris_data = load_iris()\n",
    "\n",
    "# considerar apenas os primeiros 100 exemplos\n",
    "xData = iris_data['data'][:100]\n",
    "yData = iris_data['target'][:100]\n",
    "\n",
    "print(\"Tipo dos dados:\", type(xData), xData.shape)\n",
    "print()\n",
    "\n",
    "print(\"Classificação binária: 0 - iris setosa, 1 - iris-versicolor\\n \")\n",
    "\n",
    "print(\"Os primeiros 10 pontos e a sua classificação:\\n\")\n",
    "for i in range(10):\n",
    "    print(xData[i], \"tem classe \", yData[i])\n",
    "print()\n",
    "\n",
    "print(\"Os últimos 10 pontos e a sua classificação:\\n\")\n",
    "for i in range(1,11):\n",
    "    print(xData[-i], \"tem classe \", yData[-i])\n",
    "    \n",
    "print(\"Tipo dos dados:\", type(xData), xData.shape)\n",
    "print()\n"
   ]
  },
  {
   "cell_type": "markdown",
   "metadata": {},
   "source": [
    "Vamos visualizar o dataset com duas das *features* (a de índice 0 - *petal length* e a de índice 2 - *sepal length*), para verificar que o dataset pode ser claramente separado desenhando uma linha recta entre elas.\n",
    "\n",
    "O nosso objectivo é escrever um algoritmo que encontre essa recta e classifique todos estes dados correctamente. \n"
   ]
  },
  {
   "cell_type": "code",
   "execution_count": 2,
   "metadata": {},
   "outputs": [
    {
     "data": {
      "image/png": "[encoded data removed]",
      "text/plain": [
       "<Figure size 432x288 with 1 Axes>"
      ]
     },
     "metadata": {
      "needs_background": "light"
     },
     "output_type": "display_data"
    }
   ],
   "source": [
    "plt.scatter(xData[:50,0], xData[:50,2], marker = 'o', label='setosa')\n",
    "plt.scatter(xData[50:,0], xData[50:,2], marker = 'x', label='versicolor')\n",
    "plt.xlabel('petal length')\n",
    "plt.ylabel('sepal length')\n",
    "plt.legend()\n",
    "plt.show()\n"
   ]
  },
  {
   "cell_type": "markdown",
   "metadata": {},
   "source": [
    "Agora implementamos o algoritmo e vemos como funciona. \n",
    "\n",
    "Temos 4 *features* e portanto 4 pesos, em que cada um está associado a uma *feature*. Recordem que definimos um termo bias $w_0$ que assume $x_0=1$, logo temos um total de 5 pesos. \n",
    "\n",
    "Definimos o número de iterações (épocas) igual a 10. Este é um dos *hiper-parâmetros*, por oposição aos parâmetros de sistema como $w$, que são aprendidos pelo algoritmo. Em cada iteração, o algoritmo computa a classe (0 ou 1) de todos os pontos de dados, e actualiza os pesos com cada classificação errada. \n",
    "\n",
    "Se a amostra é mal classificada, então os pesos são actualizados em $\\Delta$ que os empurra na direcção oposta. Então, se a amostra for classificada outra vez, o resultado será \"menos errado\". "
   ]
  },
  {
   "cell_type": "code",
   "execution_count": 3,
   "metadata": {},
   "outputs": [],
   "source": [
    "def perceptron (train, trainLabels, num_iter):\n",
    "    \"\"\"\n",
    "    Trains a binary perceptron, given the train data, with the given trainLabels, and using num_iter iterations\n",
    "        train and trainLabels must be numpy ndarray objects, num_iter must be a positive integer\n",
    "        Returns a pair (finalWeights, errors) where:\n",
    "            finalWeights is a ndarray object with the final weights\n",
    "            errors is a list with the number of misclassified train examples, for each of the iterations\n",
    "    \"\"\"\n",
    "    # assigns 0 to all the weights (for all the features, including the bias feature)\n",
    "    w = np.zeros(train.shape[1]+1)    \n",
    "    misclassified_ = []\n",
    "    \n",
    "    for epoch in range(num_iter):\n",
    "        misclassified = 0\n",
    "        for x, label in zip(train, trainLabels):\n",
    "            x = np.insert(x,0,1)   # insert the bias feature\n",
    "            v = np.dot(w, x.transpose())\n",
    "            output = 1.0 if (v>0) else 0.0\n",
    "            \n",
    "            delta = (label - output)\n",
    "            \n",
    "            if delta: # the example is misclassified\n",
    "                misclassified += 1\n",
    "                w += (delta*x)\n",
    "        misclassified_.append(misclassified)\n",
    "        \n",
    "    return(w, misclassified_)\n",
    "\n",
    "num_iter = 10\n",
    "\n",
    "w, misclassified_ = perceptron (xData, yData, num_iter)\n"
   ]
  },
  {
   "cell_type": "markdown",
   "metadata": {},
   "source": [
    "Vamos agora fazer o gráfico do número de amostras mal classificadas em cada iteração. Veremos que o algoritmo converge na 4ª iteração, ou seja, todas as amostras são classificadas correctamente na quarta passagem pelos dados completos\n",
    "\n",
    "Uma propriedade do Perceptrão é que se o *dataset* for linearmente separável, então o algoritmo garantidamente converge em alguma altura."
   ]
  },
  {
   "cell_type": "code",
   "execution_count": 4,
   "metadata": {},
   "outputs": [
    {
     "data": {
      "image/png": "[encoded data removed]",
      "text/plain": [
       "<Figure size 432x288 with 1 Axes>"
      ]
     },
     "metadata": {
      "needs_background": "light"
     },
     "output_type": "display_data"
    }
   ],
   "source": [
    "epochs = np.arange(1, num_iter+1)\n",
    "plt.plot(epochs, misclassified_)\n",
    "plt.xlabel('iterações')\n",
    "plt.ylabel('exemplos mal classificados')\n",
    "plt.show()"
   ]
  },
  {
   "cell_type": "markdown",
   "metadata": {},
   "source": [
    "### Aplicar o perceptrão para classificar novos exemplos:\n",
    "\n",
    "A função `perceptron_result` calcula o resultado de aplicar o perceptrão encontrado (isto é, o modelo aprendido a partir dos exemplos de treino, ou seja, o ndarray de pesos finais obtidos) a um novo exemplo. \n",
    "\n",
    "Esta função vai permitir classificar novos exemplos. O perceptrão é representado pelo seu ndarray de pesos, w. \n",
    "O parâmetro `testExample` deve ser também um objecto ndarray com os valores das *features* do exemplo a classificar.\n"
   ]
  },
  {
   "cell_type": "code",
   "execution_count": 5,
   "metadata": {},
   "outputs": [
    {
     "name": "stdout",
     "output_type": "stream",
     "text": [
      "[5.1 3.5 1.4 0.2] é da classe setosa\n",
      "[6.4 3.2 4.5 1.5] é da classe versicolor\n"
     ]
    }
   ],
   "source": [
    "def degrau(v):\n",
    "    if v <= 0.0:\n",
    "        return 0\n",
    "    else:\n",
    "        return 1\n",
    "\n",
    "def perceptron_result(testExample, w):\n",
    "    entrada= np.insert(testExample,0,1)   # insert the bias feature\n",
    "    return degrau(np.dot(w, entrada))\n",
    "\n",
    "def imprimeClasse(exemplo, classe):\n",
    "    print(exemplo, \"é da classe\", \"versicolor\" if classe else \"setosa\")\n",
    "    \n",
    "#exemplo\n",
    "one_iris = np.array([5.1, 3.5, 1.4, 0.2])\n",
    "imprimeClasse(one_iris, perceptron_result(one_iris, w))\n",
    "\n",
    "another_iris = np.array([6.4, 3.2, 4.5, 1.5])\n",
    "imprimeClasse(another_iris, perceptron_result(another_iris, w))\n"
   ]
  },
  {
   "cell_type": "markdown",
   "metadata": {},
   "source": [
    "## Limitações\n",
    "\n",
    "Um perceptrão de uma única camada só funciona se o *dataset* for linearmente separável.\n",
    "\n",
    "O algoritmo só é usado para problemas de **classificação binária**. No entanto, podemos estender o algoritmo para resolver um problema de classificação com múltiplas classes, introduzindo um perceptrão por classe. Isto é, cada perceptrão dá o resultado 1 ou 0, significando que a amostra pertence ou não a essa classe."
   ]
  },
  {
   "cell_type": "markdown",
   "metadata": {},
   "source": [
    "## Outro exemplo simples\n",
    "\n",
    "Vamos construir e treinar um perceptrão para calcular a conjunção (de duas entradas lógicas) (recebe uma lista com dois valores (0 ou 1) e dá como resultado a sua conjunção)"
   ]
  },
  {
   "cell_type": "code",
   "execution_count": 6,
   "metadata": {},
   "outputs": [
    {
     "name": "stdout",
     "output_type": "stream",
     "text": [
      "Nº erros por iteração: [1, 3, 3, 2, 1, 0, 0, 0]\n",
      "Pesos obtidos para o perceptrão da Conjunção: [-2.  2.  1.]\n",
      "conjunção entre  [1, 1]  =  1\n",
      "conjunção entre  [0, 1]  =  0\n",
      "conjunção entre  [0, 1, 1]  =  0\n"
     ]
    }
   ],
   "source": [
    "### Exemplos de teste para a conjunção\n",
    "\n",
    "xData = np.array([[0,0], [0,1], [1,0], [1,1]])\n",
    "yData = np.array([0,0,0,1])\n",
    "\n",
    "# Vamos obter o perceptrão\n",
    "wConj, errors = perceptron(xData, yData, 8)\n",
    "print(\"Nº erros por iteração:\", errors)\n",
    "print(\"Pesos obtidos para o perceptrão da Conjunção:\", wConj)\n",
    "\n",
    "# Vamos classificar o par [1,1]\n",
    "print( \"conjunção entre \", [1,1], \" = \", perceptron_result([1,1], wConj))\n",
    "\n",
    "# Vamos classificar o par [0,1]\n",
    "print( \"conjunção entre \", [0,1], \" = \", perceptron_result([0,1], wConj))\n",
    "\n",
    "# Agora vamos classificar (obter o resultado) da conjunção de 3 valores [0,1,1]\n",
    "xData = [0,1,1]\n",
    "#   Começamos por obter a conjunção dos 2 primeiros valores\n",
    "twoConjData = xData[0:2]\n",
    "conj1 = perceptron_result(twoConjData, wConj)\n",
    "#   Em seguida fazemos a conjunção desse resultado com o terceiro valor\n",
    "twoConjData = [conj1, xData[2]]\n",
    "print( \"conjunção entre \", xData, \" = \",perceptron_result(twoConjData, wConj))\n"
   ]
  },
  {
   "cell_type": "markdown",
   "metadata": {},
   "source": [
    "### Exercício 1 \n",
    "\n",
    "Construir e treinar um perceptrão para calcular a disjunção (de duas entradas lógicas)"
   ]
  },
  {
   "cell_type": "code",
   "execution_count": 7,
   "metadata": {},
   "outputs": [],
   "source": [
    "### Solução do exercício 1\n",
    "### disjunção\n"
   ]
  },
  {
   "cell_type": "markdown",
   "metadata": {},
   "source": [
    "### Exercício 2\n",
    "\n",
    "Construir e treinar um perceptrão para calcular um Pseudo-Contador - Com 6 entradas e uma saída. A saída indica se existe pelo menos uma entrada inactiva **e** existe pelo menos uma entrada activa. \n",
    "Repare que pode resolver este problema usando mais do que um perceptrão, nomeadamente usando **2 camadas**:\n",
    "1. um perceptrão para existe_inactiva\n",
    "1. um perceptrão para existe_activa\n",
    "1. um perceptrão para a conjunção das saídas dos dois anteriores\n",
    "\n",
    "Há 64 (2^6) potenciais dados de input. Tentem fornecer alguns exemplos de treino, treinem cada um dos dois primeiros perceptrões e vejam depois com exemplos de teste (novos) se eles já estão correctos. \n",
    "\n"
   ]
  },
  {
   "cell_type": "code",
   "execution_count": 8,
   "metadata": {},
   "outputs": [],
   "source": [
    "# exercício 2.\n",
    "\n",
    "# Exemplos de Treino e respectivas labels\n",
    "\n",
    "\n",
    "# 2.1. Perceptrão treinado para existe_inactiva\n",
    "\n",
    "\n"
   ]
  },
  {
   "cell_type": "code",
   "execution_count": 9,
   "metadata": {},
   "outputs": [],
   "source": [
    "# 2.2. Perceptrão treinado para existe_activa\n"
   ]
  },
  {
   "cell_type": "code",
   "execution_count": 10,
   "metadata": {},
   "outputs": [],
   "source": [
    "# 2.3.\n",
    "# segunda camada: conjunção usando os pesos (já antes obtidos) wConj\n",
    "\n"
   ]
  },
  {
   "cell_type": "markdown",
   "metadata": {},
   "source": [
    "# Limitações das redes neuronais de uma só camada\n",
    "\n",
    "1. Só podem representar um conjunto limitado de funções. Modelos com funções complicadas vão resultar em redes com precisão baixa na previsão.\n",
    "\n",
    "1. Só podem aprender dados linearmente separáveis. Mais uma vez, com dados mais complexos, a precisão vai ser baixa\n",
    "\n",
    "1. As fronteiras de decisão constituem um híper-plano, por exemplo, se os dados se distribuem em 3 dimensões, a fronteira de decisão deve estar em 2 dimensões (neste caso é um plano).\n",
    "\n"
   ]
  },
  {
   "cell_type": "markdown",
   "metadata": {},
   "source": [
    "## Camadas escondidas (hidden layers)\n",
    "### Vantagens\n",
    "\n",
    "1. Redes com múltiplas camadas podem ser usadas para classificar dados não linearmente separáveis\n",
    "1. São mais confiáveis quando se comparam com redes de uma só camada\n",
    "\n",
    "\n",
    "\n",
    "### Exemplo com uma camada escondida\n",
    "\n",
    "<img src=\"nn-hidden.png\" style=\"width: 456px;\" />\n"
   ]
  },
  {
   "cell_type": "markdown",
   "metadata": {},
   "source": [
    "# Usando a classe Perceptron do Scikit-Learn\n",
    "\n",
    "Vamos agora usar a biblioteca Scikit-learn que já implementa o Perceptrão e o MLP (*Multi-Layer Perceptron*).\n",
    "\n",
    "Vamos começar por utilizar a classe `Perceptron` sobre **todos** os dados iris (considerando agora portanto as 3 classes), considerando como anteriormente apenas dois dos atributos, *petal length* e *sepal length*.\n",
    "\n"
   ]
  },
  {
   "cell_type": "code",
   "execution_count": 11,
   "metadata": {},
   "outputs": [
    {
     "name": "stdout",
     "output_type": "stream",
     "text": [
      "Class labels: [0 1 2] ['setosa' 'versicolor' 'virginica']\n"
     ]
    }
   ],
   "source": [
    "iris_data = load_iris()\n",
    "X = iris_data['data'][:, [0, 2]]\n",
    "y = iris_data['target']\n",
    "print('Class labels:', np.unique(y), iris_data['target_names'])"
   ]
  },
  {
   "cell_type": "markdown",
   "metadata": {},
   "source": [
    "Vamos separar os dados num conjunto de treino e num conjunto de teste.\n",
    "\n",
    "Recorde que o scikit-learn tem uma função `train_test_split` que baralha (*shuffle*) o conjunto de dados e divide-o em duas partes. Esta função, por defeito, extrai 75% das linhas do conjunto de dados para o conjunto de treino, com as classes correspondentes. Os restantes 25% dos dados com as respetivas classes constituem o conjunto de teste."
   ]
  },
  {
   "cell_type": "code",
   "execution_count": 12,
   "metadata": {},
   "outputs": [
    {
     "name": "stdout",
     "output_type": "stream",
     "text": [
      "(112, 2)\n",
      "(38, 2)\n"
     ]
    }
   ],
   "source": [
    "# split on train and test\n",
    "\n",
    "from sklearn.model_selection import train_test_split\n",
    "\n",
    "X_train, X_test, y_train, y_test = train_test_split(X, y, random_state=2)\n",
    "print(X_train.shape)\n",
    "print(X_test.shape)"
   ]
  },
  {
   "cell_type": "markdown",
   "metadata": {},
   "source": [
    "A classe `Perceptron` permite produzir perceptrões lineares (não aplica nenhuma função de ativação) \n",
    "e tem vários argumentos que podem ser escolhidos:\n",
    "\n",
    "    Perceptron(*, penalty=None, alpha=0.0001, l1_ratio=0.15, fit_intercept=True, max_iter=1000, tol=0.001, \n",
    "        shuffle=True, verbose=0, eta0=1.0, n_jobs=None, random_state=0, early_stopping=False, \n",
    "        validation_fraction=0.1, n_iter_no_change=5, class_weight=None, warm_start=False)\n",
    "\n",
    "\n",
    "\n",
    "Apenas iremos explicar os mais relevantes (e que iremos usar) para este guião:\n",
    "\n",
    "- `max_iter: default = 1000` - o número máximo de épocas (iterações sobre os dados de treino)\n",
    "- `shuffle: default = True` - indica se os dados de treino devem ser *shuffled* entre cada época\n",
    "- `eta0: default = 1.0` - valor do rácio de aprendizagem: constante pela qual é multiplicada a atualização dos pesos \n",
    "-  `random_state : default=None ` - usado para fazer o *shuffle* dos dados. Deve-se usar um valor inteiro para que diferentes chamadas produzam o mesmo resultado, quando shuffle = True. "
   ]
  },
  {
   "cell_type": "code",
   "execution_count": 13,
   "metadata": {},
   "outputs": [
    {
     "name": "stdout",
     "output_type": "stream",
     "text": [
      "Exactidão no conjunto de treino: 0.8660714285714286\n",
      "Exactidão no conjunto de teste: 0.9210526315789473\n"
     ]
    }
   ],
   "source": [
    "from sklearn.linear_model import Perceptron\n",
    "\n",
    "p = Perceptron(max_iter=40, eta0 = 0.8, random_state=1)\n",
    "p.fit(X_train, y_train)\n",
    "print(\"Exactidão no conjunto de treino:\",  p.score(X_train, y_train))\n",
    "print(\"Exactidão no conjunto de teste:\",  p.score(X_test, y_test))"
   ]
  },
  {
   "cell_type": "markdown",
   "metadata": {},
   "source": [
    "Vejamos o que acontece se usarmos os mesmos dados, mas seleccionando outras duas *features*, *petal length* e *petal width*."
   ]
  },
  {
   "cell_type": "code",
   "execution_count": 14,
   "metadata": {},
   "outputs": [],
   "source": [
    "X2 = iris_data['data'][:, [0, 1]]"
   ]
  },
  {
   "cell_type": "markdown",
   "metadata": {},
   "source": [
    "Vamos primeiro ver se esses dados são linearmente separáveis"
   ]
  },
  {
   "cell_type": "code",
   "execution_count": 15,
   "metadata": {},
   "outputs": [
    {
     "data": {
      "image/png": "[encoded data removed]",
      "text/plain": [
       "<Figure size 432x288 with 1 Axes>"
      ]
     },
     "metadata": {
      "needs_background": "light"
     },
     "output_type": "display_data"
    }
   ],
   "source": [
    "plt.scatter(X2[:50,0], X2[:50,1], marker = 'o', label='setosa')\n",
    "plt.scatter(X2[50:100,0], X2[50:100,1], marker = 'x', label='versicolor')\n",
    "plt.scatter(X2[100:,0], X2[100:,1], marker = '*', label='virginica')\n",
    "plt.xlabel('petal length')\n",
    "plt.ylabel('petal width')\n",
    "plt.legend()\n",
    "plt.show()"
   ]
  },
  {
   "cell_type": "markdown",
   "metadata": {},
   "source": [
    "Como podemos constatar pelo gráfico acima, não são linearmente separáveis.\n",
    "Vamos ver como se comporta o Perceptron sobre estes dados"
   ]
  },
  {
   "cell_type": "code",
   "execution_count": 16,
   "metadata": {},
   "outputs": [
    {
     "name": "stdout",
     "output_type": "stream",
     "text": [
      "Exactidão no conjunto de treino: 0.6964285714285714\n",
      "Exactidão no conjunto de teste: 0.7368421052631579\n"
     ]
    }
   ],
   "source": [
    "X2_train, X2_test, y_train, y_test = train_test_split(X2, y, random_state=2)\n",
    "\n",
    "p = Perceptron(max_iter=1000, eta0=0.8, random_state=1)\n",
    "p.fit(X2_train, y_train)\n",
    "print(\"Exactidão no conjunto de treino:\",  p.score(X2_train, y_train))\n",
    "print(\"Exactidão no conjunto de teste:\",  p.score(X2_test, y_test))"
   ]
  },
  {
   "cell_type": "markdown",
   "metadata": {},
   "source": [
    "# Usando a  classe MLPClassifier do Scikit-Learn\n",
    "\n",
    "A classe MLP do módulo sklearn produz um perceptrão multi-camada, também com os métodos ```fit(X,y)```,  ```predict(X)``` e ```score(X,y)```.\n",
    "\n",
    "\n",
    "No MLP, o processo de cálculo da soma ponderada do produto das entradas pelos pesos é repetido várias vezes, calculando primeiro uma camada escondida que representa valores intermédios dos cálculos, que são depois novamente combinados usando somas ponderadas, até obter um resultado final. \n"
   ]
  },
  {
   "cell_type": "markdown",
   "metadata": {},
   "source": [
    "## Parâmetros da classe MLPCLassifier\n",
    "\n",
    "A classe MLPClassifier tem inúmeros parâmetros:\n",
    "\n",
    "    MLPClassifier(hidden_layer_sizes=(100,), activation='relu', *, solver='adam', alpha=0.0001, \n",
    "        batch_size='auto', learning_rate='constant', learning_rate_init=0.001, power_t=0.5, max_iter=200, \n",
    "        shuffle=True, random_state=None, tol=0.0001, verbose=False, warm_start=False, momentum=0.9, \n",
    "        nesterovs_momentum=True, early_stopping=False, validation_fraction=0.1, beta_1=0.9, beta_2=0.999, \n",
    "        epsilon=1e-08, n_iter_no_change=10, max_fun=15000)\n",
    "        \n",
    "Vamos aqui detalhar apenas alguns dos mais importantes, que vamos usar neste guião:\n",
    "\n",
    "- `hidden_layer_sizes: default = (100,)` - indica o número de nós em cada uma das camadas escondidas. Por defeito, há uma única camada escondida com 100 nós, mas podem utilizar-se várias camadas escondidas com diferentes números de nós. Por exemplo, hidden_layer_sizes = (3,3) indica que vão ser usadas 2 camadas escondidas, ambas com 3 nós, como ilustrado na imagem seguinte:\n",
    "\n",
    "\n",
    "<img src=\"MLP_two_layers.jpg\" style=\"width: 400px;\" />\n",
    "\n",
    "- `activation: default = 'relu'` - a função de ativação não linear a aplicar antes da saída, que pode ter um dos 3 valores: 'logistic', 'tanh' ou 'relu'.\n",
    " \n",
    "\n",
    "<img src=\"activationFunctions.png\" style=\"width: 700px;\" />\n",
    "\n",
    "- `learning_rate_init : default=0.001` - o valor do rácio (inicial) de aprendizagem. Este valor manter-se-á constante para todas as épocas, se o parâmetro learning_rate tiver o valor 'constant', que é o seu valor por defeito."
   ]
  },
  {
   "cell_type": "markdown",
   "metadata": {},
   "source": [
    "Vamos começar com um exemplo com os dados Iris,  escolhendo algumas *features* para as quais os dados que não sejam linearmente separáveis, que guardámos em ```X2```."
   ]
  },
  {
   "cell_type": "code",
   "execution_count": 17,
   "metadata": {},
   "outputs": [
    {
     "name": "stdout",
     "output_type": "stream",
     "text": [
      "Conjunto de teste - classe real:\n",
      "[0 0 2 0 0 2 0 2 2 0 0 0 0 0 1 1 0 1 2 1 1 1 2 1 1 0 0 2 0 2 2 0 1 2 1 0 2\n",
      " 1]\n",
      "Conjunto de teste - classe predita:\n",
      "[0 0 1 0 0 2 0 2 2 0 0 0 0 0 2 2 1 1 2 1 2 2 2 1 1 0 0 1 0 2 1 0 1 2 1 0 2\n",
      " 1]\n",
      "Exactidão no conjunto de treino: 0.8214285714285714\n",
      "Exactidão no conjunto de teste: 0.7894736842105263\n"
     ]
    }
   ],
   "source": [
    "from sklearn.neural_network import MLPClassifier\n",
    "\n",
    "# MLP usando 'relu' com 1 camada escondida com 100 nós\n",
    "mlp = MLPClassifier(random_state=1, max_iter = 1000) \n",
    "mlp.fit(X2_train, y_train)\n",
    "print(\"Conjunto de teste - classe real:\")\n",
    "print(y_test)\n",
    "print(\"Conjunto de teste - classe predita:\")\n",
    "print(mlp.predict(X2_test))\n",
    "print(\"Exactidão no conjunto de treino:\",  mlp.score(X2_train, y_train))\n",
    "print(\"Exactidão no conjunto de teste:\",  mlp.score(X2_test, y_test))\n"
   ]
  },
  {
   "cell_type": "markdown",
   "metadata": {},
   "source": [
    "Vamos experimentar com outros valores de parâmetros, treinando com os mesmos dados."
   ]
  },
  {
   "cell_type": "code",
   "execution_count": 18,
   "metadata": {},
   "outputs": [
    {
     "name": "stdout",
     "output_type": "stream",
     "text": [
      "Com função de activação tanh:\n",
      "\t Exactidão no conjunto de treino: 0.8214285714285714\n",
      "\t Exactidão no conjunto de teste: 0.8157894736842105\n",
      "Com função de activação logistic:\n",
      "\t Exactidão no conjunto de treino: 0.8125\n",
      "\t Exactidão no conjunto de teste: 0.7894736842105263\n",
      "Com activação 'relu', reduzindo o número de nós escondidos para 50:\n",
      "\t Exactidão no conjunto de treino: 0.8303571428571429\n",
      "\t Exactidão no conjunto de teste: 0.7894736842105263\n",
      "Com activação 'relu',  mas com 3 camadas de 10 nós cada:\n",
      "\t Exactidão no conjunto de treino: 0.8214285714285714\n",
      "\t Exactidão no conjunto de teste: 0.8157894736842105\n"
     ]
    }
   ],
   "source": [
    "print(\"Com função de activação tanh:\")\n",
    "mlp_tan = MLPClassifier(random_state=1, max_iter = 1000, activation = 'tanh') \n",
    "mlp_tan.fit(X2_train, y_train)\n",
    "print(\"\\t Exactidão no conjunto de treino:\",  mlp_tan.score(X2_train, y_train))\n",
    "print(\"\\t Exactidão no conjunto de teste:\",  mlp_tan.score(X2_test, y_test))\n",
    "\n",
    "print(\"Com função de activação logistic:\")\n",
    "mlp_log = MLPClassifier(random_state=1, max_iter = 1000, activation = 'logistic') \n",
    "mlp_log.fit(X2_train, y_train)\n",
    "print(\"\\t Exactidão no conjunto de treino:\",  mlp_log.score(X2_train, y_train))\n",
    "print(\"\\t Exactidão no conjunto de teste:\",  mlp_log.score(X2_test, y_test))\n",
    "\n",
    "print(\"Com activação 'relu', reduzindo o número de nós escondidos para 50:\")\n",
    "mlp_50 = MLPClassifier(random_state=1, max_iter = 1000, hidden_layer_sizes = (50,)) \n",
    "mlp_50.fit(X2_train, y_train)\n",
    "print(\"\\t Exactidão no conjunto de treino:\",  mlp_50.score(X2_train, y_train))\n",
    "print(\"\\t Exactidão no conjunto de teste:\",  mlp_50.score(X2_test, y_test))\n",
    "\n",
    "print(\"Com activação 'relu',  mas com 3 camadas de 10 nós cada:\")\n",
    "mlp_10_10_10 = MLPClassifier(random_state=1, max_iter = 1000, hidden_layer_sizes = (10,10,10)) \n",
    "mlp_10_10_10.fit(X2_train, y_train)\n",
    "print(\"\\t Exactidão no conjunto de treino:\",  mlp_10_10_10.score(X2_train, y_train))\n",
    "print(\"\\t Exactidão no conjunto de teste:\",  mlp_10_10_10.score(X2_test, y_test))\n",
    "\n"
   ]
  },
  {
   "cell_type": "markdown",
   "metadata": {},
   "source": [
    "### Exercício 3\n",
    "Faça agora experiências de modo a treinar um MLP sobre os dados Iris, considerando todas as 4 features.\n",
    "Procure variar os valores dos parâmetros de modo a maximizar a exatidão no conjunto de teste"
   ]
  },
  {
   "cell_type": "code",
   "execution_count": 19,
   "metadata": {},
   "outputs": [],
   "source": [
    "# Exercício 3"
   ]
  },
  {
   "cell_type": "markdown",
   "metadata": {},
   "source": [
    "## MLP sobre um grande conjunto de dados: Breast Cancer Dataset\n",
    "\n",
    "\n",
    "Vamos agora aplicar um MLPClassifier sobre o conjunto de dados `Breast Cancer Dataset` que contem um maior número de exemplos, cada um deles com um grande número de características"
   ]
  },
  {
   "cell_type": "code",
   "execution_count": 20,
   "metadata": {},
   "outputs": [
    {
     "name": "stdout",
     "output_type": "stream",
     "text": [
      "(569, 30)\n"
     ]
    }
   ],
   "source": [
    "from sklearn.datasets import load_breast_cancer\n",
    "\n",
    "cancer = load_breast_cancer()\n",
    "\n",
    "print(cancer.data.shape)"
   ]
  },
  {
   "cell_type": "markdown",
   "metadata": {},
   "source": [
    "Vamos particionar o conjunto de dados em conjuntos de treino e de teste, para treinar o MLP com valores de argumentos por defeito\n"
   ]
  },
  {
   "cell_type": "code",
   "execution_count": 21,
   "metadata": {},
   "outputs": [
    {
     "name": "stdout",
     "output_type": "stream",
     "text": [
      "Dimensão do conjunto de treino: (426, 30)\n",
      "Dimensão do conjunto de teste: (143, 30)\n",
      "Exactidão no conjunto de treino: 0.9225352112676056\n",
      "Exactidão no conjunto de teste: 0.9300699300699301\n"
     ]
    }
   ],
   "source": [
    "X_train, X_test, y_train, y_test = train_test_split(cancer.data, \n",
    "                                                    cancer.target, \n",
    "                                                    random_state=0)\n",
    "print(\"Dimensão do conjunto de treino:\", X_train.shape)\n",
    "print(\"Dimensão do conjunto de teste:\",X_test.shape)\n",
    "\n",
    "mlp_cancer = MLPClassifier(random_state=2)\n",
    "mlp_cancer.fit(X_train, y_train)\n",
    "print(\"Exactidão no conjunto de treino:\",  mlp_cancer.score(X_train, y_train))\n",
    "print(\"Exactidão no conjunto de teste:\",  mlp_cancer.score(X_test, y_test))"
   ]
  },
  {
   "cell_type": "markdown",
   "metadata": {},
   "source": [
    "Conseguiremos fazer melhor?\n",
    "\n",
    "## Normalização dos dados\n",
    "\n",
    "O MLP é sensível à escala das características (*features*), portanto é recomendável normalizar os dados.\n",
    "Vamos experimentar aplicar o StandardScaler."
   ]
  },
  {
   "cell_type": "code",
   "execution_count": 22,
   "metadata": {},
   "outputs": [
    {
     "name": "stdout",
     "output_type": "stream",
     "text": [
      "Valor médio para cada feature:\n",
      "[1.41591714e+01 1.92330047e+01 9.21438967e+01 6.58415023e+02\n",
      " 9.63659859e-02 1.03669601e-01 8.86501308e-02 4.91440610e-02\n",
      " 1.80473239e-01 6.26169953e-02 4.04795070e-01 1.21222723e+00\n",
      " 2.84097934e+00 4.06956737e+01 6.98667371e-03 2.50779930e-02\n",
      " 3.16993207e-02 1.17015352e-02 2.04367559e-02 3.71274953e-03\n",
      " 1.63168169e+01 2.56379812e+01 1.07459131e+02 8.87647887e+02\n",
      " 1.32503404e-01 2.52836338e-01 2.69481120e-01 1.15279345e-01\n",
      " 2.89649296e-01 8.35402582e-02]\n",
      "Variância para cada feature:\n",
      "[1.25897899e+01 1.69560914e+01 5.95778595e+02 1.29601275e+05\n",
      " 1.91507176e-04 2.56274742e-03 6.15051796e-03 1.50334115e-03\n",
      " 7.65073979e-04 4.68437797e-05 8.22715492e-02 2.97671678e-01\n",
      " 4.24059952e+00 2.34822947e+03 7.97118325e-06 2.87368746e-04\n",
      " 9.86694208e-04 3.48784027e-05 6.71240221e-05 6.90226165e-06\n",
      " 2.39029061e+01 3.66938992e+01 1.15091764e+03 3.43002761e+05\n",
      " 5.24567414e-04 2.30192036e-02 3.92535849e-02 4.29569997e-03\n",
      " 3.99642766e-03 3.15927141e-04]\n",
      "\n"
     ]
    },
    {
     "name": "stderr",
     "output_type": "stream",
     "text": [
      "E:\\Anaconda\\lib\\site-packages\\sklearn\\neural_network\\_multilayer_perceptron.py:692: ConvergenceWarning: Stochastic Optimizer: Maximum iterations (200) reached and the optimization hasn't converged yet.\n",
      "  warnings.warn(\n"
     ]
    },
    {
     "name": "stdout",
     "output_type": "stream",
     "text": [
      "Exactidão no conjunto de treino com 200 iterações: 0.9929577464788732\n",
      "Exactidão no conjunto de teste com 200 iterações: 0.958041958041958\n",
      "\n",
      "Exactidão no conjunto de treino com 1000 iterações: 0.9976525821596244\n",
      "Exactidão no conjunto de teste com 1000 iterações: 0.965034965034965\n"
     ]
    }
   ],
   "source": [
    "from sklearn.preprocessing import StandardScaler\n",
    "\n",
    "scaler = StandardScaler()\n",
    "\n",
    "# adaptar o escalonador aos dados de treino\n",
    "scaler.fit(X_train)\n",
    "print(\"Valor médio para cada feature:\")\n",
    "print(scaler.mean_)\n",
    "print(\"Variância para cada feature:\")\n",
    "print(scaler.var_)\n",
    "print()\n",
    "\n",
    "# Agora transformamos os dados (de treino e de teste) usando o escalonador\n",
    "X_train_scaled = scaler.transform(X_train)\n",
    "X_test_scaled = scaler.transform(X_test)\n",
    "\n",
    "# Finalmente voltamos a treinar o MLP com os dados escalonados\n",
    "mlp_cancer = MLPClassifier(random_state=2)\n",
    "mlp_cancer.fit(X_train_scaled, y_train)\n",
    "print(\"Exactidão no conjunto de treino com 200 iterações:\",  mlp_cancer.score(X_train_scaled, y_train))\n",
    "print(\"Exactidão no conjunto de teste com 200 iterações:\",  mlp_cancer.score(X_test_scaled, y_test))\n",
    "print()\n",
    "\n",
    "# Agora aumentando o número de iterações para obter convergência\n",
    "mlp_cancer2 = MLPClassifier(random_state=2, max_iter = 1000)\n",
    "mlp_cancer2.fit(X_train_scaled, y_train)\n",
    "print(\"Exactidão no conjunto de treino com 1000 iterações:\",  mlp_cancer2.score(X_train_scaled, y_train))\n",
    "print(\"Exactidão no conjunto de teste com 1000 iterações:\",  mlp_cancer2.score(X_test_scaled, y_test))\n",
    "\n"
   ]
  }
 ],
 "metadata": {
  "kernelspec": {
   "display_name": "Python 3 (ipykernel)",
   "language": "python",
   "name": "python3"
  },
  "language_info": {
   "codemirror_mode": {
    "name": "ipython",
    "version": 3
   },
   "file_extension": ".py",
   "mimetype": "text/x-python",
   "name": "python",
   "nbconvert_exporter": "python",
   "pygments_lexer": "ipython3",
   "version": "3.8.8"
  }
 },
 "nbformat": 4,
 "nbformat_minor": 2
}
