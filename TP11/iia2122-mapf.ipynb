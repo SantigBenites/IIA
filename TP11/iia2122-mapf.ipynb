{
 "cells": [
  {
   "cell_type": "markdown",
   "metadata": {},
   "source": [
    "# Sistemas multiagente\n",
    "## Planificador de caminhos multiagente"
   ]
  },
  {
   "cell_type": "markdown",
   "metadata": {},
   "source": [
    "### Pressupostos \n",
    "Vamos adoptar uma particular abordagem ao universo multiagente e seus problemas específicos.\n",
    "Essa abordagem caracteriza-se por:\n",
    "\n",
    "-  **Objectivo comum; agentes cooperantes**: Vamos considerar a existência de vários agentes, cada um dos quais tem o seu objectivo próprio. Podemos, no entanto, ver esta situação como havendo um objectivo comum de todos os agentes que consiste em que cada um deles consiga atingir o seu objectivo. \n",
    "Vamos portanto considerar que os agentes são inerentemente cooperantes, no sentido em que não pretendem impedir que os outros atinjam o seu objectivo.\n",
    "\n",
    "\n",
    "- **Coordenação evita perturbação entre agentes**:\n",
    "Cada agente planeia as suas acções. Apesar de os agentes serem cooperantes, as suas acções podem interferir com as acções de outros, perturbando-as, pelo que será necessário coordenar os seus planos de modo a evitar conflitos.\n",
    "\n",
    "<img src=\"robotConflict.png\" width=\"300\">\n",
    "\n",
    "- **sincronização perfeita**:\n",
    "Há um relógio global; As ações de cada um dos agentes são iniciadas no mesmo instante temporal, \n",
    "são simultâneas e\n",
    "demoram todas o mesmo tempo. \n",
    "Esta forma de sincronização é irrealista (um dos agentes pode ter que esperar) mas tem uma semântica simples.\n",
    "\n",
    "\n",
    "- **agentes fracamente acoplados**:\n",
    "começa por se tratar os agentes como se fossem independentes e depois repara-se o plano para as interações (coordenação)\n",
    "\n",
    "\n",
    "A abordagem ao planeamento multiagente que vamos adoptar é conhecida por **$MAPF$**\n",
    "\n",
    "### **Multiagent path finder (*MAPF*)**:\n",
    "Segundo Stern et al. 2019 (http://arxiv.org/abs/1906.08291), o problema de encontrar um caminho multiagente (*multiagent path finder*, ou *MAPF*) é o de encontrar caminhos para múltiplos agentes, quando a restrição chave é que os agentes possam seguir concorrentemente esses caminhos sem colidir uns com os outros. As aplicações de *MAPF* incluem armazéns automatizados e veículos autónomos.\n"
   ]
  },
  {
   "cell_type": "markdown",
   "metadata": {},
   "source": [
    "### *MAPF* Clássico\n",
    "A descrição de um problema MAPF clássico com $k$ agentes é um tuplo $<Graph, start, target>$ onde $Graph = (V, A)$ é um grafo não direccionado, $start: [1, ..., k] \\rightarrow V$ indica para cada agente o seu vértice origem e $target: [1, ..., k] \\rightarrow V$ indica para cada agente o seu vértice alvo. \n",
    "\n",
    "Assume-se que o tempo é discretizado e em cada passo de tempo cada agente está situado em um dos vértices do grafo e pode realizar uma única acção. \n",
    "\n",
    "Uma acção é uma função $a: V \\rightarrow V$ tal que $a(v) = v'$ significa que se o agente está no vértice $v$ e executa a acção $a$ então estará no vértice $v'$ no próximo passo de tempo. \n",
    "\n",
    "Cada agente tem dois tipos de acção, $wait$ and $move$. Uma acção $wait$ significa que o agente fica no mesmo vértice mais um passo de tempo. Uma acção $move$ quer dizer que o agente se move do seu vértice corrente $v$ para um vértice adjacente $v'$ no grafo (ou seja, $(v, v') \\in A$).\n",
    "\n",
    "Para uma sequência de acções $\\pi = (a_1, ..., a_n)$ e um agente $i$, denota-se $\\pi_i[x]$ a localização do agente após executar as primeiras $x$ acções de $\\pi$, começando pelo vértice origem do agente,  $start(i)$. Ou seja, $\\pi_i[x]= a_x(a_{x-1}(...(a_1(start(i))))$. \n",
    "\n",
    "Uma sequência de acções $\\pi$ é um **plano para o agente $i$** se e só se executar esta sequência de acções em $start(i)$ resulta em estar em $target(i)$, ou seja, se $\\pi_i[|\\pi|] = target(i)$. \n",
    "\n",
    "Uma **solução** é um conjunto de $k$ planos, um para cada agente.\n",
    "\n",
    "\n"
   ]
  },
  {
   "cell_type": "markdown",
   "metadata": {},
   "source": [
    "### Conflitos num problema *MAPF*\n",
    "Para resolver um problema *MAPF* é útil a noção de **conflito** durante o planeamento. \n",
    "\n",
    "Uma solução para um problema *MAPF* é chamada **válida** se, para quaisquer agentes i e j,  não existe nenhum conflito entre o plano para i e o plano para j. \n",
    "\n",
    "Embora a noção de conflito dependa do ambiente específico considerado, podem listar-se vários tipos de conflitos entre planos. Vejamos alguns conflitos comuns, ilustrados nas seguintes imagens:\n",
    "\n",
    "<img src=\"conflitosV2.png\" alt=\"Drawing\" style=\"width: 800px;\"/>\n",
    "\n",
    "Como podemos caracterizar cada um desses tipos de conflitos?\n",
    "\n",
    "Sejam $\\pi_i$ e $\\pi_j$ dois planos para, respectivamente, um agente i e um agente j.\n",
    "\n",
    "1. **Conflito de arco**: dois agentes estão planeados para percorrer o mesmo arco no mesmo passo de tempo na mesma direcção, ou seja, existe conflito de arco entre $\\pi_i$ e $\\pi_j$ se e só se existe um passo de tempo $x$ tal que $\\pi_i[x]=\\pi_j[x]$ e $\\pi_i[x+1]=\\pi_j[x+1]$.\n",
    "\n",
    "\n",
    "2. **Conflito de vértice**: dois agentes estão planeados para ocupar o mesmo vértice no mesmo passo de tempo, ou seja, existe conflito de vértice entre $\\pi_i$ e $\\pi_j$ se e só se existe um passo de tempo $x$ tal que $\\pi_i[x]=\\pi_j[x]$.\n",
    "\n",
    "\n",
    "3. **Conflito de seguimento**: um agente está planeado para ocupar um vértice que estava ocupado por outro agente no passo de tempo anterior, ou seja, existe conflito de seguimento entre $\\pi_i$ e $\\pi_j$ se e só se existe um passo de tempo $x$ tal que $\\pi_i[x+1]=\\pi_j[x]$.\n",
    "\n",
    "\n",
    "4. **Conflito de ciclo entre os planos  $\\pi_i, \\pi_{i+1}, ... \\pi_j$**: no mesmo passo de tempo cada agente move-se para um vértice que estava previamente ocupado por outro agente, formanto um padrão de \"ciclo rotativo\", ou seja, existe conflito de ciclo entre os planos $\\pi_i, \\pi_{i+1}, ... \\pi_j$ se e só se existe um passo de tempo $x$ tal que $\\pi_i[x+1]=\\pi_{i+1}[x]$ e $\\pi_{i+1}[x+1]=\\pi_{i+2}[x]$ e ... e $\\pi_{j-1}[x+1]=\\pi_j[x]$ e $\\pi_j[x+1]=\\pi_i[x]$.\n",
    "\n",
    "\n",
    "5. **Conflito de troca**: dois agentes estão planeados para trocar de posição num único passo de tempo, ou seja, existe conflito de troca entre $\\pi_i$ e $\\pi_j$ se e só se existe um passo de tempo $x$ tal que $\\pi_i[x+1]=\\pi_j[x]$ e $\\pi_j[x+1]=\\pi_i[x]$.\n"
   ]
  },
  {
   "cell_type": "markdown",
   "metadata": {},
   "source": [
    "Num determinado problema de *MAPF* podemos estar dispostos a admitir algumas situações que identificámos  acima como um tipo de conflito, mas não admitir outras. \n",
    "Temos no entanto que estar consciente de que certos tipos de conflitos  implicam outros. Por exemplo:\n",
    "* Proibir conflitos de vértice implica proibir conflitos de arco.\n",
    "* Proibir conflitos de seguimento implica proibir conflitos de troca\n",
    "\n",
    "Para definir com precisão um problema *MAPF* é preciso indicar que tipos de conflitos vamos proibir."
   ]
  },
  {
   "cell_type": "markdown",
   "metadata": {},
   "source": [
    "### Exemplo simples num mundo com grelha 4x4 e dois agentes\n",
    "\n",
    "Começamos por um exemplo simples. O ficheiro ```mundo44.py``` apresenta um mundo com uma grelha de 4x4, dois agentes e dois objectivos que podem facilmente não gerar nenhum conflito.\n",
    "\n",
    "*  Nota: O código que vamos usar recorre ao módulo tkinter (interface python para Tcl/tk) que poderá ter que instalar. \n"
   ]
  },
  {
   "cell_type": "code",
   "execution_count": 1,
   "metadata": {},
   "outputs": [],
   "source": [
    "### carregamos as ferramentas de visualização e definiçao do mundo\n",
    "from gworld import *\n",
    "from visualize import *\n"
   ]
  },
  {
   "cell_type": "code",
   "execution_count": 2,
   "metadata": {
    "scrolled": true
   },
   "outputs": [
    {
     "name": "stdout",
     "output_type": "stream",
     "text": [
      "[(0, 0, 2, 1), (0, 1, 1, 3)]\n",
      "[1, 2]\n"
     ]
    }
   ],
   "source": [
    "### Definimos um mundo simples\n",
    "### O ficheiro mundo44.py tem exemplos de vários mundos e problemas \n",
    " \n",
    "w = GridWorld(4,4)    # as coordenadas da grelha são inteiros em [0,3]\n",
    "w.add_rocks([(2,2),(3,3)])\n",
    "w.add_agents([(0,0,2,1), (0,1,1,3)]) # para cada agente é dada a sua posição origem (start) e alvo (target)\n",
    "agents = list(w.get_agents())\n",
    "print(agents)"
   ]
  },
  {
   "cell_type": "markdown",
   "metadata": {},
   "source": [
    "Ou seja, este mundo tem dois agentes, o primeiro começa em (0,0) e tem como objectivo ir para (2,1) e o segundo começa em (0,1) e tem como objectivo ir para (1,3).\n",
    "\n",
    "O código seguinte abre uma janela \"tk\" com uma representação desse mundo-grelha, onde os agentes são representados por círculos coloridos e os seus objectivos por células cujo bordo está colorido com a cor do agente em causa. As pedras são as células a cinzento.\n",
    "\n",
    "ATENÇÃO que a janela pode ficar por trás de outra, procurem-na que ela está por aí (ajuda se fecharem todas as janelas que não estão a usar e se a janela deste notebook não ocupar o écran todo!!!)."
   ]
  },
  {
   "cell_type": "code",
   "execution_count": 3,
   "metadata": {},
   "outputs": [],
   "source": [
    "### Vejamos\n",
    "vis = Visualize(w)\n",
    "vis.draw_world()\n",
    "vis.draw_agents()\n",
    "vis.canvas.pack()\n",
    "vis.canvas.update()"
   ]
  },
  {
   "cell_type": "markdown",
   "metadata": {},
   "source": [
    "Cada agente pode movimentar-se uma posição na horizontal ou na vertical, desde que a célula para a qual se movimenta não esteja ocupada por uma pedra.\n",
    "\n",
    "Isto é, tendo em conta a caracterização de um problema *MAPF* atrás indicada, o grafo em causa teria, a partir do vértice/célula ```(2,1)```, apenas arcos para os seguintes vértices:\n",
    "\n",
    "```\n",
    "(2,0)  # movimento para a esquerda\n",
    "(1,1)  # movimento para cima\n",
    "(3,1)  # movimento para baixo\n",
    "```\n"
   ]
  },
  {
   "cell_type": "markdown",
   "metadata": {},
   "source": [
    "O estado de cada agente vai ser representado por um tuplo  tempo-espaço ```(t, a, b)``` onde o ```t``` é a etiqueta temporal, e ```(a,b)``` são as coordenadas onde o agente está nesse instante ```t```.\n",
    "\n",
    "Por exemplo, o agente 2 (agente azul) encontra-se no início no estado```(0, 0, 1)```, podendo passar no instante seguinte (t = 1) para um dos seguintes estados:\n",
    "```\n",
    "(1,0,1)   # pela acção wait\n",
    "(1,0,0)   # por uma acção move, para a esquerda\n",
    "(1,0,2)   # por uma acção move, para a direita\n",
    "(1,1,1)   # por uma acção move, para baixo\n",
    "```\n",
    "As 2 primeiras alternativas podem gerar conflitos de vértice \n",
    "com as acções possíveis do outro agente, o agente 1 ou agente verde"
   ]
  },
  {
   "cell_type": "markdown",
   "metadata": {},
   "source": [
    "## Encontrar uma solução para MAPF\n",
    "\n",
    "Para encontrar uma solução para um problema *MAPF* vamos usar o algoritmo de procura informada **A***, independentemente para cada um dos agentes, procurando evitar conflitos entre os planos dos diversos agentes através do uso de uma tabela de reservas de estados, isto é, de tuplos tempo-espaço \n",
    "\n",
    "### Método centralizado num mundo em grelha\n",
    "1. Encontrar caminhos independentes para cada agente sem considerar os outros agentes: Usar A\\* tempo-espaço para procura de baixo nível\n",
    "1. Fazer reservas numa tabela de reservas tempo-espaço\n",
    "1. Verificar na tabela se todos os caminhos estão livres de conflitos com os outros agentes\n",
    "1. Quando se encontra um conflito, adicionar uma restrição no planeador de baixo nível e replanear.\n",
    "\n",
    "\n",
    "- Para evitar que os agentes passem uns através dos outros, cada agente faz múltiplas reservas na tabela de reservas\n",
    " - Isto por vezes causa um atraso considerável, com um ou mais agentes à espera na sua localização, mesmo que um caminho esteja claramente disponível\n",
    " - Para evitar isto, é preciso adicionar diferentes tipos de restrições: para colisões de vértices e para colisões de arcos\n",
    " \n",
    "Link para vídeo: https://youtu.be/b5KMm729b_4\n",
    "\n"
   ]
  },
  {
   "cell_type": "markdown",
   "metadata": {},
   "source": [
    "Voltando ao nosso exemplo na grelha 4x4 com os agentes 1 (verde) e 2 (azul), vamos agora procurar uma solução, isto é, um conjunto de 2 planos, um para cada agente, que não gerem conflitos.\n",
    "\n",
    "Para esse fim, vamos importar o módulo cbsearchPlus que, por sua vez, importa o astar (algoritmo A* num mundo de grelha usando a distância de manhattan como heurística) e o m_astar (variante para ter em conta restrições)"
   ]
  },
  {
   "cell_type": "code",
   "execution_count": 4,
   "metadata": {},
   "outputs": [],
   "source": [
    "### Importar algoritmo de procura\n",
    "import cbsearchPlus as cbs\n",
    "conflict = False\n",
    "path_maxlen = 0\n",
    "constraints = []\n"
   ]
  },
  {
   "cell_type": "markdown",
   "metadata": {},
   "source": [
    "A função search do módulo cbsearchPlus tem a seguinte assinatura:\n",
    "\n",
    "```search(agents, world, verbose = False, step_by_step = False)```\n",
    "\n",
    "e retorna um triplo \n",
    "\n",
    "```(path_seq, pathcost, conflicts)```\n",
    "\n",
    "onde cada um dos elementos do triplo é um dicionário cujas chaves correspondem ao número de um agente. \n",
    "\n",
    "Vamos primeiro obter uma solução com os valores *default* para ```verbose``` e ```step_by_step```.\n",
    "\n",
    "\n",
    "\n",
    "É apresentado para cada agente: o custo do plano (*pathcost* que representa o número de movimentos) e a sequência de estados (*path_seq*)"
   ]
  },
  {
   "cell_type": "code",
   "execution_count": 5,
   "metadata": {},
   "outputs": [
    {
     "name": "stdout",
     "output_type": "stream",
     "text": [
      "\n",
      "RESULTADOS DA PROCURA\n",
      "PLANOS E CONFLITOS RESOLVIDOS\n",
      "Agente  1 :\n",
      " custo: 3\n",
      " Estados:\n",
      "   (0, 0, 0)\n",
      "   (1, 0, 1)\n",
      "   (2, 1, 1)\n",
      "   (3, 2, 1)\n",
      "   (4, 2, 1)\n",
      "   (5, 2, 1)\n",
      "   (6, 2, 1)\n",
      "   (7, 2, 1)\n",
      "   (8, 2, 1)\n",
      "   (9, 2, 1)\n",
      "   (10, 2, 1)\n",
      "   (11, 2, 1)\n",
      "   (12, 2, 1)\n",
      "   (13, 2, 1)\n",
      "   (14, 2, 1)\n",
      "   (15, 2, 1)\n",
      "   (16, 2, 1)\n",
      "   (17, 2, 1)\n",
      "   (18, 2, 1)\n",
      "   (19, 2, 1)\n",
      "   (20, 2, 1)\n",
      "   (21, 2, 1)\n",
      "   (22, 2, 1)\n",
      "   (23, 2, 1)\n",
      "   (24, 2, 1)\n",
      "   (25, 2, 1)\n",
      "  Conflitos que foram resolvidos:\n",
      "   set()\n",
      "Agente  2 :\n",
      " custo: 3\n",
      " Estados:\n",
      "   (0, 0, 1)\n",
      "   (1, 0, 2)\n",
      "   (2, 0, 3)\n",
      "   (3, 1, 3)\n",
      "   (4, 1, 3)\n",
      "   (5, 1, 3)\n",
      "   (6, 1, 3)\n",
      "   (7, 1, 3)\n",
      "   (8, 1, 3)\n",
      "   (9, 1, 3)\n",
      "   (10, 1, 3)\n",
      "   (11, 1, 3)\n",
      "   (12, 1, 3)\n",
      "   (13, 1, 3)\n",
      "   (14, 1, 3)\n",
      "   (15, 1, 3)\n",
      "   (16, 1, 3)\n",
      "   (17, 1, 3)\n",
      "   (18, 1, 3)\n",
      "   (19, 1, 3)\n",
      "   (20, 1, 3)\n",
      "   (21, 1, 3)\n",
      "   (22, 1, 3)\n",
      "   (23, 1, 3)\n",
      "   (24, 1, 3)\n",
      "   (25, 1, 3)\n",
      "  Conflitos que foram resolvidos:\n",
      "   {(1, 0, 1)}\n"
     ]
    }
   ],
   "source": [
    "### Encontrar os caminhos\n",
    "path_seq, pathcost, conflicts_db = cbs.search(agents, w)\n",
    "print()\n",
    "print(\"RESULTADOS DA PROCURA\")\n",
    "print(\"PLANOS E CONFLITOS RESOLVIDOS\")\n",
    "for agent in agents:\n",
    "    print('Agente ', agent,\":\")\n",
    "    print(' custo:',pathcost[agent])\n",
    "    print(' Estados:')\n",
    "    for estado in path_seq[agent]:\n",
    "        print('  ', estado)\n",
    "    print(\"  Conflitos que foram resolvidos:\")\n",
    "    if agent in conflicts_db:\n",
    "        print('  ', conflicts_db[agent])\n",
    "    else:\n",
    "        print(None)"
   ]
  },
  {
   "cell_type": "markdown",
   "metadata": {},
   "source": [
    "Porque é que os planos se estendem, após ser atingido o objetivo do agente? \n",
    "\n",
    "Isso está a ser controlado pela constante SOMETIME definida no ficheiro macros.py, um dos ficheiros importados por cbsearchPlus.\n"
   ]
  },
  {
   "cell_type": "code",
   "execution_count": 6,
   "metadata": {},
   "outputs": [
    {
     "name": "stdout",
     "output_type": "stream",
     "text": [
      "Tempo limite =  25\n"
     ]
    }
   ],
   "source": [
    "print(\"Tempo limite = \", SOMETIME) #SOMETIME está definida em macros.py"
   ]
  },
  {
   "cell_type": "markdown",
   "metadata": {},
   "source": [
    "#### Hipóteses sobre o comportamento dos agentes ao atingir o alvo\n",
    "\n",
    "Como os agentes podem chegar aos seus alvos em diferentes alturas, temos de especificar o seu comportamento entre o passo de tempo no qual chegou ao seu alvo e o passo de tempo quando o último agente chegou ao seu alvo. Duas suposições comuns são estas:\n",
    "* Fica no alvo: Ficar à espera no seu alvo pode causar um conflito de vértice com algum plano que passe por esse vértice depois do agente ter chegado. Sob a hipótese fica-no-alvo, um par de planos $\\pi_i$ e $\\pi_j$ terá um conflito de vértice se existe um passo de tempo $t \\gt |\\pi_i|$ tal que $\\pi_j[t] = \\pi_i[|\\pi_i|]$. \n",
    "* Desaparece no alvo: Sob esta hipótese não haverá quaisquer conflitos depois do passo de tempo no qual o agente correspondente alcança o seu alvo (por exemplo, um carro que ao chegar ao seu destino é estacionado numa garagem).\n",
    "\n",
    "A hipótese adoptada nesta implementação é fica no alvo.\n",
    "\n",
    "\n",
    "\n"
   ]
  },
  {
   "cell_type": "markdown",
   "metadata": {},
   "source": [
    "###  Exemplo simples em maior detalhe \n",
    "\n",
    "Vamos agora ver a procura da solução na versão ```verbose = True``` e ```step_by_step = True```.\n",
    "\n",
    "De vez em quando é emitido algum output, com informação sobre a situação da procura. Vejam o output e carreguem na tecla  <enter\\> para continuar.\n",
    "\n",
    "* IMPORTANTE: por vezes a solução não é perfeita e gera excepções. Nesse caso, repetir o processo de procura normalmente é o suficiente. Há um \"shuffle\" dos agentes que permite encontrar uma solução melhor."
   ]
  },
  {
   "cell_type": "code",
   "execution_count": 8,
   "metadata": {},
   "outputs": [
    {
     "name": "stdout",
     "output_type": "stream",
     "text": [
      "Current plans:\n",
      " for agent  1 :  [(0, 0, 0), (1, 0, 1), (2, 1, 1), (3, 2, 1)]\n",
      " for agent  2 :  [(0, 0, 1), (1, 0, 2), (2, 1, 2), (3, 1, 3)]\n",
      "Press enter to continue ...\n",
      "\n",
      "for agent  2 :\n",
      " Start: (0, 0, 1)  Target: (25, 1, 3)  Constraints:  {(1, 0, 1)}\n",
      " New Path:  [(0, 0, 1), (1, 0, 2), (2, 0, 3), (3, 1, 3), (4, 1, 3), (5, 1, 3), (6, 1, 3), (7, 1, 3), (8, 1, 3), (9, 1, 3), (10, 1, 3), (11, 1, 3), (12, 1, 3), (13, 1, 3), (14, 1, 3), (15, 1, 3), (16, 1, 3), (17, 1, 3), (18, 1, 3), (19, 1, 3), (20, 1, 3), (21, 1, 3), (22, 1, 3), (23, 1, 3), (24, 1, 3), (25, 1, 3)]\n",
      "Press enter to continue ...\n",
      "\n",
      "Loop break!\n",
      "Press enter to continue ...\n",
      "\n",
      "\n",
      "RESULTADOS DA PROCURA\n",
      "PLANOS E CONFLITOS RESOLVIDOS\n",
      "Agente  1 :\n",
      " custo: 3\n",
      " Estados:\n",
      "   (0, 0, 0)\n",
      "   (1, 0, 1)\n",
      "   (2, 1, 1)\n",
      "   (3, 2, 1)\n",
      "   (4, 2, 1)\n",
      "   (5, 2, 1)\n",
      "   (6, 2, 1)\n",
      "   (7, 2, 1)\n",
      "   (8, 2, 1)\n",
      "   (9, 2, 1)\n",
      "   (10, 2, 1)\n",
      "   (11, 2, 1)\n",
      "   (12, 2, 1)\n",
      "   (13, 2, 1)\n",
      "   (14, 2, 1)\n",
      "   (15, 2, 1)\n",
      "   (16, 2, 1)\n",
      "   (17, 2, 1)\n",
      "   (18, 2, 1)\n",
      "   (19, 2, 1)\n",
      "   (20, 2, 1)\n",
      "   (21, 2, 1)\n",
      "   (22, 2, 1)\n",
      "   (23, 2, 1)\n",
      "   (24, 2, 1)\n",
      "   (25, 2, 1)\n",
      "  Conflitos que foram resolvidos:\n",
      "   set()\n",
      "Agente  2 :\n",
      " custo: 3\n",
      " Estados:\n",
      "   (0, 0, 1)\n",
      "   (1, 0, 2)\n",
      "   (2, 0, 3)\n",
      "   (3, 1, 3)\n",
      "   (4, 1, 3)\n",
      "   (5, 1, 3)\n",
      "   (6, 1, 3)\n",
      "   (7, 1, 3)\n",
      "   (8, 1, 3)\n",
      "   (9, 1, 3)\n",
      "   (10, 1, 3)\n",
      "   (11, 1, 3)\n",
      "   (12, 1, 3)\n",
      "   (13, 1, 3)\n",
      "   (14, 1, 3)\n",
      "   (15, 1, 3)\n",
      "   (16, 1, 3)\n",
      "   (17, 1, 3)\n",
      "   (18, 1, 3)\n",
      "   (19, 1, 3)\n",
      "   (20, 1, 3)\n",
      "   (21, 1, 3)\n",
      "   (22, 1, 3)\n",
      "   (23, 1, 3)\n",
      "   (24, 1, 3)\n",
      "   (25, 1, 3)\n",
      "  Conflitos que foram resolvidos:\n",
      "   {(1, 0, 1)}\n"
     ]
    }
   ],
   "source": [
    "path_seq, pathcost, conflicts_db = cbs.search(agents, w, True, True)\n",
    "print()\n",
    "print(\"RESULTADOS DA PROCURA\")\n",
    "print(\"PLANOS E CONFLITOS RESOLVIDOS\")\n",
    "for agent in agents:\n",
    "    print('Agente ', agent,\":\")\n",
    "    print(' custo:',pathcost[agent])\n",
    "    print(' Estados:')\n",
    "    for estado in path_seq[agent]:\n",
    "        print('  ', estado)\n",
    "    print(\"  Conflitos que foram resolvidos:\")\n",
    "    if agent in conflicts_db:\n",
    "        print('  ', conflicts_db[agent])\n",
    "    else:\n",
    "        print(None)"
   ]
  },
  {
   "cell_type": "code",
   "execution_count": 9,
   "metadata": {},
   "outputs": [
    {
     "ename": "Exception",
     "evalue": "Cell is not unoccupied! : (0,0) --> 0",
     "output_type": "error",
     "traceback": [
      "\u001b[1;31m---------------------------------------------------------------------------\u001b[0m",
      "\u001b[1;31mException\u001b[0m                                 Traceback (most recent call last)",
      "\u001b[1;32m<ipython-input-9-c6ccd620184c>\u001b[0m in \u001b[0;36m<module>\u001b[1;34m\u001b[0m\n\u001b[0;32m     13\u001b[0m         \u001b[1;32mif\u001b[0m\u001b[1;33m(\u001b[0m \u001b[0maction_seq\u001b[0m\u001b[1;33m[\u001b[0m\u001b[0magent\u001b[0m\u001b[1;33m]\u001b[0m \u001b[1;33m)\u001b[0m\u001b[1;33m:\u001b[0m\u001b[1;33m\u001b[0m\u001b[1;33m\u001b[0m\u001b[0m\n\u001b[0;32m     14\u001b[0m             \u001b[0maction\u001b[0m \u001b[1;33m=\u001b[0m \u001b[0maction_seq\u001b[0m\u001b[1;33m[\u001b[0m\u001b[0magent\u001b[0m\u001b[1;33m]\u001b[0m\u001b[1;33m.\u001b[0m\u001b[0mpop\u001b[0m\u001b[1;33m(\u001b[0m\u001b[1;36m0\u001b[0m\u001b[1;33m)\u001b[0m\u001b[1;33m\u001b[0m\u001b[1;33m\u001b[0m\u001b[0m\n\u001b[1;32m---> 15\u001b[1;33m             \u001b[0mw\u001b[0m\u001b[1;33m.\u001b[0m\u001b[0magent_action\u001b[0m\u001b[1;33m(\u001b[0m\u001b[0magent\u001b[0m\u001b[1;33m,\u001b[0m \u001b[0maction\u001b[0m\u001b[1;33m)\u001b[0m\u001b[1;33m\u001b[0m\u001b[1;33m\u001b[0m\u001b[0m\n\u001b[0m\u001b[0;32m     16\u001b[0m             \u001b[0mvis\u001b[0m\u001b[1;33m.\u001b[0m\u001b[0mcanvas\u001b[0m\u001b[1;33m.\u001b[0m\u001b[0mupdate\u001b[0m\u001b[1;33m(\u001b[0m\u001b[1;33m)\u001b[0m\u001b[1;33m\u001b[0m\u001b[1;33m\u001b[0m\u001b[0m\n\u001b[0;32m     17\u001b[0m             \u001b[0mvis\u001b[0m\u001b[1;33m.\u001b[0m\u001b[0mcanvas\u001b[0m\u001b[1;33m.\u001b[0m\u001b[0mafter\u001b[0m\u001b[1;33m(\u001b[0m\u001b[1;36m200\u001b[0m\u001b[1;33m)\u001b[0m\u001b[1;33m\u001b[0m\u001b[1;33m\u001b[0m\u001b[0m\n",
      "\u001b[1;32m~\\Desktop\\Tudo\\IIA\\TP11\\gworld.py\u001b[0m in \u001b[0;36magent_action\u001b[1;34m(self, aindx, action)\u001b[0m\n\u001b[0;32m    160\u001b[0m         \u001b[1;32melse\u001b[0m\u001b[1;33m:\u001b[0m\u001b[1;33m\u001b[0m\u001b[1;33m\u001b[0m\u001b[0m\n\u001b[0;32m    161\u001b[0m             \u001b[1;31m# print 'DoAction: ', aindx, y, x, nbors, action\u001b[0m\u001b[1;33m\u001b[0m\u001b[1;33m\u001b[0m\u001b[1;33m\u001b[0m\u001b[0m\n\u001b[1;32m--> 162\u001b[1;33m             \u001b[1;32mraise\u001b[0m \u001b[0mException\u001b[0m\u001b[1;33m(\u001b[0m\u001b[1;34m'Cell is not unoccupied! : ('\u001b[0m \u001b[1;33m+\u001b[0m \u001b[0mstr\u001b[0m\u001b[1;33m(\u001b[0m\u001b[0my\u001b[0m\u001b[1;33m)\u001b[0m \u001b[1;33m+\u001b[0m \u001b[1;34m','\u001b[0m \u001b[1;33m+\u001b[0m \u001b[0mstr\u001b[0m\u001b[1;33m(\u001b[0m\u001b[0mx\u001b[0m\u001b[1;33m)\u001b[0m \u001b[1;33m+\u001b[0m \u001b[1;34m') --> '\u001b[0m \u001b[1;33m+\u001b[0m \u001b[0mstr\u001b[0m\u001b[1;33m(\u001b[0m\u001b[0maction\u001b[0m\u001b[1;33m)\u001b[0m \u001b[1;33m)\u001b[0m\u001b[1;33m\u001b[0m\u001b[1;33m\u001b[0m\u001b[0m\n\u001b[0m\u001b[0;32m    163\u001b[0m         \u001b[1;32mreturn\u001b[0m \u001b[1;33m(\u001b[0m\u001b[1;36m0\u001b[0m\u001b[1;33m)\u001b[0m \u001b[1;32mif\u001b[0m \u001b[0mself\u001b[0m\u001b[1;33m.\u001b[0m\u001b[0maindx_cpos\u001b[0m\u001b[1;33m[\u001b[0m\u001b[0maindx\u001b[0m\u001b[1;33m]\u001b[0m \u001b[1;33m==\u001b[0m \u001b[0mself\u001b[0m\u001b[1;33m.\u001b[0m\u001b[0maindx_goal\u001b[0m\u001b[1;33m[\u001b[0m\u001b[0maindx\u001b[0m\u001b[1;33m]\u001b[0m \u001b[1;32melse\u001b[0m \u001b[1;33m(\u001b[0m\u001b[1;33m-\u001b[0m\u001b[1;36m1\u001b[0m\u001b[1;33m)\u001b[0m\u001b[1;33m\u001b[0m\u001b[1;33m\u001b[0m\u001b[0m\n\u001b[0;32m    164\u001b[0m \u001b[1;33m\u001b[0m\u001b[0m\n",
      "\u001b[1;31mException\u001b[0m: Cell is not unoccupied! : (0,0) --> 0"
     ]
    }
   ],
   "source": [
    "### Vamos agora ver a solução representada no mundo w, na janela tk\n",
    "## inicialização \n",
    "action_seq = dict()\n",
    "path_maxlen = 0\n",
    "\n",
    "for agent in agents:\n",
    "    path_len = len(path_seq[agent])\n",
    "    path_maxlen = path_len if (path_len > path_maxlen) else path_maxlen\n",
    "    action_seq[agent] = w.path_to_action(agent, path_seq[agent])\n",
    "\n",
    "for step in range(path_maxlen):\n",
    "    for agent in agents:\n",
    "        if( action_seq[agent] ):\n",
    "            action = action_seq[agent].pop(0)\n",
    "            w.agent_action(agent, action)\n",
    "            vis.canvas.update()\n",
    "            vis.canvas.after(200)\n",
    "    vis.canvas.update()\n",
    "    \n"
   ]
  },
  {
   "cell_type": "markdown",
   "metadata": {},
   "source": [
    "### Exemplo numa grelha 6x10 \n",
    "\n",
    "Vejam agora este mundo um pouco mais complicado. \n",
    "\n",
    "Apesar da grelha ser maior, nomeadamente no número de linhas, há muitas pedras/obstáculos que impedem os dois agentes de se deslocarem para linhas com índice > 1.\n",
    "\n",
    "Os planos dos agentes têm também mais possibilidade de entrar em conflito. Nomeadamente, o agente 1 (agente verde) terá que passar por cima do agente 2 (agente azul) para conseguir atingir o seu objectivo."
   ]
  },
  {
   "cell_type": "code",
   "execution_count": 10,
   "metadata": {},
   "outputs": [
    {
     "name": "stdout",
     "output_type": "stream",
     "text": [
      "[(0, 0, 0, 8), (0, 1, 0, 7)]\n"
     ]
    }
   ],
   "source": [
    "w1 = GridWorld(6,10)\n",
    "w1.add_rocks( [ (1,0),(1,1),(1,2),(1,3),(1,4),(2,5),(1,6),(1,7),(1,8),(1,9),(0,9) ] )\n",
    "w1.add_agents( [ (0,0,0,8), (0,1,0,7) ] )\n",
    "\n",
    "vis = Visualize(w1)\n",
    "vis.draw_world()\n",
    "vis.draw_agents()\n",
    "vis.canvas.pack()\n",
    "vis.canvas.update()\n",
    "agents = list(w1.get_agents())\n",
    "\n",
    "### Preparar\n",
    "conflict = False\n",
    "path_maxlen = 0\n",
    "constraints = []\n",
    "path_seq = dict()\n"
   ]
  },
  {
   "cell_type": "code",
   "execution_count": 12,
   "metadata": {},
   "outputs": [
    {
     "name": "stdout",
     "output_type": "stream",
     "text": [
      "\n",
      "RESULTADOS DA PROCURA\n",
      "PLANOS E CONFLITOS RESOLVIDOS\n",
      "Agente  1 :\n",
      " custo: 8\n",
      " Estados:\n",
      "   (0, 0, 0)\n",
      "   (1, 0, 1)\n",
      "   (2, 0, 2)\n",
      "   (3, 0, 3)\n",
      "   (4, 0, 4)\n",
      "   (5, 0, 5)\n",
      "   (6, 0, 6)\n",
      "   (7, 0, 7)\n",
      "   (8, 0, 8)\n",
      "   (9, 0, 8)\n",
      "   (10, 0, 8)\n",
      "   (11, 0, 8)\n",
      "   (12, 0, 8)\n",
      "   (13, 0, 8)\n",
      "   (14, 0, 8)\n",
      "   (15, 0, 8)\n",
      "   (16, 0, 8)\n",
      "   (17, 0, 8)\n",
      "   (18, 0, 8)\n",
      "   (19, 0, 8)\n",
      "   (20, 0, 8)\n",
      "   (21, 0, 8)\n",
      "   (22, 0, 8)\n",
      "   (23, 0, 8)\n",
      "   (24, 0, 8)\n",
      "   (25, 0, 8)\n",
      "  Conflitos que foram resolvidos:\n",
      "   set()\n",
      "Agente  2 :\n",
      " custo: 6\n",
      " Estados:\n",
      "   (0, 0, 1)\n",
      "   (1, 0, 2)\n",
      "   (2, 0, 3)\n",
      "   (3, 0, 4)\n",
      "   (4, 0, 5)\n",
      "   (5, 1, 5)\n",
      "   (6, 1, 5)\n",
      "   (7, 0, 5)\n",
      "   (8, 0, 6)\n",
      "   (9, 0, 7)\n",
      "   (10, 0, 7)\n",
      "   (11, 0, 7)\n",
      "   (12, 0, 7)\n",
      "   (13, 0, 7)\n",
      "   (14, 0, 7)\n",
      "   (15, 0, 7)\n",
      "   (16, 0, 7)\n",
      "   (17, 0, 7)\n",
      "   (18, 0, 7)\n",
      "   (19, 0, 7)\n",
      "   (20, 0, 7)\n",
      "   (21, 0, 7)\n",
      "   (22, 0, 7)\n",
      "   (23, 0, 7)\n",
      "   (24, 0, 7)\n",
      "   (25, 0, 7)\n",
      "  Conflitos que foram resolvidos:\n",
      "   {(1, 0, 1), (2, 0, 2), (5, 0, 5), (4, 0, 4), (3, 0, 3), (6, 0, 6), (7, 0, 7), (8, 0, 8), (7, 0, 6), (6, 0, 5), (8, 0, 7), (9, 0, 8)}\n"
     ]
    }
   ],
   "source": [
    "### Encontrar os caminhos\n",
    "### Encontrar os caminhos\n",
    "path_seq, pathcost, conflicts_db = cbs.search(agents, w1)\n",
    "print()\n",
    "print(\"RESULTADOS DA PROCURA\")\n",
    "print(\"PLANOS E CONFLITOS RESOLVIDOS\")\n",
    "for agent in agents:\n",
    "    print('Agente ', agent,\":\")\n",
    "    print(' custo:',pathcost[agent])\n",
    "    print(' Estados:')\n",
    "    for estado in path_seq[agent]:\n",
    "        print('  ', estado)\n",
    "    print(\"  Conflitos que foram resolvidos:\")\n",
    "    if agent in conflicts_db:\n",
    "        print('  ', conflicts_db[agent])\n",
    "    else:\n",
    "        print(None)"
   ]
  },
  {
   "cell_type": "markdown",
   "metadata": {},
   "source": [
    "Vamos ver a solução."
   ]
  },
  {
   "cell_type": "code",
   "execution_count": 13,
   "metadata": {},
   "outputs": [
    {
     "ename": "Exception",
     "evalue": "Cell is not unoccupied! : (0,0) --> 0",
     "output_type": "error",
     "traceback": [
      "\u001b[1;31m---------------------------------------------------------------------------\u001b[0m",
      "\u001b[1;31mException\u001b[0m                                 Traceback (most recent call last)",
      "\u001b[1;32m<ipython-input-13-f29a5b988e20>\u001b[0m in \u001b[0;36m<module>\u001b[1;34m\u001b[0m\n\u001b[0;32m     11\u001b[0m         \u001b[1;32mif\u001b[0m\u001b[1;33m(\u001b[0m \u001b[0maction_seq\u001b[0m\u001b[1;33m[\u001b[0m\u001b[0magent\u001b[0m\u001b[1;33m]\u001b[0m \u001b[1;33m)\u001b[0m\u001b[1;33m:\u001b[0m\u001b[1;33m\u001b[0m\u001b[1;33m\u001b[0m\u001b[0m\n\u001b[0;32m     12\u001b[0m             \u001b[0maction\u001b[0m \u001b[1;33m=\u001b[0m \u001b[0maction_seq\u001b[0m\u001b[1;33m[\u001b[0m\u001b[0magent\u001b[0m\u001b[1;33m]\u001b[0m\u001b[1;33m.\u001b[0m\u001b[0mpop\u001b[0m\u001b[1;33m(\u001b[0m\u001b[1;36m0\u001b[0m\u001b[1;33m)\u001b[0m\u001b[1;33m\u001b[0m\u001b[1;33m\u001b[0m\u001b[0m\n\u001b[1;32m---> 13\u001b[1;33m             \u001b[0mw1\u001b[0m\u001b[1;33m.\u001b[0m\u001b[0magent_action\u001b[0m\u001b[1;33m(\u001b[0m\u001b[0magent\u001b[0m\u001b[1;33m,\u001b[0m \u001b[0maction\u001b[0m\u001b[1;33m)\u001b[0m\u001b[1;33m\u001b[0m\u001b[1;33m\u001b[0m\u001b[0m\n\u001b[0m\u001b[0;32m     14\u001b[0m             \u001b[0mvis\u001b[0m\u001b[1;33m.\u001b[0m\u001b[0mcanvas\u001b[0m\u001b[1;33m.\u001b[0m\u001b[0mupdate\u001b[0m\u001b[1;33m(\u001b[0m\u001b[1;33m)\u001b[0m\u001b[1;33m\u001b[0m\u001b[1;33m\u001b[0m\u001b[0m\n\u001b[0;32m     15\u001b[0m             \u001b[0mvis\u001b[0m\u001b[1;33m.\u001b[0m\u001b[0mcanvas\u001b[0m\u001b[1;33m.\u001b[0m\u001b[0mafter\u001b[0m\u001b[1;33m(\u001b[0m\u001b[1;36m200\u001b[0m\u001b[1;33m)\u001b[0m\u001b[1;33m\u001b[0m\u001b[1;33m\u001b[0m\u001b[0m\n",
      "\u001b[1;32m~\\Desktop\\Tudo\\IIA\\TP11\\gworld.py\u001b[0m in \u001b[0;36magent_action\u001b[1;34m(self, aindx, action)\u001b[0m\n\u001b[0;32m    160\u001b[0m         \u001b[1;32melse\u001b[0m\u001b[1;33m:\u001b[0m\u001b[1;33m\u001b[0m\u001b[1;33m\u001b[0m\u001b[0m\n\u001b[0;32m    161\u001b[0m             \u001b[1;31m# print 'DoAction: ', aindx, y, x, nbors, action\u001b[0m\u001b[1;33m\u001b[0m\u001b[1;33m\u001b[0m\u001b[1;33m\u001b[0m\u001b[0m\n\u001b[1;32m--> 162\u001b[1;33m             \u001b[1;32mraise\u001b[0m \u001b[0mException\u001b[0m\u001b[1;33m(\u001b[0m\u001b[1;34m'Cell is not unoccupied! : ('\u001b[0m \u001b[1;33m+\u001b[0m \u001b[0mstr\u001b[0m\u001b[1;33m(\u001b[0m\u001b[0my\u001b[0m\u001b[1;33m)\u001b[0m \u001b[1;33m+\u001b[0m \u001b[1;34m','\u001b[0m \u001b[1;33m+\u001b[0m \u001b[0mstr\u001b[0m\u001b[1;33m(\u001b[0m\u001b[0mx\u001b[0m\u001b[1;33m)\u001b[0m \u001b[1;33m+\u001b[0m \u001b[1;34m') --> '\u001b[0m \u001b[1;33m+\u001b[0m \u001b[0mstr\u001b[0m\u001b[1;33m(\u001b[0m\u001b[0maction\u001b[0m\u001b[1;33m)\u001b[0m \u001b[1;33m)\u001b[0m\u001b[1;33m\u001b[0m\u001b[1;33m\u001b[0m\u001b[0m\n\u001b[0m\u001b[0;32m    163\u001b[0m         \u001b[1;32mreturn\u001b[0m \u001b[1;33m(\u001b[0m\u001b[1;36m0\u001b[0m\u001b[1;33m)\u001b[0m \u001b[1;32mif\u001b[0m \u001b[0mself\u001b[0m\u001b[1;33m.\u001b[0m\u001b[0maindx_cpos\u001b[0m\u001b[1;33m[\u001b[0m\u001b[0maindx\u001b[0m\u001b[1;33m]\u001b[0m \u001b[1;33m==\u001b[0m \u001b[0mself\u001b[0m\u001b[1;33m.\u001b[0m\u001b[0maindx_goal\u001b[0m\u001b[1;33m[\u001b[0m\u001b[0maindx\u001b[0m\u001b[1;33m]\u001b[0m \u001b[1;32melse\u001b[0m \u001b[1;33m(\u001b[0m\u001b[1;33m-\u001b[0m\u001b[1;36m1\u001b[0m\u001b[1;33m)\u001b[0m\u001b[1;33m\u001b[0m\u001b[1;33m\u001b[0m\u001b[0m\n\u001b[0;32m    164\u001b[0m \u001b[1;33m\u001b[0m\u001b[0m\n",
      "\u001b[1;31mException\u001b[0m: Cell is not unoccupied! : (0,0) --> 0"
     ]
    }
   ],
   "source": [
    "### Vamos agora ver a solução no canvas\n",
    "action_seq = dict()\n",
    "\n",
    "for agent in agents:\n",
    "    path_len = len(path_seq[agent])\n",
    "    path_maxlen = path_len if (path_len > path_maxlen) else path_maxlen\n",
    "    action_seq[agent] = w1.path_to_action(agent, path_seq[agent])\n",
    "\n",
    "for step in range(path_maxlen):\n",
    "    for agent in agents:\n",
    "        if( action_seq[agent] ):\n",
    "            action = action_seq[agent].pop(0)\n",
    "            w1.agent_action(agent, action)\n",
    "            vis.canvas.update()\n",
    "            vis.canvas.after(200)\n",
    "    vis.canvas.update()\n"
   ]
  },
  {
   "cell_type": "markdown",
   "metadata": {},
   "source": [
    "### Exercícios\n",
    "\n",
    "Vejam os vários mundos definidos abaixo (ficheiro mundo44.py) e executem o algoritmo de planeamento. Há vários cenários comentados, para irem descomentando à vez. \n",
    "\n",
    "Reparem que mal o planeador encontra um conflito expande os planos para SOMETIME passos (variável ```SOMETIME``` em ```macros.py```), o que conduz a planos que por vezes têm muita redundância. Os planos estão guardados ```path_seq```, um dicionário que associa a cada agente o seu plano. Definam uma função ```limpa_redundancia``` que dado um dicionário de plano (```path_seq```) retire os passos finais, quando o agente já não se move mais."
   ]
  },
  {
   "cell_type": "code",
   "execution_count": 12,
   "metadata": {},
   "outputs": [
    {
     "name": "stdout",
     "output_type": "stream",
     "text": [
      "[(0, 0, 2, 1), (0, 1, 1, 3)]\n",
      "Press 2 + <enter> to continue...\n"
     ]
    }
   ],
   "source": [
    "from gworld import *\n",
    "from visualize import *\n",
    "import m_astar\n",
    "import cbsearchPlus as cbs\n",
    "\n",
    "\n",
    "## mundo simples para debugging\n",
    "## e exemplos\n",
    "a = GridWorld(4,4)\n",
    "a.add_rocks([(1,2),(2,2),(3,3)])\n",
    "a.add_agents([(0,0,2,1), (0,1,1,3)])\n",
    "\n",
    "## Go around block. Wait aside for agent1 to pass\n",
    "## Takes too long. Need better conflict handling\n",
    "##a = GridWorld(6,10)\n",
    "##a.add_rocks( [ (2,1),(1,2),(1,3),(1,4),(3,1),(2,3),(3,3),(3,4) ] )\n",
    "##a.add_agents( [ (1,0,3,2), (1,1,2,2) ] )\n",
    "\n",
    "## 2 agents. Narrow path with a open slot on the wall\n",
    "## Waits too long. Need better conflict handling\n",
    "##a = GridWorld(6,10)\n",
    "##a.add_rocks( [ (1,0),(1,1),(1,2),(1,3),(1,4),(2,5),(1,6),(1,7),(1,8),(1,9),(0,9) ] )\n",
    "##a.add_agents( [ (0,0,0,8), (0,1,0,7) ] )\n",
    "\n",
    "## 3 agents. Few rocks. More space to swerve around\n",
    "#a = GridWorld(6,10)\n",
    "#a.add_rocks( [ (4,0),(4,1),(4,2),(1,7),(1,8),(1,9) ] )\n",
    "#a.add_agents( [ (0,7,5,1), (5,3,0,9), (0,3,5,9) ] )\n",
    "\n",
    "## 3 agents. Single passable block\n",
    "#a = GridWorld(6,10)\n",
    "#a.add_rocks( [ (4,0),(4,1),(4,2),(4,3),(4,4),(3,4),(1,6),(1,7),(1,8),(1,9) ] )\n",
    "#a.add_agents( [ (0,7,5,1), (5,3,0,9), (0,3,5,9) ] )\n",
    "\n",
    "## 4 agents. Few rocks. More space to swerve around\n",
    "## Need better conflict handling for an optimal path\n",
    "# a = GridWorld(6,10)\n",
    "# a.add_rocks( [ (4,0),(4,1),(4,2),(1,7),(1,8),(1,9) ] )\n",
    "# a.add_agents( [ (0,7,5,1), (5,3,0,9), (0,3,5,9), (3,0,3,9) ] )\n",
    "\n",
    "\n",
    "vis = Visualize(a)\n",
    "\n",
    "vis.draw_world()\n",
    "vis.draw_agents()\n",
    "\n",
    "vis.canvas.pack()\n",
    "vis.canvas.update()\n",
    "vis.canvas.after(500)\n",
    "\n",
    "agents = list(a.get_agents())\n",
    "\n",
    "conflict = False\n",
    "path_maxlen = 0\n",
    "constraints = []\n",
    "\n",
    "path_seq = dict()\n",
    "path_seq, pathcost, conflicts_db  = cbs.search(agents, a)\n",
    "\n",
    "### AQUI\n",
    "### limpa_redundancia(path_seq)\n",
    "\n",
    "something = input('Press 2 + <enter> to continue...')\n",
    "\n",
    "action_seq = dict()\n",
    "for agent in agents:\n",
    "    path_len = len(path_seq[agent])\n",
    "    path_maxlen = path_len if (path_len > path_maxlen) else path_maxlen\n",
    "    action_seq[agent] = a.path_to_action(agent, path_seq[agent])\n",
    "\n",
    "for step in range(path_maxlen):\n",
    "    for agent in agents:\n",
    "        # print 'ActSeq: ', agent, action_seq[agent]\n",
    "        if( action_seq[agent] ):\n",
    "            action = action_seq[agent].pop(0)\n",
    "            a.agent_action(agent, action)\n",
    "            vis.canvas.update()\n",
    "            vis.canvas.after(150)\n",
    "    vis.canvas.update()\n",
    "    vis.canvas.after(500)\n",
    "\n",
    "vis.canvas.update()\n",
    "vis.canvas.after(500)\n"
   ]
  },
  {
   "cell_type": "code",
   "execution_count": 13,
   "metadata": {},
   "outputs": [],
   "source": [
    "##### limpa_redundancia aqui\n",
    "# def limpa_redundancia(path_seq):\n",
    "\n",
    "#### um exemplo de path_seq a ser limpo\n",
    "\n",
    "path1 = {1: [(0, 0, 0), (1, 1, 0), (2, 1, 1), (3, 2, 1), (4, 2, 1), (5, 2, 1), (6, 2, 1), \n",
    "             (7, 2, 1), (8, 2, 1), (9, 2, 1), (10, 2, 1), (11, 2, 1), (12, 2, 1), \n",
    "             (13, 2, 1), (14, 2, 1), (15, 2, 1), (16, 2, 1), (17, 2, 1), (18, 2, 1), \n",
    "             (19, 2, 1), (20, 2, 1), (21, 2, 1), (22, 2, 1), (23, 2, 1), (24, 2, 1), \n",
    "             (25, 2, 1)], \n",
    "         2: [(0, 0, 1), (1, 0, 2), (2, 0, 3), (3, 1, 3), (4, 1, 3), (5, 1, 3), (6, 1, 3), \n",
    "             (7, 1, 3), (8, 1, 3), (9, 1, 3), (10, 1, 3), (11, 1, 3), (12, 1, 3), (13, 1, 3), \n",
    "             (14, 1, 3), (15, 1, 3), (16, 1, 3), (17, 1, 3), (18, 1, 3), (19, 1, 3), \n",
    "             (20, 1, 3), (21, 1, 3), (22, 1, 3), (23, 1, 3), (24, 1, 3), (25, 1, 3)]}\n"
   ]
  }
 ],
 "metadata": {
  "kernelspec": {
   "display_name": "Python 3",
   "language": "python",
   "name": "python3"
  },
  "language_info": {
   "codemirror_mode": {
    "name": "ipython",
    "version": 3
   },
   "file_extension": ".py",
   "mimetype": "text/x-python",
   "name": "python",
   "nbconvert_exporter": "python",
   "pygments_lexer": "ipython3",
   "version": "3.8.8"
  }
 },
 "nbformat": 4,
 "nbformat_minor": 2
}
