{
 "cells": [
  {
   "cell_type": "markdown",
   "metadata": {
    "colab_type": "text",
    "id": "LekFEsVbua_R"
   },
   "source": [
    "\n",
    "# Projeto nº 1 - Puzzle dos Robôs\n",
    "## Introdução à Inteligência Artificial - edição 2021/22\n",
    "\n",
    "\n",
    "\n",
    "<img src=\"robots.png\" alt=\"Drawing\" style=\"width: 250px;\"/>\n",
    "\n",
    "## Grupo: XX\n",
    "\n",
    "### Elementos do Grupo\n",
    "\n",
    "\n",
    "Número:          Nome:\n",
    "\n",
    "Número:          Nome:\n",
    "\n",
    "Número:          Nome:\n"
   ]
  },
  {
   "cell_type": "markdown",
   "metadata": {},
   "source": [
    "### Representação dos estados \n",
    "\n",
    "(descreva aqui, textualmente, como decidiu representar os estados em Python; apresente, nas células de código abaixo, a representação em Python do estado com N = 5 ilustrado no enunciado do relatório e de um estado à sua escolha com N = 7)"
   ]
  },
  {
   "cell_type": "code",
   "execution_count": 1,
   "metadata": {},
   "outputs": [],
   "source": [
    "# Se definiu uma classe para representar os estados, inclua aqui o código Python correspondente"
   ]
  },
  {
   "cell_type": "code",
   "execution_count": 2,
   "metadata": {},
   "outputs": [],
   "source": [
    "# Representação do estado com N=5 ilustrado no enunciado"
   ]
  },
  {
   "cell_type": "code",
   "execution_count": 3,
   "metadata": {},
   "outputs": [],
   "source": [
    "# Representação de um estado com N=7 à sua escolha"
   ]
  },
  {
   "cell_type": "markdown",
   "metadata": {},
   "source": [
    "### Representação das acções\n",
    "\n",
    "(explique aqui textualmente como decidiu representar em Python as acções admissíveis num dado estado; apresente na célula de código abaixo a sua definição para a classe PuzzleRobots)"
   ]
  },
  {
   "cell_type": "code",
   "execution_count": 4,
   "metadata": {},
   "outputs": [],
   "source": [
    "from searchPlus import *\n",
    "\n",
    "class PuzzleRobots(Problem):\n",
    "    \"\"\"Puzzle dos Robôs\"\"\"\n",
    "\n",
    "\n",
    "    def __init__(self, initial=None, goal=None):\n",
    "        \"\"\"Construtor: alterem os parâmetros a vosso gosto\"\"\"\n",
    "        #raise NotImplementedError\n",
    "    \n",
    "            \n",
    "    def actions(self, state):\n",
    "        \"\"\" The actions please\"\"\"\n",
    "        raise NotImplementedError\n",
    "    \n",
    "    def result(self, state, action): \n",
    "        \"\"\"Do not forget the result\"\"\"\n",
    "        raise NotImplementedError\n",
    "        \n",
    "    def goal_test(self,state):\n",
    "        \"\"\" Goal test please\"\"\"\n",
    "        raise NotImplementedError\n",
    "        \n",
    "    def path_cost(self, cost,state,action,new_state):\n",
    "        \"\"\" compute the cost of a transition\"\"\"\n",
    "        raise NotImplementedError\n",
    "    \n",
    "    def display(self, state):\n",
    "        \"\"\" print the state please\"\"\"\n",
    "        raise NotImplementedError\n",
    "\n",
    "    \n",
    "        \n"
   ]
  },
  {
   "cell_type": "markdown",
   "metadata": {},
   "source": [
    "### Criação de  instâncias do problema e execução de sequências de acções\n",
    "(Mostrem que o código está a funcionar, construindo instâncias da classe **PuzzleRobots**, fazendo o display dos estados, verificando o teste de estado final, gerando as acções para alguns estados, executando acções a partir de alguns estados e gerando novos estados e mostrando a evolução dos custos; verificando que os estados não se modificam com as acções (são gerados novos estados) e que a igualdade e a comparação entre estados funciona. Mostrem que a execução de sequências de acções está a funcionar bem.)"
   ]
  },
  {
   "cell_type": "code",
   "execution_count": 5,
   "metadata": {},
   "outputs": [],
   "source": [
    "# Definição de instância do problema com N=5 com estado inicial representado no enunciado\n",
    "#  TODO\n",
    "\n",
    "# Execução de uma sequência de acções até estado final com apresentação da evolução dos custos\n",
    "#  TODO\n",
    "\n",
    "# Execução de uma outra sequência distinta de acções até estado final com apresentação da evolução dos custos\n",
    "#  TODO"
   ]
  },
  {
   "cell_type": "code",
   "execution_count": 6,
   "metadata": {},
   "outputs": [],
   "source": [
    "# Definição de instância do problema com N=7 com estado inicial ilustrado no início deste relatório\n",
    "#  TODO\n",
    "\n",
    "# Execução de uma sequência de acções até estado final com apresentação da evolução dos custos\n",
    "#  TODO"
   ]
  },
  {
   "cell_type": "markdown",
   "metadata": {},
   "source": [
    "### Teste de Procura de Solução\n",
    "(Quem quiser ir mais além, até pode confirmar que o problema está bem modelizado utilizando alguns dos algoritmos de procura como o **depth-first-search()** ou o **breadth-first-search()**, nas suas versões em árvore ou em grafo)"
   ]
  },
  {
   "cell_type": "markdown",
   "metadata": {},
   "source": [
    "### Extras\n",
    "\n",
    "(Se realizou o extra descreva aqui como abordou a sua representação em Python; pode acrescentar as células que considere convenientes)"
   ]
  },
  {
   "cell_type": "code",
   "execution_count": 7,
   "metadata": {},
   "outputs": [],
   "source": [
    "class PuzzleRobotsGen(Problem):\n",
    "    pass"
   ]
  }
 ],
 "metadata": {
  "colab": {
   "collapsed_sections": [],
   "name": "Untitled0.ipynb",
   "provenance": [],
   "version": "0.3.2"
  },
  "kernelspec": {
   "display_name": "Python 3",
   "language": "python",
   "name": "python3"
  },
  "language_info": {
   "codemirror_mode": {
    "name": "ipython",
    "version": 3
   },
   "file_extension": ".py",
   "mimetype": "text/x-python",
   "name": "python",
   "nbconvert_exporter": "python",
   "pygments_lexer": "ipython3",
   "version": "3.8.8"
  }
 },
 "nbformat": 4,
 "nbformat_minor": 2
}
