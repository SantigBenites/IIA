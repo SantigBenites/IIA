{
 "cells": [
  {
   "cell_type": "markdown",
   "metadata": {},
   "source": [
    "\n",
    "## Projeto nº 1 : Puzzle dos Robôs\n",
    "\n",
    "### Introdução à Inteligência Artificial - edição 2021/22\n",
    "\n",
    "\n",
    "#### Entrega: 11 de Outubro\n",
    "\n",
    "\n"
   ]
  },
  {
   "cell_type": "markdown",
   "metadata": {
    "colab_type": "text",
    "id": "LekFEsVbua_R"
   },
   "source": [
    "##### O Puzzle dos robôs\n",
    "\n",
    "Numa grelha de *N*x*N* estão colocados *N* robôs pretos e um robô branco. O objectivo é encontrar a sequência de movimentos dos *N*+1 robôs que permite colocar o robô branco na casa central. Assume-se que *N* tem sempre um valor ímpar. \n",
    "\n",
    "Na figura abaixo ilustra-se uma possível situação inicial numa grelha de 5x5, portanto com 5 robôs pretos e um robô branco. A casa central para a qual se pretende deslocar o robô branco está assinalada a vermelho.\n",
    "\n",
    "<img src=\"robots.png\" alt=\"Drawing\" style=\"width: 250px;\"/>\n",
    "\n",
    "Uma acção consiste em movimentar um dos robôs (preto ou branco) na horizontal ou na vertical até uma casa adjacente à já ocupada por outro robô. Assim, apesar de um robô se poder deslocar em qualquer uma das quatro direcções, quando inicia um movimento só para quando encontra um outro robô numa casa adjacente à sua frente, caso contrário, a acção é considerada inadmissível. Por exemplo, na figura acima, o robô branco tem apenas dois movimentos admissíveis: para a direita (uma casa) ou para baixo (duas casas). No mesmo estado, o robô preto mais à esquerda não tem nenhum movimento admissível pois se começasse a andar, qualquer que fosse a direcção, não encontraria nenhum outro robô.\n",
    "\n",
    "Considere que o custo de uma solução é o número total de casas percorridas pelos *N*+1 robôs. Por exemplo, na figura acima, o custo da acção que corresponde ao robô preto na primeira linha se deslocar para baixo seria 2, enquanto o custo da acção que poderia ser executada por um dos robôs da linha 4 ao deslocarem-se lateralmente seria 1.\n",
    "\n",
    "\n"
   ]
  },
  {
   "cell_type": "markdown",
   "metadata": {},
   "source": [
    "### Objetivos\n",
    "Modelem este puzzle como um problema de procura num grafo, de acordo com o Paradigma do Espaço de Estados, usando a implementação disponibilizada pelo módulo ***searchPlus.py***.\n",
    "\n",
    "**Importante**\n",
    "\n",
    "1. Para facilitar a correcção, a subclasse de Problem que criarem tem de se chamar **PuzzleRobots**, mas a construção da instância do problema é livre quanto ao tipo e número de argumentos usados.\n",
    "\n",
    "2. Todas as acções executáveis a partir de um estado deverão ser acções admissíveis. Todos os estados, para uma instância do problema com dimensão *N*, deverão incluir *N* robôs pretos e um robô branco.\n",
    "\n",
    "3. Notem que terão que implementar o método ***display()*** que permite visualizar de modo *pretty* (em modo de texto) o estado do puzzle, para evitar mostrar os estados através da visualização bruta das estruturas de dados.\n",
    " \n",
    "4. Tenham atenção que se um estado *s* for input do método ***result()*** ele deve permanecer exactamente igual, não sendo modificado pela execução do método. Deve ser gerado um estado completamente novo *s*' que é devolvido e não alterar o estado *s* de input do método!\n",
    "    \n",
    "4. É importante que dois estados que representem a mesma situação de um puzzle sejam considerados iguais mesmo que sejam objectos distintos!"
   ]
  },
  {
   "cell_type": "markdown",
   "metadata": {},
   "source": [
    "### Extra\n",
    "\n",
    "O problema pode ser generalizado para incluir obstáculos fixos que ocupam casas da grelha.\n",
    " Um robô passa a poder movimentar-se até à casa adjacente a outro robô ou a um obstáculo. \n",
    " \n",
    "Os alunos que optem por fazer esta generalização devem, para além da classe PuzzleRobots referida acima,  definir uma outra subclasse de Problem chamada ***PuzzleRobotsGen***. \n",
    "\n",
    "Daremos um bónus de 10% da nota do projeto aos grupos que modelarem o problema de modo a podermos ter puzzles com grelhas que incluem até N obstáculos fixos.\n",
    "\n"
   ]
  },
  {
   "cell_type": "markdown",
   "metadata": {},
   "source": [
    "### Teste dos programas\n",
    "Fazendo uso das funcionalidades do notebook que permite a coexistência de texto e código, convém demonstrarem que os métodos ***actions()***, ***result()***, ***path_cost()*** e ***goal_test()*** estão a funcionar bem, ilustrando com exemplos. Não se esqueçam de explicar o 'pretty display' se não for muito intuitivo, e demonstrem também que não modificam os estados que sofrem as acções e que a igualdade dos estados só depende da igualdade das situações e admite objectos diferentes.\n",
    "\n",
    "Devem apresentar testes para instâncias do problema com diferentes valores de *N*."
   ]
  },
  {
   "cell_type": "markdown",
   "metadata": {},
   "source": [
    "O método ***exec()***, definido a seguir, permite executar uma sequência de acções a partir de um estado qualquer, devolvendo o estado resultante e o custo acumulado num par *(estadoRes,custoTotal)*. Podem usá-lo para testarem a execução de uma sequência de diversas acções partindo de um estado particular.\n",
    "\n",
    "```python\n",
    "def exec(self,estado,accoes):\n",
    "    custo = 0\n",
    "    for a in accoes:\n",
    "        seg = self.result(estado,a)\n",
    "        custo = self.path_cost(custo,estado,a,seg)\n",
    "        estado = seg\n",
    "    return (estado,custo)\n",
    "```\n",
    "\n",
    "Finalmente, podem executar, por exemplo, o algoritmo de procura em largura em árvore, para verificar se encontra a solução."
   ]
  },
  {
   "cell_type": "markdown",
   "metadata": {},
   "source": [
    "### Entrega"
   ]
  },
  {
   "cell_type": "markdown",
   "metadata": {},
   "source": [
    "#### Código e Relatório\n",
    "O  relatório é **obrigatório** e também o formato do ficheiro de submissão: o código e o relatório têm de ser entregues conjuntamente num único ficheiro Jupyter Notebook. Qualquer trabalho que não tenha relatório (só o código) ou que não cumpra esse formato não é avaliado e tem 0 de nota.\n",
    "\n",
    "No notebook podem explicar a modelação em python para os estados e acções, ilustrar e correr o código e apresentar os testes que fizeram. \n",
    "\n",
    "Nós fornecemos um ficheiro esqueleto, ***IIA2122-proj1-XX.ipynb***, (substituam XX pelo número do grupo). Não se esqueçam de preencher os nomes e números dos elementos do vosso grupo."
   ]
  },
  {
   "cell_type": "markdown",
   "metadata": {},
   "source": [
    "#### Código a não ser alterado\n",
    "**Não alterem** nem o ***utils.py*** nem o ***searchPlus.py*** e **não os devem submeter!** Iremos correr os mesmos 2 ficheiros para todos."
   ]
  },
  {
   "cell_type": "markdown",
   "metadata": {},
   "source": [
    "#### Submissão\n",
    "Um dos elementos do grupo deve submeter na página da cadeira no moodle um único ficheiro ***IIA2122-proj1-XX.ipynb*** até ao dia 11 de Outubro, às 23:59.\n",
    "Se forem efectuadas submissões repetidas, será avaliada a última.\n"
   ]
  }
 ],
 "metadata": {
  "colab": {
   "collapsed_sections": [],
   "name": "Untitled0.ipynb",
   "provenance": [],
   "version": "0.3.2"
  },
  "kernelspec": {
   "display_name": "Python 3",
   "language": "python",
   "name": "python3"
  },
  "language_info": {
   "codemirror_mode": {
    "name": "ipython",
    "version": 3
   },
   "file_extension": ".py",
   "mimetype": "text/x-python",
   "name": "python",
   "nbconvert_exporter": "python",
   "pygments_lexer": "ipython3",
   "version": "3.8.8"
  }
 },
 "nbformat": 4,
 "nbformat_minor": 2
}
