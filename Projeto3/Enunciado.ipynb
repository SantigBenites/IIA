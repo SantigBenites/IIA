{
 "cells": [
  {
   "cell_type": "markdown",
   "metadata": {},
   "source": [
    "## Projeto nº3: Aprendizagem Automática\n",
    "\n",
    "### Introdução à Inteligência Artificial 2021/2022\n",
    "\n",
    "#### Entrega: 20 de Dezembro às 23h59\n",
    "\n",
    "<img src=\"heartdisease.jpg\" width=\"300\">"
   ]
  },
  {
   "cell_type": "markdown",
   "metadata": {},
   "source": [
    "## Introdução\n",
    "\n",
    "As doenças cardiovasculares são a causa número um de morte em todo o mundo, cerca de 17,9 milhões de pessoas morrem a cada ano, o que representa 31% de todas as mortes em todo o mundo. Quatro em cada cinco mortes por doença cardiovascular são devidos a ataques cardíacos e derrames, e um terço dessas mortes ocorrem prematuramente em pessoas com menos de 70 anos de idade. A insuficiência cardíaca é um evento comum causado por doenças cardiovasculares e este conjunto de dados contém 11 características que podem ser usados para prever uma possível doença cardíaca. \n",
    "\n",
    "Pessoas com doenças cardiovasculares ou que apresentam risco cardiovascular elevado, devido à presença de um ou mais fatores de risco, como hipertensão, diabetes, hiperlipidemia ou doença já estabelecida, precisam de deteção precoce. O desenvolvimento de algoritmos de aprendizagem automática que ajudem na deteção precoce é uma mais valia para a área da saúde, sendo necessário a ajuda de um especialista de IA para desenvolver um modelo capaz de prever a existência de doença cardíaca a partir de alguns fatores de risco. \n",
    "\n",
    "\n",
    "#### Objetivo\n",
    "\n",
    "Pretende-se que a sua start-up (grupo de IIA) foi contactado para criarem um modelo que preveja se um dado paciente tem ou não doença cardíaca, usando os conhecimentos adquiridos na disciplina."
   ]
  },
  {
   "cell_type": "markdown",
   "metadata": {},
   "source": [
    "## Descrição do conjunto de dados\n",
    "\n",
    "O conjunto de dados `heart.csv` é composto por 623 pacientes seguidos numa clínica especializada em doenças cardiovasculares. Este conjunto de dados tem 13 colunas, sendo a última coluna (*HeartDisease*) a classe de cada um dos pacientes. No contexto deste problema definem-se apenas duas classes: *Normal* e *Heart disease*.\n",
    "\n",
    "Para garantir a qualidade do modelo, a clínica decidiu manter alguns pacientes sem classe, **para avaliar qual o melhor modelo desenvolvido pela start-up**. Assim, é ainda fornecido um conjunto de teste `test.csv` para o qual devem fazer previsões das classes de cada um dos pacientes. Este  conjunto é composto por 208 pacientes, com os mesmos atributos que o conjunto `heart.csv`, mas sem a coluna correspondente à classe (a qual se mantém na posse da clínica). A qualidade dos modelos desenvolvidos será assim avaliada com base no desempenho (*accuracy*) neste conjunto de teste.\n",
    "\n",
    "#### Informação sobre os atributos\n",
    "1. ID: identificação do paciente\n",
    "2. Age: idade do paciente [anos]\n",
    "3. Sex: género do paciente [M: male; F: female]\n",
    "4. ChestPainType: tipo de dor no peito [TA: typical angina; ATA: atypical angina; NAP: non-anginal pain; ASY: asymptomatic]\n",
    "5. RestingBP: pressão sanguínea em repouso [mm Hg]\n",
    "6. Cholesterol: colesterol [mm/dl]\n",
    "7. FastingBS: açúcar no sangue em jejum [1: se FastingBS > 120 mg/dl; 0: caso contrário]\n",
    "8. RestingECG: resultados de electrocardiograma em repouso [Normal: normal; ST: ter anormalidade da onda ST-T (inversões da onda T e/ou elevação ou depressão de ST > 0.05mV; HVE: mostrar hipertrofia ventricular esquerda provável ou definitiva pelos critérios de Estes]\n",
    "9. MaxHR: frequência cardíaca máxima atingida [valor numérico entre 60 e 202]\n",
    "10. ExerciseAngina: angina induzida por exercício [Y: yes; N: no]\n",
    "11. Oldpeak: ST [valor numérico medido na depressão]\n",
    "12. ST_slope: inclinação do pico do segmento ST durante exercício [Up: inclinação ascendente; Flat: plano; Down: inclinação descendente]\n",
    "13. HeartDisease: classe [Heart disease: doença cardíaca; Normal: normal]"
   ]
  },
  {
   "cell_type": "markdown",
   "metadata": {},
   "source": [
    "## Etapas do trabalho a executar\n",
    "\n",
    "Para organizar o seu trabalho e encontrar o melhor modelo de forma organizada, sugere-se a seguinte série de etapas:\n",
    "\n",
    "**Etapa 1: carregar o conjunto de dados**  \n",
    "Faça load dos dados com a função `load_data` do módulo `utilsAA` fornecido com este guião.\n",
    "```python\n",
    "def load_data(fname, testdata=False):\n",
    "    \"\"\"Load CSV file with any number of consecutive features, \n",
    "       starting in column 0, where last column is the class\n",
    "       \n",
    "       Arguments:\n",
    "           fname is a string with the filename \n",
    "           testdata is False if the csv file has the last column \n",
    "                    with class labels; and True if the csv file \n",
    "                    does not have that column (i.e., read a test \n",
    "                    file without class)\n",
    "       Returns:\n",
    "           table_X matrix with data\n",
    "           table_y array with classes (if testdata=False)\n",
    "           features array with features names\n",
    "           target array with target name (if testdata=False)\n",
    "    \"\"\"\n",
    "```\n",
    "\n",
    "**Etapa 2: processar os dados**  \n",
    "Verifique se os seus dados estão prontos a serem usados pelos algoritmos. Se precisar de identificar quais os valores possiveis num atributo utilize a função `unique` do módulo `numpy`.\n",
    "\n",
    "**Etapa 3: procura do melhor modelo**  \n",
    "Experimente os algoritmos árvores de decisão e k vizinhos mais próximos, variando os respetivos parâmetros. Escolha, justificando, um único modelo de entre todos os modelos treinados para aplicar no conjunto de teste fornecido.\n",
    "\n",
    "**Etapa 4: gravar as previsões para o conjunto de teste fornecido**  \n",
    "Após a escolha do melhor modelo, faça load dos dados de teste com a mesma função `load_data`, mas usando o argumento `testdata=True`, para ler os dados sem a coluna das classes (que não irá existir neste conjunto de dados). \n",
    "```python\n",
    "data, features_names = load_data(fname,testdata=True)\n",
    "```\n",
    "Atenção: o processamento que fizer na etapa 2 relativo aos seus dados (`heart.csv`) deverá ser também aplicado ao conjunto de teste (`test.csv`) antes de aplicar o modelo. Depois de fazer as previsões com o modelo escolhido, use a função `save_data` para gravar as suas previsões para o conjunto de teste. Deverá submeter este ficheiro `.csv` para validação do modelo seleccionado. \n",
    "```python\n",
    "def save_data(fname,prev):\n",
    "    \"\"\"Save a CSV file with the content of prev\n",
    "    \n",
    "       Arguments:\n",
    "           fname is a string corresponding to the filename\n",
    "           prev array to save in the CSV file\n",
    "    \"\"\"\n",
    "```\n",
    "\n",
    "### Extra: \n",
    "Para além das árvores de decisão e do k vizinhos mais próximo, podem treinar redes neuronais para classificar os pacientes. A escolha do melhor modelo da etapa 3 pode incluir as redes neuronais, para além das árvores de decisão e do k vizinhos mais próximos. Os projetos que tenham redes neuronais bem treinadas terão um bonificação de 10% da nota."
   ]
  },
  {
   "cell_type": "markdown",
   "metadata": {},
   "source": [
    "## Entrega\n",
    "\n",
    "Cada grupo deverá entregar um zip com dois ficheiros: o relatório e o ficheiro com as previsões do seu modelo para o conjunto de teste.\n",
    "\n",
    "O relatório é **obrigatório** e deverá ser escrito no Jupyter Notebook com o nome **IIA2021-proj3-XX.ipynb**, substituindo **XX** pelo número do grupo. O relatório deverá descrever as etapas no desenvolvimento do trabalho e ainda incluir:\n",
    "* Identificação do número do grupo e dos respetivos membros\n",
    "* Explicação e justificações (sempre que necessário) para cada uma das etapas do trabalho\n",
    "* Código que executa cada uma das etapas e respetivos resultados (accuracy)\n",
    "\n",
    "O ficheiro de previsões para o conjunto de teste fornecido deverá ser gravado seguindo as indicações da etapa 4 e deverá chamar-se **IIA2021-proj3-XX.csv**, novamente substituindo **XX** pelo número do grupo. Não deve alterar o conteúdo deste ficheiro gravado na etapa 4 com a função `save_data`. **Quem não cumprir esta especificação não será avaliado e terá 0 de nota.** Para validar que o ficheiro `.csv` cumpre as regras, poderá abri-lo num editor de texto, e verificar que contém uma única coluna com 208 linhas (previsões).\n",
    "\n",
    "### Prazo\n",
    "\n",
    "O prazo de entrega é **20 de Dezembro às 23h59** no moodle."
   ]
  },
  {
   "cell_type": "markdown",
   "metadata": {},
   "source": [
    "## Avaliação\n",
    "A nota do projecto depende das 3 componentes seguintes (70%+20%+10%):\n",
    "\n",
    "**Metodologia adotada (70%)**: Descrição e apresentação de código e resultados referentes à metodologia adotada, isto é, pré-processamento dos dados efetuado (etapa 2), e classificadores treinados e comparação entre eles para seleção do melhor (etapa 3).\n",
    "\n",
    "**Avaliação do desempenho (20%)**: Classificação das amostras do conjunto de teste fornecido usando o melhor modelo escolhido e comparação com as classes verdadeiras não fornecidas.\n",
    "   \n",
    "**Relatório (10%)**: Estrutura, apresentação e qualidade do relatório.\n",
    "\n",
    "### Penalizações\n",
    "    - Entregue nas 3hs seguintes: sem penalização\n",
    "    - A partir das 3h e até às 12h do dia seguinte: 20% de penalização\n",
    "    - Não é aceite a partir das 12h do dia seguinte."
   ]
  },
  {
   "cell_type": "code",
   "execution_count": null,
   "metadata": {},
   "outputs": [],
   "source": []
  }
 ],
 "metadata": {
  "kernelspec": {
   "display_name": "Python 3 (ipykernel)",
   "language": "python",
   "name": "python3"
  },
  "language_info": {
   "codemirror_mode": {
    "name": "ipython",
    "version": 3
   },
   "file_extension": ".py",
   "mimetype": "text/x-python",
   "name": "python",
   "nbconvert_exporter": "python",
   "pygments_lexer": "ipython3",
   "version": "3.8.8"
  }
 },
 "nbformat": 4,
 "nbformat_minor": 4
}
